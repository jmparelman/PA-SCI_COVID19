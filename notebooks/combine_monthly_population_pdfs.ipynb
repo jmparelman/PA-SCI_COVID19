{
 "cells": [
  {
   "cell_type": "code",
   "execution_count": 2,
   "metadata": {},
   "outputs": [],
   "source": [
    "import pandas as pd \n",
    "import tabula as tb"
   ]
  },
  {
   "cell_type": "code",
   "execution_count": 36,
   "metadata": {},
   "outputs": [],
   "source": [
    "file_str = '../data/monthly_populations/Mtpop20-{month}.pdf'\n",
    "def pop_parser(month):\n",
    "    if len(str(month)) == 1:\n",
    "        month = f\"0{month}\"\n",
    "    \n",
    "    df = tb.read_pdf(file_str.format(month = month))\n",
    "    df = df.iloc[3:27,1:]\n",
    "    df.columns = ['Institution','Population','Capacity','Pct_Capacity']\n",
    "    df['Institution'] = df['Institution'].str.slice(0,-6)\n",
    "    df['Population'] = df['Population'].str.replace(',','').astype(int)\n",
    "    df['Capacity'] = df['Capacity'].str.replace(',','').astype(int)\n",
    "    df['Pct_Capacity'] = df['Pct_Capacity'].astype(float)\n",
    "    df['date'] = f'2020-{month}-01'\n",
    "    return df"
   ]
  },
  {
   "cell_type": "code",
   "execution_count": 41,
   "metadata": {},
   "outputs": [
    {
     "name": "stdout",
     "output_type": "stream",
     "text": [
      "4\n",
      "5\n",
      "6\n",
      "7\n",
      "8\n",
      "9\n",
      "10\n"
     ]
    }
   ],
   "source": [
    "dfs = []\n",
    "for i in range(4,11):\n",
    "    print(i)\n",
    "    dfs.append(pop_parser(i))"
   ]
  },
  {
   "cell_type": "code",
   "execution_count": 45,
   "metadata": {},
   "outputs": [],
   "source": [
    "combined = pd.concat(dfs)\n",
    "combined.loc[combined['Institution'] == 'Quehanna Boot Camp'] = \"Quehanna\""
   ]
  },
  {
   "cell_type": "code",
   "execution_count": 47,
   "metadata": {},
   "outputs": [],
   "source": [
    "combined.to_csv('../data/monthly_populations/combined_monthly_populations.csv')"
   ]
  }
 ],
 "metadata": {
  "kernelspec": {
   "display_name": "Python 3",
   "language": "python",
   "name": "python3"
  },
  "language_info": {
   "codemirror_mode": {
    "name": "ipython",
    "version": 3
   },
   "file_extension": ".py",
   "mimetype": "text/x-python",
   "name": "python",
   "nbconvert_exporter": "python",
   "pygments_lexer": "ipython3",
   "version": "3.7.5"
  }
 },
 "nbformat": 4,
 "nbformat_minor": 2
}
