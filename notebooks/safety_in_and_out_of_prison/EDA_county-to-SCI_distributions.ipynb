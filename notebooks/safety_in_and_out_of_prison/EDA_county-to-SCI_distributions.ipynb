{
 "cells": [
  {
   "cell_type": "code",
   "execution_count": 105,
   "metadata": {},
   "outputs": [],
   "source": [
    "import pandas as pd\n",
    "import numpy as np\n",
    "from plotnine import ggplot, geoms, theme, scales, ggtitle, labels\n",
    "from plotnine import element_blank,element_line,element_rect,element_text\n",
    "\n",
    "%matplotlib inline\n"
   ]
  },
  {
   "cell_type": "code",
   "execution_count": 168,
   "metadata": {},
   "outputs": [],
   "source": [
    "snapshot = pd.read_csv('../../data/comparing_SCI-County/County_pop_over_SCI.csv')\n",
    "pop_data = pd.read_csv('../../data/latest_data/Daily_Populations_aggregated.csv')"
   ]
  },
  {
   "cell_type": "markdown",
   "metadata": {},
   "source": [
    "## Identifying discrepancies between SCI population reports from scraped snapshot data\n",
    "\n",
    "It is likely that there will be inconsistencies between these two data sources. Specifically, see the following statement from the DOC:\n",
    "\n",
    "<blockquote cite=http://inmatelocator.cor.pa.gov/#/>\n",
    "The Pennsylvania Department of Corrections and Pennsylvania Board of Probation and Parole update this information daily. The Pennsylvania Department of Corrections and Pennsylvania Board of Probation and Parole make no representation as to the accuracy, completeness or utility of this information, and assume no liability for inaccurate information, delays in updating data, errors, omissions or for any use of the information provided herein.\n",
    "</blockquote>\n",
    "\n",
    "##### Snapshot Data\n",
    "The current snapshot of the distribution of incarcerated peoples' (IC) by committing county over SCI was taken on `03/11/2021.` \n",
    "\n",
    "Snapshot Source: PA DOC inmate/parolee locator <a href= http://inmatelocator.cor.pa.gov/#/> http://inmatelocator.cor.pa.gov/#/</a>\n",
    "\n",
    "the snapshot has three useful fields\n",
    "* county: the committing county of the offense, $c_1 . . . c_i$\n",
    "* location: SCI, $l_1 . . . l_j$\n",
    "* incarcerated persons: the number of incarcerated people in SCI $l_j$ who committed offense in county $c_i$. \n",
    "\n",
    "##### Population Report Data\n",
    "The population data reported here spans `04/07/2020 - 03/10/2021`. Here we use the most recent date (`03/10/2021`) for our comparison. The date discrepancy is one potential source of uncertainty with the current comparison. "
   ]
  },
  {
   "cell_type": "markdown",
   "metadata": {},
   "source": [
    "### Prepare data for comparison"
   ]
  },
  {
   "cell_type": "code",
   "execution_count": 185,
   "metadata": {},
   "outputs": [],
   "source": [
    "pop_data['date'] = pd.to_datetime(pop_data['date'])\n",
    "latest_pop = (pop_data.loc[pop_data['date'] == pop_data['date'].max(),['SCI','population']])\n",
    "latest_pop['SCI'] = latest_pop['SCI'].str.title()\n",
    "latest_pop['source'] = \"DOC Reports\""
   ]
  },
  {
   "cell_type": "code",
   "execution_count": 170,
   "metadata": {},
   "outputs": [
    {
     "data": {
      "text/html": [
       "<div>\n",
       "<style scoped>\n",
       "    .dataframe tbody tr th:only-of-type {\n",
       "        vertical-align: middle;\n",
       "    }\n",
       "\n",
       "    .dataframe tbody tr th {\n",
       "        vertical-align: top;\n",
       "    }\n",
       "\n",
       "    .dataframe thead th {\n",
       "        text-align: right;\n",
       "    }\n",
       "</style>\n",
       "<table border=\"1\" class=\"dataframe\">\n",
       "  <thead>\n",
       "    <tr style=\"text-align: right;\">\n",
       "      <th></th>\n",
       "      <th>SCI</th>\n",
       "      <th>population</th>\n",
       "      <th>source</th>\n",
       "    </tr>\n",
       "  </thead>\n",
       "  <tbody>\n",
       "    <tr>\n",
       "      <th>8550</th>\n",
       "      <td>Albion</td>\n",
       "      <td>2133.0</td>\n",
       "      <td>DOC Reports</td>\n",
       "    </tr>\n",
       "    <tr>\n",
       "      <th>8551</th>\n",
       "      <td>Benner</td>\n",
       "      <td>1964.0</td>\n",
       "      <td>DOC Reports</td>\n",
       "    </tr>\n",
       "    <tr>\n",
       "      <th>8552</th>\n",
       "      <td>Camp Hill</td>\n",
       "      <td>2017.0</td>\n",
       "      <td>DOC Reports</td>\n",
       "    </tr>\n",
       "    <tr>\n",
       "      <th>8553</th>\n",
       "      <td>Cambridge Springs</td>\n",
       "      <td>879.0</td>\n",
       "      <td>DOC Reports</td>\n",
       "    </tr>\n",
       "    <tr>\n",
       "      <th>8554</th>\n",
       "      <td>Chester</td>\n",
       "      <td>1021.0</td>\n",
       "      <td>DOC Reports</td>\n",
       "    </tr>\n",
       "  </tbody>\n",
       "</table>\n",
       "</div>"
      ],
      "text/plain": [
       "                    SCI  population       source\n",
       "8550             Albion      2133.0  DOC Reports\n",
       "8551             Benner      1964.0  DOC Reports\n",
       "8552          Camp Hill      2017.0  DOC Reports\n",
       "8553  Cambridge Springs       879.0  DOC Reports\n",
       "8554            Chester      1021.0  DOC Reports"
      ]
     },
     "execution_count": 170,
     "metadata": {},
     "output_type": "execute_result"
    }
   ],
   "source": [
    "latest_pop.head()"
   ]
  },
  {
   "cell_type": "code",
   "execution_count": 186,
   "metadata": {},
   "outputs": [],
   "source": [
    "snapshot['SCI'] = snapshot['location'].str.title()\n",
    "snapshot['county'] = snapshot['county'].str.title()\n",
    "snapshot_summed = (snapshot[['county','SCI','incarcerated_persons']]\n",
    "                   .groupby('SCI')\n",
    "                   .sum()\n",
    "                   .reset_index())\n",
    "\n",
    "snapshot_summed.columns = ['SCI','population']\n",
    "snapshot_summed['source'] = 'snapshot'"
   ]
  },
  {
   "cell_type": "code",
   "execution_count": 187,
   "metadata": {},
   "outputs": [
    {
     "data": {
      "text/html": [
       "<div>\n",
       "<style scoped>\n",
       "    .dataframe tbody tr th:only-of-type {\n",
       "        vertical-align: middle;\n",
       "    }\n",
       "\n",
       "    .dataframe tbody tr th {\n",
       "        vertical-align: top;\n",
       "    }\n",
       "\n",
       "    .dataframe thead th {\n",
       "        text-align: right;\n",
       "    }\n",
       "</style>\n",
       "<table border=\"1\" class=\"dataframe\">\n",
       "  <thead>\n",
       "    <tr style=\"text-align: right;\">\n",
       "      <th></th>\n",
       "      <th>SCI</th>\n",
       "      <th>population</th>\n",
       "      <th>source</th>\n",
       "    </tr>\n",
       "  </thead>\n",
       "  <tbody>\n",
       "    <tr>\n",
       "      <th>0</th>\n",
       "      <td>Albion</td>\n",
       "      <td>2066</td>\n",
       "      <td>snapshot</td>\n",
       "    </tr>\n",
       "    <tr>\n",
       "      <th>1</th>\n",
       "      <td>Benner Township</td>\n",
       "      <td>1885</td>\n",
       "      <td>snapshot</td>\n",
       "    </tr>\n",
       "    <tr>\n",
       "      <th>2</th>\n",
       "      <td>Cambridge Springs</td>\n",
       "      <td>860</td>\n",
       "      <td>snapshot</td>\n",
       "    </tr>\n",
       "    <tr>\n",
       "      <th>3</th>\n",
       "      <td>Camp Hill</td>\n",
       "      <td>1886</td>\n",
       "      <td>snapshot</td>\n",
       "    </tr>\n",
       "    <tr>\n",
       "      <th>4</th>\n",
       "      <td>Chester</td>\n",
       "      <td>981</td>\n",
       "      <td>snapshot</td>\n",
       "    </tr>\n",
       "  </tbody>\n",
       "</table>\n",
       "</div>"
      ],
      "text/plain": [
       "                 SCI  population    source\n",
       "0             Albion        2066  snapshot\n",
       "1    Benner Township        1885  snapshot\n",
       "2  Cambridge Springs         860  snapshot\n",
       "3          Camp Hill        1886  snapshot\n",
       "4            Chester         981  snapshot"
      ]
     },
     "execution_count": 187,
     "metadata": {},
     "output_type": "execute_result"
    }
   ],
   "source": [
    "snapshot_summed.head()"
   ]
  },
  {
   "cell_type": "markdown",
   "metadata": {},
   "source": [
    "<strong>Need to make sure that all SCI names are consistent</strong>"
   ]
  },
  {
   "cell_type": "code",
   "execution_count": 188,
   "metadata": {},
   "outputs": [
    {
     "data": {
      "text/plain": [
       "['Benner Township', 'Quehanna Boot Camp']"
      ]
     },
     "execution_count": 188,
     "metadata": {},
     "output_type": "execute_result"
    }
   ],
   "source": [
    "[i for i in snapshot_summed['SCI'] if i not in list(latest_pop['SCI'])]"
   ]
  },
  {
   "cell_type": "code",
   "execution_count": 189,
   "metadata": {},
   "outputs": [],
   "source": [
    "snapshot_summed.loc[snapshot_summed.SCI == \"Benner Township\",'SCI'] = 'Benner'\n",
    "snapshot_summed.loc[snapshot_summed.SCI == \"Quehanna Boot Camp\",'SCI'] = 'Quehanna'"
   ]
  },
  {
   "cell_type": "code",
   "execution_count": 190,
   "metadata": {},
   "outputs": [
    {
     "data": {
      "text/plain": [
       "[]"
      ]
     },
     "execution_count": 190,
     "metadata": {},
     "output_type": "execute_result"
    }
   ],
   "source": [
    "[i for i in snapshot_summed['SCI'] if i not in list(latest_pop['SCI'])]"
   ]
  },
  {
   "cell_type": "markdown",
   "metadata": {},
   "source": [
    "#### Merge sources"
   ]
  },
  {
   "cell_type": "code",
   "execution_count": 191,
   "metadata": {},
   "outputs": [],
   "source": [
    "pops_merged = pd.merge(snapshot_summed,latest_pop,on='SCI',how='inner')\n",
    "pops_merged = pops_merged[['SCI','population_x','population_y']]\n",
    "pops_merged.columns = ['SCI','snapshot','DOC report']"
   ]
  },
  {
   "cell_type": "code",
   "execution_count": 192,
   "metadata": {},
   "outputs": [
    {
     "data": {
      "image/png": "[encoded data removed]",
      "text/plain": [
       "<Figure size 1200x500 with 1 Axes>"
      ]
     },
     "metadata": {},
     "output_type": "display_data"
    },
    {
     "data": {
      "text/plain": [
       "<ggplot: (320073245)>"
      ]
     },
     "execution_count": 192,
     "metadata": {},
     "output_type": "execute_result"
    }
   ],
   "source": [
    "(\n",
    "    ggplot(pops_merged.melt(id_vars='SCI'),aes(x = \"SCI\",y='value',fill='variable')) +\n",
    "    geoms.geom_bar(stat='identity',position='dodge') + \n",
    "    theme(figure_size=(12,5),\n",
    "         axis_text_x = element_text(angle = 45, hjust = 1),\n",
    "         panel_background=element_blank(),\n",
    "         panel_grid_major_y=element_line(color='grey',size=0.3),\n",
    "         legend_title=element_blank()) +\n",
    "    ggtitle(\"Total Population Counts: PA DOC vs. Scraped\") +\n",
    "    labels.xlab('') +\n",
    "    labels.ylab('Population')\n",
    ")\n"
   ]
  },
  {
   "cell_type": "markdown",
   "metadata": {},
   "source": [
    "<strong> The Snapshot and DOC Reported population data seem to be very similar. This provides credibility to the data scraped from the inmate/parolee locater. </strong>"
   ]
  },
  {
   "cell_type": "markdown",
   "metadata": {},
   "source": [
    "<hr>\n",
    "\n",
    "## Distributions of committing counties over SCI"
   ]
  },
  {
   "cell_type": "code",
   "execution_count": 193,
   "metadata": {},
   "outputs": [],
   "source": [
    "def get_proportion(v):\n",
    "    summ = v.sum()\n",
    "    return v/summ\n",
    "\n",
    "snapshot['proportion_by_sci'] = snapshot.groupby('SCI')['incarcerated_persons'].apply(get_proportion)"
   ]
  },
  {
   "cell_type": "code",
   "execution_count": 194,
   "metadata": {},
   "outputs": [
    {
     "data": {
      "text/plain": [
       "SCI\n",
       "Albion                1.0\n",
       "Benner Township       1.0\n",
       "Cambridge Springs     1.0\n",
       "Camp Hill             1.0\n",
       "Chester               1.0\n",
       "Coal Township         1.0\n",
       "Dallas                1.0\n",
       "Fayette               1.0\n",
       "Forest                1.0\n",
       "Frackville            1.0\n",
       "Greene                1.0\n",
       "Houtzdale             1.0\n",
       "Huntingdon            1.0\n",
       "Laurel Highlands      1.0\n",
       "Mahanoy               1.0\n",
       "Mercer                1.0\n",
       "Muncy                 1.0\n",
       "Phoenix               1.0\n",
       "Pine Grove            1.0\n",
       "Quehanna Boot Camp    1.0\n",
       "Rockview              1.0\n",
       "Smithfield            1.0\n",
       "Somerset              1.0\n",
       "Waymart               1.0\n",
       "Name: proportion_by_sci, dtype: float64"
      ]
     },
     "execution_count": 194,
     "metadata": {},
     "output_type": "execute_result"
    }
   ],
   "source": [
    "# check taht groupby apply worked\n",
    "snapshot.groupby('SCI').proportion_by_sci.sum()"
   ]
  },
  {
   "cell_type": "code",
   "execution_count": 195,
   "metadata": {},
   "outputs": [],
   "source": [
    "def print_top(x):\n",
    "    _sorted = x.sort_values(by = 'proportion_by_sci',ascending=False)\n",
    "    return _sorted[['county','SCI','incarcerated_persons','proportion_by_sci']].head()\n"
   ]
  },
  {
   "cell_type": "code",
   "execution_count": 196,
   "metadata": {},
   "outputs": [
    {
     "data": {
      "text/html": [
       "<div>\n",
       "<style scoped>\n",
       "    .dataframe tbody tr th:only-of-type {\n",
       "        vertical-align: middle;\n",
       "    }\n",
       "\n",
       "    .dataframe tbody tr th {\n",
       "        vertical-align: top;\n",
       "    }\n",
       "\n",
       "    .dataframe thead th {\n",
       "        text-align: right;\n",
       "    }\n",
       "</style>\n",
       "<table border=\"1\" class=\"dataframe\">\n",
       "  <thead>\n",
       "    <tr style=\"text-align: right;\">\n",
       "      <th></th>\n",
       "      <th>county</th>\n",
       "      <th>SCI</th>\n",
       "      <th>incarcerated_persons</th>\n",
       "      <th>proportion_by_sci</th>\n",
       "    </tr>\n",
       "  </thead>\n",
       "  <tbody>\n",
       "    <tr>\n",
       "      <th>1241</th>\n",
       "      <td>Philadelphia</td>\n",
       "      <td>Phoenix</td>\n",
       "      <td>1330</td>\n",
       "      <td>0.452689</td>\n",
       "    </tr>\n",
       "    <tr>\n",
       "      <th>545</th>\n",
       "      <td>Delaware</td>\n",
       "      <td>Phoenix</td>\n",
       "      <td>237</td>\n",
       "      <td>0.080667</td>\n",
       "    </tr>\n",
       "    <tr>\n",
       "      <th>1097</th>\n",
       "      <td>Montgomery</td>\n",
       "      <td>Phoenix</td>\n",
       "      <td>161</td>\n",
       "      <td>0.054799</td>\n",
       "    </tr>\n",
       "    <tr>\n",
       "      <th>209</th>\n",
       "      <td>Bucks</td>\n",
       "      <td>Phoenix</td>\n",
       "      <td>141</td>\n",
       "      <td>0.047992</td>\n",
       "    </tr>\n",
       "    <tr>\n",
       "      <th>353</th>\n",
       "      <td>Chester</td>\n",
       "      <td>Phoenix</td>\n",
       "      <td>120</td>\n",
       "      <td>0.040844</td>\n",
       "    </tr>\n",
       "  </tbody>\n",
       "</table>\n",
       "</div>"
      ],
      "text/plain": [
       "            county      SCI  incarcerated_persons  proportion_by_sci\n",
       "1241  Philadelphia  Phoenix                  1330           0.452689\n",
       "545       Delaware  Phoenix                   237           0.080667\n",
       "1097    Montgomery  Phoenix                   161           0.054799\n",
       "209          Bucks  Phoenix                   141           0.047992\n",
       "353        Chester  Phoenix                   120           0.040844"
      ]
     },
     "execution_count": 196,
     "metadata": {},
     "output_type": "execute_result"
    }
   ],
   "source": [
    "print_top(\n",
    "    snapshot.loc[snapshot['SCI'] == \"Phoenix\"]\n",
    ")"
   ]
  },
  {
   "cell_type": "code",
   "execution_count": 210,
   "metadata": {},
   "outputs": [
    {
     "data": {
      "text/html": [
       "<div>\n",
       "<style scoped>\n",
       "    .dataframe tbody tr th:only-of-type {\n",
       "        vertical-align: middle;\n",
       "    }\n",
       "\n",
       "    .dataframe tbody tr th {\n",
       "        vertical-align: top;\n",
       "    }\n",
       "\n",
       "    .dataframe thead th {\n",
       "        text-align: right;\n",
       "    }\n",
       "</style>\n",
       "<table border=\"1\" class=\"dataframe\">\n",
       "  <thead>\n",
       "    <tr style=\"text-align: right;\">\n",
       "      <th></th>\n",
       "      <th>county</th>\n",
       "      <th>SCI</th>\n",
       "      <th>incarcerated_persons</th>\n",
       "      <th>proportion_by_sci</th>\n",
       "    </tr>\n",
       "  </thead>\n",
       "  <tbody>\n",
       "    <tr>\n",
       "      <th>1241</th>\n",
       "      <td>Philadelphia</td>\n",
       "      <td>Phoenix</td>\n",
       "      <td>1330</td>\n",
       "      <td>0.452689</td>\n",
       "    </tr>\n",
       "    <tr>\n",
       "      <th>1230</th>\n",
       "      <td>Philadelphia</td>\n",
       "      <td>Dallas</td>\n",
       "      <td>610</td>\n",
       "      <td>0.398172</td>\n",
       "    </tr>\n",
       "    <tr>\n",
       "      <th>1233</th>\n",
       "      <td>Philadelphia</td>\n",
       "      <td>Frackville</td>\n",
       "      <td>390</td>\n",
       "      <td>0.365511</td>\n",
       "    </tr>\n",
       "    <tr>\n",
       "      <th>1238</th>\n",
       "      <td>Philadelphia</td>\n",
       "      <td>Mahanoy</td>\n",
       "      <td>734</td>\n",
       "      <td>0.345249</td>\n",
       "    </tr>\n",
       "    <tr>\n",
       "      <th>1236</th>\n",
       "      <td>Philadelphia</td>\n",
       "      <td>Huntingdon</td>\n",
       "      <td>576</td>\n",
       "      <td>0.343266</td>\n",
       "    </tr>\n",
       "    <tr>\n",
       "      <th>1229</th>\n",
       "      <td>Philadelphia</td>\n",
       "      <td>Coal Township</td>\n",
       "      <td>630</td>\n",
       "      <td>0.316742</td>\n",
       "    </tr>\n",
       "    <tr>\n",
       "      <th>1228</th>\n",
       "      <td>Philadelphia</td>\n",
       "      <td>Chester</td>\n",
       "      <td>290</td>\n",
       "      <td>0.295617</td>\n",
       "    </tr>\n",
       "    <tr>\n",
       "      <th>1244</th>\n",
       "      <td>Philadelphia</td>\n",
       "      <td>Rockview</td>\n",
       "      <td>416</td>\n",
       "      <td>0.286304</td>\n",
       "    </tr>\n",
       "    <tr>\n",
       "      <th>1232</th>\n",
       "      <td>Philadelphia</td>\n",
       "      <td>Forest</td>\n",
       "      <td>601</td>\n",
       "      <td>0.273555</td>\n",
       "    </tr>\n",
       "    <tr>\n",
       "      <th>1246</th>\n",
       "      <td>Philadelphia</td>\n",
       "      <td>Somerset</td>\n",
       "      <td>548</td>\n",
       "      <td>0.267578</td>\n",
       "    </tr>\n",
       "    <tr>\n",
       "      <th>1235</th>\n",
       "      <td>Philadelphia</td>\n",
       "      <td>Houtzdale</td>\n",
       "      <td>569</td>\n",
       "      <td>0.247714</td>\n",
       "    </tr>\n",
       "    <tr>\n",
       "      <th>1225</th>\n",
       "      <td>Philadelphia</td>\n",
       "      <td>Benner Township</td>\n",
       "      <td>430</td>\n",
       "      <td>0.228117</td>\n",
       "    </tr>\n",
       "    <tr>\n",
       "      <th>1247</th>\n",
       "      <td>Philadelphia</td>\n",
       "      <td>Waymart</td>\n",
       "      <td>183</td>\n",
       "      <td>0.224540</td>\n",
       "    </tr>\n",
       "    <tr>\n",
       "      <th>1234</th>\n",
       "      <td>Philadelphia</td>\n",
       "      <td>Greene</td>\n",
       "      <td>359</td>\n",
       "      <td>0.212678</td>\n",
       "    </tr>\n",
       "    <tr>\n",
       "      <th>1231</th>\n",
       "      <td>Philadelphia</td>\n",
       "      <td>Fayette</td>\n",
       "      <td>400</td>\n",
       "      <td>0.209864</td>\n",
       "    </tr>\n",
       "    <tr>\n",
       "      <th>1227</th>\n",
       "      <td>Philadelphia</td>\n",
       "      <td>Camp Hill</td>\n",
       "      <td>348</td>\n",
       "      <td>0.184517</td>\n",
       "    </tr>\n",
       "    <tr>\n",
       "      <th>1224</th>\n",
       "      <td>Philadelphia</td>\n",
       "      <td>Albion</td>\n",
       "      <td>381</td>\n",
       "      <td>0.184414</td>\n",
       "    </tr>\n",
       "    <tr>\n",
       "      <th>1245</th>\n",
       "      <td>Philadelphia</td>\n",
       "      <td>Smithfield</td>\n",
       "      <td>168</td>\n",
       "      <td>0.176656</td>\n",
       "    </tr>\n",
       "    <tr>\n",
       "      <th>1237</th>\n",
       "      <td>Philadelphia</td>\n",
       "      <td>Laurel Highlands</td>\n",
       "      <td>132</td>\n",
       "      <td>0.176235</td>\n",
       "    </tr>\n",
       "    <tr>\n",
       "      <th>1242</th>\n",
       "      <td>Philadelphia</td>\n",
       "      <td>Pine Grove</td>\n",
       "      <td>159</td>\n",
       "      <td>0.175497</td>\n",
       "    </tr>\n",
       "    <tr>\n",
       "      <th>1240</th>\n",
       "      <td>Philadelphia</td>\n",
       "      <td>Muncy</td>\n",
       "      <td>153</td>\n",
       "      <td>0.146692</td>\n",
       "    </tr>\n",
       "    <tr>\n",
       "      <th>1226</th>\n",
       "      <td>Philadelphia</td>\n",
       "      <td>Cambridge Springs</td>\n",
       "      <td>104</td>\n",
       "      <td>0.120930</td>\n",
       "    </tr>\n",
       "    <tr>\n",
       "      <th>1239</th>\n",
       "      <td>Philadelphia</td>\n",
       "      <td>Mercer</td>\n",
       "      <td>88</td>\n",
       "      <td>0.084050</td>\n",
       "    </tr>\n",
       "    <tr>\n",
       "      <th>1243</th>\n",
       "      <td>Philadelphia</td>\n",
       "      <td>Quehanna Boot Camp</td>\n",
       "      <td>17</td>\n",
       "      <td>0.065891</td>\n",
       "    </tr>\n",
       "  </tbody>\n",
       "</table>\n",
       "</div>"
      ],
      "text/plain": [
       "            county                 SCI  incarcerated_persons  proportion_by_sci\n",
       "1241  Philadelphia             Phoenix                  1330           0.452689\n",
       "1230  Philadelphia              Dallas                   610           0.398172\n",
       "1233  Philadelphia          Frackville                   390           0.365511\n",
       "1238  Philadelphia             Mahanoy                   734           0.345249\n",
       "1236  Philadelphia          Huntingdon                   576           0.343266\n",
       "1229  Philadelphia       Coal Township                   630           0.316742\n",
       "1228  Philadelphia             Chester                   290           0.295617\n",
       "1244  Philadelphia            Rockview                   416           0.286304\n",
       "1232  Philadelphia              Forest                   601           0.273555\n",
       "1246  Philadelphia            Somerset                   548           0.267578\n",
       "1235  Philadelphia           Houtzdale                   569           0.247714\n",
       "1225  Philadelphia     Benner Township                   430           0.228117\n",
       "1247  Philadelphia             Waymart                   183           0.224540\n",
       "1234  Philadelphia              Greene                   359           0.212678\n",
       "1231  Philadelphia             Fayette                   400           0.209864\n",
       "1227  Philadelphia           Camp Hill                   348           0.184517\n",
       "1224  Philadelphia              Albion                   381           0.184414\n",
       "1245  Philadelphia          Smithfield                   168           0.176656\n",
       "1237  Philadelphia    Laurel Highlands                   132           0.176235\n",
       "1242  Philadelphia          Pine Grove                   159           0.175497\n",
       "1240  Philadelphia               Muncy                   153           0.146692\n",
       "1226  Philadelphia   Cambridge Springs                   104           0.120930\n",
       "1239  Philadelphia              Mercer                    88           0.084050\n",
       "1243  Philadelphia  Quehanna Boot Camp                    17           0.065891"
      ]
     },
     "execution_count": 210,
     "metadata": {},
     "output_type": "execute_result"
    }
   ],
   "source": [
    "snapshot.loc[snapshot['county'] == \"Philadelphia\",['county','SCI','incarcerated_persons','proportion_by_sci']].sort_values(by='proportion_by_sci',ascending=False)"
   ]
  },
  {
   "cell_type": "code",
   "execution_count": null,
   "metadata": {},
   "outputs": [],
   "source": []
  }
 ],
 "metadata": {
  "kernelspec": {
   "display_name": "Python 3",
   "language": "python",
   "name": "python3"
  },
  "language_info": {
   "codemirror_mode": {
    "name": "ipython",
    "version": 3
   },
   "file_extension": ".py",
   "mimetype": "text/x-python",
   "name": "python",
   "nbconvert_exporter": "python",
   "pygments_lexer": "ipython3",
   "version": "3.7.5"
  }
 },
 "nbformat": 4,
 "nbformat_minor": 2
}
