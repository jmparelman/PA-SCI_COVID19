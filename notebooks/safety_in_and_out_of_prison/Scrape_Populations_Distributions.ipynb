{
 "cells": [
  {
   "cell_type": "code",
   "execution_count": 11,
   "metadata": {},
   "outputs": [],
   "source": [
    "# import libraries\n",
    "\n",
    "import pandas as pd\n",
    "from bs4 import BeautifulSoup as bs\n",
    "from urllib import request\n",
    "from selenium import webdriver\n",
    "from selenium.webdriver import ActionChains\n",
    "from selenium.webdriver.common.keys import Keys\n",
    "from tqdm import tqdm\n",
    "import time\n",
    "import re"
   ]
  },
  {
   "cell_type": "code",
   "execution_count": 3,
   "metadata": {},
   "outputs": [],
   "source": [
    "# Go to URL for inmate/paroleee locator\n",
    "main_page_url = 'http://inmatelocator.cor.pa.gov/#/'\n",
    "driver = webdriver.Safari()\n",
    "driver.get(main_page_url)"
   ]
  },
  {
   "cell_type": "code",
   "execution_count": 4,
   "metadata": {},
   "outputs": [],
   "source": [
    "def query_selector(selector,action='.click()'):\n",
    "    \"\"\"\n",
    "    convenience function for clicking buttons\n",
    "    \"\"\"\n",
    "    \n",
    "    driver.execute_script(f'document.querySelector(\"{selector}\"){action}')"
   ]
  },
  {
   "cell_type": "code",
   "execution_count": 5,
   "metadata": {},
   "outputs": [],
   "source": [
    "# remove the popup on initial page load\n",
    "query_selector(\"#app > app-footer > app-disclamiermodal > div > div > div > div > div.app-modal-footer > button\")"
   ]
  },
  {
   "cell_type": "code",
   "execution_count": 6,
   "metadata": {},
   "outputs": [],
   "source": [
    "# scroll to visible fields\n",
    "driver.execute_script(\"window.scrollTo(0,200)\")"
   ]
  },
  {
   "cell_type": "code",
   "execution_count": 7,
   "metadata": {},
   "outputs": [],
   "source": [
    "# css-selector strings for dropdowns\n",
    "committing_counties_str = \"#committingCounty > option:nth-child({})\"\n",
    "locations_str = \"#currentLocation > option:nth-child({})\"\n",
    "\n",
    "# css-selector strings for submit and back buttons\n",
    "submit_button = \"#form > div.search-results > div > div:nth-child(2) > button\"\n",
    "back_button = \"#app > app-searchresults > div > button\""
   ]
  },
  {
   "cell_type": "code",
   "execution_count": 8,
   "metadata": {},
   "outputs": [],
   "source": [
    "# get the dropdown option indices for all SCI (so don't have to run driver.find_elements_by_id on every loop)\n",
    "SCI_list = ['ALBION','BENNER TOWNSHIP','CAMBRIDGE SPRINGS','CAMP HILL','CHESTER','COAL TOWNSHIP',\n",
    "            'DALLAS','FAYETTE','FOREST','FRACKVILLE','GREENE','HOUTZDALE','HUNTINGDON','LAUREL HIGHLANDS',\n",
    "            'MAHANOY','MERCER','MUNCY','PHOENIX','PINE GROVE','QUEHANNA BOOT CAMP','ROCKVIEW','SMITHFIELD','SOMERSET','WAYMART']\n",
    "\n",
    "SCI_location_indices = []\n",
    "for i,tag in enumerate(driver.find_element_by_id(\"currentLocation\").find_elements_by_tag_name('option')):\n",
    "    if tag.text in SCI_list:\n",
    "        SCI_location_indices.append(i+1)"
   ]
  },
  {
   "cell_type": "code",
   "execution_count": 12,
   "metadata": {},
   "outputs": [
    {
     "name": "stderr",
     "output_type": "stream",
     "text": [
      "100%|██████████| 67/67 [1:02:41<00:00, 56.14s/it]\n"
     ]
    }
   ],
   "source": [
    "rows = []\n",
    "\n",
    "# for every county\n",
    "for c in tqdm(range(2,69)):\n",
    "    # for every SCI\n",
    "    for l in SCI_location_indices:\n",
    "        # 1.find county and SCI dropdown elements\n",
    "        county = driver.find_element_by_css_selector(committing_counties_str.format(c))\n",
    "        location = driver.find_element_by_css_selector(locations_str.format(l))\n",
    "        \n",
    "        # grab text\n",
    "        ctext = county.text\n",
    "        ltext = location.text\n",
    "        \n",
    "        # select dropdowns\n",
    "        county.click()\n",
    "        location.click()\n",
    "        \n",
    "        # submit form\n",
    "        query_selector(submit_button)\n",
    "        time.sleep(1)\n",
    "        \n",
    "        # wait for screen to load\n",
    "        hold = True\n",
    "        while hold:\n",
    "            try:\n",
    "                # 2. once loaded grab the total-results element at bottom of screen\n",
    "                text = driver.find_elements_by_class_name('total-results')[1].text\n",
    "                time.sleep(0.1)\n",
    "                hold = False\n",
    "            except:\n",
    "                continue \n",
    "        \n",
    "        # 3. go back to main page\n",
    "        query_selector(back_button)\n",
    "        time.sleep(0.5)\n",
    "        \n",
    "        # wait for screen to load\n",
    "        hold = True\n",
    "        while hold:\n",
    "            try:\n",
    "                # 4. scroll to visible dropdowns\n",
    "                driver.execute_script(\"window.scrollTo(0,200)\")\n",
    "                time.sleep(0.5)\n",
    "                hold = False\n",
    "            except:\n",
    "                continue\n",
    "        \n",
    "        # 5. save information\n",
    "        rows.append({\n",
    "            \"county\":ctext,\n",
    "            \"location\":ltext,\n",
    "            \"count_text\":text\n",
    "        })\n"
   ]
  },
  {
   "cell_type": "code",
   "execution_count": 14,
   "metadata": {},
   "outputs": [],
   "source": [
    "DF = pd.DataFrame(rows)\n"
   ]
  },
  {
   "cell_type": "code",
   "execution_count": 24,
   "metadata": {},
   "outputs": [],
   "source": [
    "def parse_count(st):\n",
    "    count = st.split()[-2]\n",
    "    if count == 'results':\n",
    "        return 0\n",
    "    else:\n",
    "        return int(count)\n",
    "    \n",
    "DF['incarcerated_persons'] = DF.count_text.apply(parse_count)"
   ]
  },
  {
   "cell_type": "code",
   "execution_count": 26,
   "metadata": {},
   "outputs": [],
   "source": [
    "DF.to_csv('../../data/comparing_SCI-County/County_pop_over_SCI.csv')"
   ]
  }
 ],
 "metadata": {
  "kernelspec": {
   "display_name": "Python 3",
   "language": "python",
   "name": "python3"
  },
  "language_info": {
   "codemirror_mode": {
    "name": "ipython",
    "version": 3
   },
   "file_extension": ".py",
   "mimetype": "text/x-python",
   "name": "python",
   "nbconvert_exporter": "python",
   "pygments_lexer": "ipython3",
   "version": "3.7.5"
  }
 },
 "nbformat": 4,
 "nbformat_minor": 2
}
