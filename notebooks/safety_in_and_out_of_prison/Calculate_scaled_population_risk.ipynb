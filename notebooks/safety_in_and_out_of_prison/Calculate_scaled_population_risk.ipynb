{
 "cells": [
  {
   "cell_type": "markdown",
   "metadata": {},
   "source": [
    "# Scaled Community Risk Factors\n",
    "\n",
    "The goal of this notebook is to operationalize a measure of \"hypothetical COVID-19 community risk\" for incarcerated people in each Pennsylvania SCI. Hypothetical COVID-19 community risk is a measure of the odds of negative health outcomes that incarcerated people might face if they were not in prison and instead were living in their communities. For expositional purposes, the hypothetical covid-19 community risk factor for a single Philadelphian would be operationalized as the death-rate or infection rate for Philadelphia. SCI however, house many incarcerated people from different counties, and so it is necessary to represent this fact in this measure. To do this, we operationalize this measure as the weighted average of community death/infection rates for each county represented in a given SCI. Community death and infection rates are scaled by their relative proportion within each SCI and summed (all weights sum to 1). \n"
   ]
  },
  {
   "cell_type": "code",
   "execution_count": 1,
   "metadata": {},
   "outputs": [],
   "source": [
    "import pandas as pd\n",
    "import numpy as np\n",
    "from plotnine import ggplot, geoms, theme, scales, ggtitle, labels, aes\n",
    "from plotnine import element_blank,element_line,element_rect,element_text\n",
    "\n",
    "import matplotlib.pyplot as plt\n",
    "%matplotlib inline "
   ]
  },
  {
   "cell_type": "code",
   "execution_count": 51,
   "metadata": {},
   "outputs": [],
   "source": [
    "county_df = pd.read_csv('../../data/State_wide_data/COVID-19_Aggregate_Death_Data_Current_Daily_County_Health.csv')\n",
    "snapshot = pd.read_csv('../../data/comparing_SCI-County/County_pop_over_SCI.csv')"
   ]
  },
  {
   "cell_type": "markdown",
   "metadata": {},
   "source": [
    "### County Proportions in SCIs"
   ]
  },
  {
   "cell_type": "code",
   "execution_count": 52,
   "metadata": {},
   "outputs": [],
   "source": [
    "snapshot['proportion_by_sci'] = snapshot.groupby('location')['incarcerated_persons'].apply(lambda x: x/x.sum())"
   ]
  },
  {
   "cell_type": "markdown",
   "metadata": {},
   "source": [
    "### Clean and format data to merge"
   ]
  },
  {
   "cell_type": "code",
   "execution_count": 53,
   "metadata": {},
   "outputs": [],
   "source": [
    "county_df['date'] = pd.to_datetime(county_df['Date of Death'])\n",
    "county_df_deathrate = county_df[['County Name','Total Death Rate','date']]\n",
    "county_df_deathrate.columns = ['county','Total Death Rate','date']\n",
    "county_df_deathrate = county_df_deathrate.sort_values(by='date')\n",
    "\n",
    "# Take latest date of county_df 03/08\n",
    "county_df_deathrate = county_df_deathrate.loc[county_df_deathrate.date == county_df_deathrate.date.max()]\n",
    "\n",
    "snapshot['county'] = snapshot['county'].str.title()\n",
    "\n",
    "snapshot = snapshot.loc[:, ~snapshot.columns.str.contains('^Unnamed')]"
   ]
  },
  {
   "cell_type": "markdown",
   "metadata": {},
   "source": [
    "#### Check overlap in county names"
   ]
  },
  {
   "cell_type": "code",
   "execution_count": 54,
   "metadata": {},
   "outputs": [
    {
     "data": {
      "text/plain": [
       "['Pennsylvania', 'McKean']"
      ]
     },
     "execution_count": 54,
     "metadata": {},
     "output_type": "execute_result"
    }
   ],
   "source": [
    "# counties in public health data not in snapshot\n",
    "[i for i in county_df_deathrate['county'].unique() if i not in snapshot['county'].unique()]"
   ]
  },
  {
   "cell_type": "code",
   "execution_count": 55,
   "metadata": {},
   "outputs": [
    {
     "data": {
      "text/plain": [
       "['Mckean', 'Out Of State']"
      ]
     },
     "execution_count": 55,
     "metadata": {},
     "output_type": "execute_result"
    }
   ],
   "source": [
    "# counties in snapshot not in public health data\n",
    "[i for i in snapshot['county'].unique() if i not in county_df_deathrate['county'].unique()]"
   ]
  },
  {
   "cell_type": "code",
   "execution_count": 56,
   "metadata": {},
   "outputs": [],
   "source": [
    "snapshot.loc[snapshot['county'] == \"Mckean\",'county'] = \"McKean\""
   ]
  },
  {
   "cell_type": "markdown",
   "metadata": {},
   "source": [
    "**Note:** Notice that there is a county value in the snapshot data called \"out of state\" and a field in the public health data called \"Pennsylvania\". These values do not exist in the other dataset. Further analysis below indicates that \"Pennsylvania is the total over the entire state, and that 'Out of State\" never constitutes any more than 1% of the population of an SCI.\n",
    "\n",
    "For these reasons, these values are dropped from the data."
   ]
  },
  {
   "cell_type": "code",
   "execution_count": 57,
   "metadata": {},
   "outputs": [
    {
     "data": {
      "text/plain": [
       "True"
      ]
     },
     "execution_count": 57,
     "metadata": {},
     "output_type": "execute_result"
    }
   ],
   "source": [
    "Penn_pop = county_df.loc[(county_df['County Name'] == \"Pennsylvania\") &\n",
    "                    (county_df['date'] == county_df.date.max())]['2019 Population '].values[0]\n",
    "notPenn_pop = county_df.loc[(county_df['County Name'] != \"Pennsylvania\") &\n",
    "                    (county_df['date'] == county_df.date.max())]['2019 Population '].sum()\n",
    "\n",
    "Penn_pop == notPenn_pop"
   ]
  },
  {
   "cell_type": "code",
   "execution_count": 58,
   "metadata": {},
   "outputs": [
    {
     "data": {
      "text/html": [
       "<div>\n",
       "<style scoped>\n",
       "    .dataframe tbody tr th:only-of-type {\n",
       "        vertical-align: middle;\n",
       "    }\n",
       "\n",
       "    .dataframe tbody tr th {\n",
       "        vertical-align: top;\n",
       "    }\n",
       "\n",
       "    .dataframe thead th {\n",
       "        text-align: right;\n",
       "    }\n",
       "</style>\n",
       "<table border=\"1\" class=\"dataframe\">\n",
       "  <thead>\n",
       "    <tr style=\"text-align: right;\">\n",
       "      <th></th>\n",
       "      <th>location</th>\n",
       "      <th>proportion_by_sci</th>\n",
       "    </tr>\n",
       "  </thead>\n",
       "  <tbody>\n",
       "    <tr>\n",
       "      <th>1176</th>\n",
       "      <td>ALBION</td>\n",
       "      <td>0.003784</td>\n",
       "    </tr>\n",
       "    <tr>\n",
       "      <th>1177</th>\n",
       "      <td>BENNER TOWNSHIP</td>\n",
       "      <td>0.003579</td>\n",
       "    </tr>\n",
       "    <tr>\n",
       "      <th>1178</th>\n",
       "      <td>CAMBRIDGE SPRINGS</td>\n",
       "      <td>0.001147</td>\n",
       "    </tr>\n",
       "    <tr>\n",
       "      <th>1179</th>\n",
       "      <td>CAMP HILL</td>\n",
       "      <td>0.003532</td>\n",
       "    </tr>\n",
       "    <tr>\n",
       "      <th>1180</th>\n",
       "      <td>CHESTER</td>\n",
       "      <td>0.002950</td>\n",
       "    </tr>\n",
       "    <tr>\n",
       "      <th>1181</th>\n",
       "      <td>COAL TOWNSHIP</td>\n",
       "      <td>0.004801</td>\n",
       "    </tr>\n",
       "    <tr>\n",
       "      <th>1182</th>\n",
       "      <td>DALLAS</td>\n",
       "      <td>0.000000</td>\n",
       "    </tr>\n",
       "    <tr>\n",
       "      <th>1183</th>\n",
       "      <td>FAYETTE</td>\n",
       "      <td>0.002051</td>\n",
       "    </tr>\n",
       "    <tr>\n",
       "      <th>1184</th>\n",
       "      <td>FOREST</td>\n",
       "      <td>0.001336</td>\n",
       "    </tr>\n",
       "    <tr>\n",
       "      <th>1185</th>\n",
       "      <td>FRACKVILLE</td>\n",
       "      <td>0.005455</td>\n",
       "    </tr>\n",
       "    <tr>\n",
       "      <th>1186</th>\n",
       "      <td>GREENE</td>\n",
       "      <td>0.005199</td>\n",
       "    </tr>\n",
       "    <tr>\n",
       "      <th>1187</th>\n",
       "      <td>HOUTZDALE</td>\n",
       "      <td>0.004207</td>\n",
       "    </tr>\n",
       "    <tr>\n",
       "      <th>1188</th>\n",
       "      <td>HUNTINGDON</td>\n",
       "      <td>0.003948</td>\n",
       "    </tr>\n",
       "    <tr>\n",
       "      <th>1189</th>\n",
       "      <td>LAUREL HIGHLANDS</td>\n",
       "      <td>0.001294</td>\n",
       "    </tr>\n",
       "    <tr>\n",
       "      <th>1190</th>\n",
       "      <td>MAHANOY</td>\n",
       "      <td>0.001826</td>\n",
       "    </tr>\n",
       "    <tr>\n",
       "      <th>1191</th>\n",
       "      <td>MERCER</td>\n",
       "      <td>0.001880</td>\n",
       "    </tr>\n",
       "    <tr>\n",
       "      <th>1192</th>\n",
       "      <td>MUNCY</td>\n",
       "      <td>0.005613</td>\n",
       "    </tr>\n",
       "    <tr>\n",
       "      <th>1193</th>\n",
       "      <td>PHOENIX</td>\n",
       "      <td>0.001336</td>\n",
       "    </tr>\n",
       "    <tr>\n",
       "      <th>1194</th>\n",
       "      <td>PINE GROVE</td>\n",
       "      <td>0.002137</td>\n",
       "    </tr>\n",
       "    <tr>\n",
       "      <th>1195</th>\n",
       "      <td>QUEHANNA BOOT CAMP</td>\n",
       "      <td>0.000000</td>\n",
       "    </tr>\n",
       "    <tr>\n",
       "      <th>1196</th>\n",
       "      <td>ROCKVIEW</td>\n",
       "      <td>0.001331</td>\n",
       "    </tr>\n",
       "    <tr>\n",
       "      <th>1197</th>\n",
       "      <td>SMITHFIELD</td>\n",
       "      <td>0.005888</td>\n",
       "    </tr>\n",
       "    <tr>\n",
       "      <th>1198</th>\n",
       "      <td>SOMERSET</td>\n",
       "      <td>0.002341</td>\n",
       "    </tr>\n",
       "    <tr>\n",
       "      <th>1199</th>\n",
       "      <td>WAYMART</td>\n",
       "      <td>0.002356</td>\n",
       "    </tr>\n",
       "  </tbody>\n",
       "</table>\n",
       "</div>"
      ],
      "text/plain": [
       "                location  proportion_by_sci\n",
       "1176              ALBION           0.003784\n",
       "1177     BENNER TOWNSHIP           0.003579\n",
       "1178   CAMBRIDGE SPRINGS           0.001147\n",
       "1179           CAMP HILL           0.003532\n",
       "1180             CHESTER           0.002950\n",
       "1181       COAL TOWNSHIP           0.004801\n",
       "1182              DALLAS           0.000000\n",
       "1183             FAYETTE           0.002051\n",
       "1184              FOREST           0.001336\n",
       "1185          FRACKVILLE           0.005455\n",
       "1186              GREENE           0.005199\n",
       "1187           HOUTZDALE           0.004207\n",
       "1188          HUNTINGDON           0.003948\n",
       "1189    LAUREL HIGHLANDS           0.001294\n",
       "1190             MAHANOY           0.001826\n",
       "1191              MERCER           0.001880\n",
       "1192               MUNCY           0.005613\n",
       "1193             PHOENIX           0.001336\n",
       "1194          PINE GROVE           0.002137\n",
       "1195  QUEHANNA BOOT CAMP           0.000000\n",
       "1196            ROCKVIEW           0.001331\n",
       "1197          SMITHFIELD           0.005888\n",
       "1198            SOMERSET           0.002341\n",
       "1199             WAYMART           0.002356"
      ]
     },
     "execution_count": 58,
     "metadata": {},
     "output_type": "execute_result"
    }
   ],
   "source": [
    "snapshot.loc[snapshot['county'] == 'Out Of State',['location','proportion_by_sci']]"
   ]
  },
  {
   "cell_type": "code",
   "execution_count": 59,
   "metadata": {},
   "outputs": [],
   "source": [
    "snapshot = snapshot.loc[snapshot['county'] != \"Out Of State\"]\n",
    "county_df_deathrate = county_df_deathrate.loc[county_df_deathrate['county'] != 'Pennsylvania']"
   ]
  },
  {
   "cell_type": "markdown",
   "metadata": {},
   "source": [
    "##### Merge data"
   ]
  },
  {
   "cell_type": "code",
   "execution_count": 60,
   "metadata": {},
   "outputs": [],
   "source": [
    "merged_df = snapshot.merge(county_df_deathrate,on='county',how='left')"
   ]
  },
  {
   "cell_type": "markdown",
   "metadata": {},
   "source": [
    "## Calculate Hypothetical COVID-19 Community Risk Factor"
   ]
  },
  {
   "cell_type": "code",
   "execution_count": 61,
   "metadata": {},
   "outputs": [],
   "source": [
    "def HCRF(subset):\n",
    "    \"\"\"\n",
    "    CALCULATES A WEIGHTED AVERAGE. weights sum to 1, \n",
    "    so no denominator needed in weighted avg. \n",
    "    \"\"\"\n",
    "    scaled_values = subset['Total Death Rate'] * subset['proportion_by_sci']\n",
    "    return np.sum(scaled_values)"
   ]
  },
  {
   "cell_type": "code",
   "execution_count": 64,
   "metadata": {},
   "outputs": [],
   "source": [
    "hcrf = merged_df.groupby('location').apply(HCRF).reset_index()\n",
    "hcrf.columns = ['location','HCRF']"
   ]
  },
  {
   "cell_type": "markdown",
   "metadata": {},
   "source": [
    "#### Combined HCRF to merged_df"
   ]
  },
  {
   "cell_type": "code",
   "execution_count": 67,
   "metadata": {},
   "outputs": [],
   "source": [
    "merged_df = merged_df.merge(hcrf,on='location',how='left')"
   ]
  },
  {
   "cell_type": "code",
   "execution_count": 69,
   "metadata": {},
   "outputs": [],
   "source": [
    "merged_df.to_csv('../../data/comparing_SCI-County/County_pop_over_SCI_with_HCRF.csv')"
   ]
  }
 ],
 "metadata": {
  "kernelspec": {
   "display_name": "Python 3",
   "language": "python",
   "name": "python3"
  },
  "language_info": {
   "codemirror_mode": {
    "name": "ipython",
    "version": 3
   },
   "file_extension": ".py",
   "mimetype": "text/x-python",
   "name": "python",
   "nbconvert_exporter": "python",
   "pygments_lexer": "ipython3",
   "version": "3.7.5"
  }
 },
 "nbformat": 4,
 "nbformat_minor": 2
}
