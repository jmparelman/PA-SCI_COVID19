{
 "cells": [
  {
   "cell_type": "markdown",
   "metadata": {},
   "source": [
    "# Wayback Machine population data\n",
    "\n",
    "This notebook reaches back in time and scrapes the population table from the<a href=\"https://www.cor.pa.gov/Pages/COVID-19.aspx\"> PA DOC main Covid-19 page</a>. This page was created on march 21st but only contained population data starting on April 6th. **This notebook was last run on `11-20-2020`.** All data after 11/20 is scraped at 6:00PM daily from the cron job `population_scraper.py`. "
   ]
  },
  {
   "cell_type": "code",
   "execution_count": 4,
   "metadata": {},
   "outputs": [],
   "source": [
    "import pandas as pd\n",
    "import urllib\n",
    "from datetime import datetime\n",
    "import glob"
   ]
  },
  {
   "cell_type": "code",
   "execution_count": 6,
   "metadata": {},
   "outputs": [],
   "source": [
    "html_text = \"https://web.archive.org/web/{date}/https:/www.cor.pa.gov/Pages/COVID-19.aspx\"\n",
    "date_range = pd.date_range(start=\"2020-03-21\",end='2020-11-20').to_list()"
   ]
  },
  {
   "cell_type": "code",
   "execution_count": 7,
   "metadata": {
    "scrolled": true
   },
   "outputs": [
    {
     "name": "stdout",
     "output_type": "stream",
     "text": [
      "03-21 | 03-22 | 03-23 | 03-24 | 03-25 | 03-26 | 03-27 | 03-28 | 03-29 | 03-30 | 03-31 | 04-01 | 04-02 | 04-03 | 04-04 | 04-05 | 04-06 | 04-07 | "
     ]
    },
    {
     "name": "stderr",
     "output_type": "stream",
     "text": [
      "/Users/jake/anaconda/envs/Amistad_env/lib/python3.6/site-packages/ipykernel_launcher.py:11: SettingWithCopyWarning: \n",
      "A value is trying to be set on a copy of a slice from a DataFrame\n",
      "\n",
      "See the caveats in the documentation: https://pandas.pydata.org/pandas-docs/stable/user_guide/indexing.html#returning-a-view-versus-a-copy\n",
      "  # This is added back by InteractiveShellApp.init_path()\n",
      "/Users/jake/anaconda/envs/Amistad_env/lib/python3.6/site-packages/ipykernel_launcher.py:12: SettingWithCopyWarning: \n",
      "A value is trying to be set on a copy of a slice from a DataFrame.\n",
      "Try using .loc[row_indexer,col_indexer] = value instead\n",
      "\n",
      "See the caveats in the documentation: https://pandas.pydata.org/pandas-docs/stable/user_guide/indexing.html#returning-a-view-versus-a-copy\n",
      "  if sys.path[0] == '':\n"
     ]
    },
    {
     "name": "stdout",
     "output_type": "stream",
     "text": [
      "04-08 | 04-09 | 04-10 | 04-11 | 04-12 | 04-13 | 04-14 | 04-15 | 04-16 | 04-17 | 04-18 | 04-19 | 04-20 | 04-21 | 04-22 | 04-23 | 04-24 | 04-25 | 04-26 | 04-27 | 04-28 | 04-29 | 04-30 | 05-01 | 05-02 | 05-03 | 05-04 | 05-05 | 05-06 | 05-07 | 05-08 | 05-09 | 05-10 | 05-11 | 05-12 | 05-13 | 05-14 | 05-15 | 05-16 | 05-17 | 05-18 | 05-19 | 05-20 | 05-21 | 05-22 | 05-23 | 05-24 | 05-25 | 05-26 | 05-27 | 05-28 | 05-29 | 05-30 | 05-31 | 06-01 | 06-02 | 06-03 | 06-04 | 06-05 | 06-06 | 06-07 | 06-08 | 06-09 | 06-10 | 06-11 | 06-12 | 06-13 | 06-14 | 06-15 | 06-16 | 06-17 | 06-18 | 06-19 | 06-20 | 06-21 | 06-22 | 06-23 | 06-24 | 06-25 | 06-26 | 06-27 | 06-28 | 06-29 | 06-30 | 07-01 | 07-02 | 07-03 | 07-04 | 07-05 | 07-06 | 07-07 | 07-08 | 07-09 | 07-10 | 07-11 | 07-12 | 07-13 | 07-14 | 07-15 | 07-16 | 07-17 | 07-18 | 07-19 | 07-20 | 07-21 | 07-22 | 07-23 | 07-24 | 07-25 | 07-26 | 07-27 | 07-28 | 07-29 | 07-30 | 07-31 | 08-01 | 08-02 | 08-03 | 08-04 | 08-05 | 08-06 | 08-07 | 08-08 | 08-09 | 08-10 | 08-11 | 08-12 | 08-13 | 08-14 | 08-15 | 08-16 | 08-17 | 08-18 | 08-19 | 08-20 | 08-21 | 08-22 | 08-23 | 08-24 | 08-25 | 08-26 | 08-27 | 08-28 | 08-29 | 08-30 | 08-31 | 09-01 | 09-02 | 09-03 | 09-04 | 09-05 | 09-06 | 09-07 | 09-08 | 09-09 | 09-10 | 09-11 | 09-12 | 09-13 | 09-14 | 09-15 | 09-16 | 09-17 | 09-18 | 09-19 | 09-20 | 09-21 | 09-22 | 09-23 | 09-24 | 09-25 | 09-26 | 09-27 | 09-28 | 09-29 | 09-30 | 10-01 | 10-02 | 10-03 | 10-04 | 10-05 | 10-06 | 10-07 | 10-08 | 10-09 | 10-10 | 10-11 | 10-12 | 10-13 | 10-14 | 10-15 | 10-16 | 10-17 | 10-18 | 10-19 | 10-20 | 10-21 | 10-22 | 10-23 | 10-24 | 10-25 | 10-26 | 10-27 | 10-28 | 10-29 | 10-30 | 10-31 | 11-01 | 11-02 | 11-03 | 11-04 | 11-05 | 11-06 | 11-07 | 11-08 | 11-09 | 11-10 | 11-11 | 11-12 | 11-13 | 11-14 | 11-15 | 11-16 | 11-17 | 11-18 | 11-19 | 11-20 | "
     ]
    }
   ],
   "source": [
    "for date in date_range:\n",
    "    print(f'{datetime.strftime(date,\"%m-%d\")}',end=\" | \")\n",
    "    # get html frames\n",
    "    html_frames = pd.read_html(html_text.format(date = datetime.strftime(date,\"%Y%m%d\")))\n",
    "    for frame in html_frames:\n",
    "        if frame.loc[0,0] == \"INSTITUTION\": # find population count frame\n",
    "            \n",
    "            # clean dataframe\n",
    "            frame.columns = frame.loc[0]\n",
    "            frame = frame.loc[1:,]\n",
    "            frame.iloc[:,1:] = frame.iloc[:,1:].astype(float)\n",
    "            frame['date'] = date\n",
    "            \n",
    "            frame.to_csv(f'../data/Daily_Populations/Daily_Populations_{datetime.strftime(date,\"%m-%d\")}.csv',index=False)"
   ]
  },
  {
   "cell_type": "markdown",
   "metadata": {},
   "source": [
    "### Merge all dates to single aggregated DF"
   ]
  },
  {
   "cell_type": "code",
   "execution_count": 38,
   "metadata": {},
   "outputs": [],
   "source": [
    "colmapper = {\"INSTITUTION\":\"SCI\",\n",
    "            \"TODAY'S POPULATION\":\"population\",\n",
    "            \"REPRIEVE RELEASES\":\"reprieve_releases\",\n",
    "            \"TODAY'S POPULATION AFTER REPRIEVE RELEASES\":\"population_after_reprieve\",\n",
    "            \"INCREASE/ DECREASE FROM YESTERDAY\":\"population_change_one_day\",\n",
    "            \"INCREASE/ DECREASE FROM LAST WEEK\":\"population_change_one_week\",\n",
    "            \"INCREASE/ DECREASE FROM LAST MONTH\":\"population_change_one_month\",\n",
    "            \"date\":\"date\"}\n",
    "\n",
    "# 5/22 - 5/25 had column formatting issues\n",
    "colmapper_522_525 = {\"INSTITUTION\":\"SCI\",\n",
    "            \"TODAY'S POPULATION\":\"population\",\n",
    "            \"REPRIEVE RELEASES\":\"reprieve_releases\",\n",
    "            \"TODAY'S POPULATION AFTER REPRIEVE RELEASES\":\"population_after_reprieve\",\n",
    "            \"INCREASE/ DECREASEFROM YESTERDAY\":\"population_change_one_day\",\n",
    "            \"INCREASE/ DECREASEFROM LAST WEEK\":\"population_change_one_week\",\n",
    "            \"INCREASE/ DECREASEFROM LAST MONTH\":\"population_change_one_month\",\n",
    "            \"date\":\"date\"}\n",
    "\n",
    "df_list = []\n",
    "for i in glob.glob('../data/Daily_Populations/*.csv'):\n",
    "    df = pd.read_csv(i)\n",
    "    if \"INCREASE/ DECREASEFROM LAST WEEK\" in df.columns:\n",
    "        df = df.rename(columns=colmapper_522_525)\n",
    "    else:\n",
    "        df = df.rename(columns=colmapper)\n",
    "    df_list.append(df)\n",
    "    \n",
    "combined['date'] = pd.to_datetime(combined['date'])\n",
    "combined = pd.concat(df_list)\n",
    "combined.to_csv('../data/Daily_Populations/Daily_Populations_aggregated.csv',index=False)"
   ]
  },
  {
   "cell_type": "code",
   "execution_count": null,
   "metadata": {},
   "outputs": [],
   "source": []
  }
 ],
 "metadata": {
  "kernelspec": {
   "display_name": "Amistad_env",
   "language": "python",
   "name": "amistad_env"
  },
  "language_info": {
   "codemirror_mode": {
    "name": "ipython",
    "version": 3
   },
   "file_extension": ".py",
   "mimetype": "text/x-python",
   "name": "python",
   "nbconvert_exporter": "python",
   "pygments_lexer": "ipython3",
   "version": "3.6.10"
  }
 },
 "nbformat": 4,
 "nbformat_minor": 4
}
