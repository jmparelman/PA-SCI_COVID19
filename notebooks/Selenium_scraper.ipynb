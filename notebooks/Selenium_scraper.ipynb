{
 "cells": [
  {
   "cell_type": "markdown",
   "metadata": {},
   "source": [
    "# Selenium DOC dashboard scraper\n",
    "\n",
    "THis notebook documents and executes the collection of daily COVID-19 data from the Pennsylvania DOC COVID-19 dashboard. Data is scraped from the DOC dashboard using Selenium and is then processed to conform to a standard dataframe format. \n",
    "\n",
    "Data fields collected in this notebook are only for incarcerated people (page 5 of the DOC dashboard), including positive tests, negative tests, pending tests, recovered cases and incarcerated person deaths. \n",
    "\n",
    "\n",
    "### Data collection procedure:\n",
    "1. route selenium driver to DOC dashboard url\n",
    "2. navigate driver to page 5 of dashboard\n",
    "3. select date and SCI from dropdown menus\n",
    "4. right click pie-chart to make table\n",
    "5. isolate and scrape relevant data fields\n",
    "6. format and store relevant data fields"
   ]
  },
  {
   "cell_type": "code",
   "execution_count": 123,
   "metadata": {},
   "outputs": [],
   "source": [
    "# import libraries\n",
    "\n",
    "import pandas as pd\n",
    "from bs4 import BeautifulSoup as bs\n",
    "from urllib import request\n",
    "from selenium import webdriver\n",
    "from selenium.webdriver import ActionChains\n",
    "from selenium.webdriver.common.keys import Keys\n",
    "\n",
    "import time\n",
    "import re"
   ]
  },
  {
   "cell_type": "markdown",
   "metadata": {},
   "source": [
    "### 1. route selenium driver to DOC dashboard URL"
   ]
  },
  {
   "cell_type": "code",
   "execution_count": 362,
   "metadata": {},
   "outputs": [],
   "source": [
    "dash_url = \"https://app.powerbigov.us/view?r=eyJrIjoiNWQ5YTQ4ZWUtY2NjMi00ZWRhLTgyNWQtYzAzNzc5NmYwMGIyIiwidCI6IjQxOGUyODQxLTAxMjgtNGRkNS05YjZjLTQ3ZmM1YTlhMWJkZSJ9\"\n",
    "driver = webdriver.Safari()\n",
    "driver.get(dash_url)"
   ]
  },
  {
   "cell_type": "markdown",
   "metadata": {},
   "source": [
    "### 2. navigate driver to page 5 of dashboard"
   ]
  },
  {
   "cell_type": "code",
   "execution_count": 363,
   "metadata": {},
   "outputs": [],
   "source": [
    "for i in range(4):\n",
    "    driver.execute_script(\"document.querySelector('[title=\\\"Next Page\\\"]').click()\")\n"
   ]
  },
  {
   "cell_type": "markdown",
   "metadata": {},
   "source": [
    "### 3. select date and SCI from dropdown menus"
   ]
  },
  {
   "cell_type": "code",
   "execution_count": 383,
   "metadata": {},
   "outputs": [],
   "source": [
    "# open dropdowns\n",
    "\n",
    "driver.execute_script('document.querySelector(\"#pvExplorationHost > div > div > exploration > div > explore-canvas-modern > div > div.canvasFlexBox > div > div.displayArea.disableAnimations.fitToPage > div.visualContainerHost > visual-container-repeat > visual-container-modern:nth-child(7) > transform > div > div:nth-child(3) > div > visual-modern > div > div > div.slicer-content-wrapper > div > i\").click()')\n",
    "\n",
    "driver.execute_script('document.querySelector(\"#pvExplorationHost > div > div > exploration > div > explore-canvas-modern > div > div.canvasFlexBox > div > div.displayArea.disableAnimations.fitToPage > div.visualContainerHost > visual-container-repeat > visual-container-modern:nth-child(5) > transform > div > div:nth-child(3) > div > visual-modern > div > div > div.slicer-content-wrapper > div\").click()')"
   ]
  },
  {
   "cell_type": "code",
   "execution_count": 365,
   "metadata": {},
   "outputs": [],
   "source": [
    "def roll_through_SCI():\n",
    "    sci_dropdown_scroll_area = 'document.querySelector(\"body > div:nth-child(46) > div.slicer-dropdown-content > div > div.slicerBody > div > div.scrollbar-inner.scroll-content.scroll-scrolly_visible\")'\n",
    "    time.sleep(0.1)\n",
    "    \n",
    "    height = 200\n",
    "    sci_list = []\n",
    "    for d in range(4):\n",
    "        driver.execute_script(f'{sci_dropdown_scroll_area}.scrollTop = {height*d}')\n",
    "        \n",
    "        time.sleep(0.1)\n",
    "        \n",
    "        sci_scroll_area = driver.execute_script(f'return {sci_dropdown_scroll_area}')\n",
    "        current_sci = sci_scroll_area.find_elements_by_class_name('slicerText')\n",
    "        \n",
    "        for i in current_sci:\n",
    "            sci = i.get_attribute('title')\n",
    "            if sci not in sci_list:\n",
    "                sci_list.append(sci)\n",
    "                driver.execute_script(f\"document.querySelector('[title=\\\"{sci}\\\"]').click()\")\n",
    "                # Add in get data and go back\n",
    "                \n",
    "        "
   ]
  },
  {
   "cell_type": "code",
   "execution_count": 366,
   "metadata": {},
   "outputs": [],
   "source": [
    "def roll_through_dates():\n",
    "    date_dropdown_scroll_area = 'document.querySelector(\"body > div:nth-child(47) > div.slicer-dropdown-content > div > div.slicerBody > div > div.scrollbar-inner.scroll-content.scroll-scrolly_visible\")'\n",
    "    \n",
    "    height = 200\n",
    "    date_list = []\n",
    "    for d in range(1):\n",
    "        driver.execute_script(f'{date_dropdown_scroll_area}.scrollTop = {height*d}')\n",
    "        \n",
    "        time.sleep(0.1)\n",
    "        \n",
    "        date_scroll_area = driver.execute_script(f'return {date_dropdown_scroll_area}')\n",
    "        current_dates = date_scroll_area.find_elements_by_class_name('slicerText')\n",
    "    \n",
    "        for i in current_dates[:3]:\n",
    "            date = i.get_attribute('title')\n",
    "            if date not in date_list:\n",
    "                date_list.append(date)\n",
    "                driver.execute_script(f\"document.querySelector('[title=\\\"{date}\\\"]').click()\")\n",
    "                time.sleep(0.1)\n",
    "                roll_through_SCI()\n",
    "                "
   ]
  },
  {
   "cell_type": "markdown",
   "metadata": {},
   "source": [
    "### 4. right click pie-chart to make table"
   ]
  },
  {
   "cell_type": "code",
   "execution_count": 262,
   "metadata": {},
   "outputs": [],
   "source": [
    "def right_click_donut():\n",
    "    action = ActionChains(driver)\n",
    "    action.context_click(driver.find_element_by_class_name('donutChart')).perform()\n",
    "    driver.execute_script(\"document.querySelector('[title=\\\"Show as a table\\\"]').click()\")\n"
   ]
  },
  {
   "cell_type": "markdown",
   "metadata": {},
   "source": [
    "### 5. isolate and scrape relevant data fields"
   ]
  },
  {
   "cell_type": "code",
   "execution_count": null,
   "metadata": {},
   "outputs": [],
   "source": []
  },
  {
   "cell_type": "markdown",
   "metadata": {},
   "source": [
    "## TODOs\n",
    "\n",
    "* pull data out of current table\n",
    "* Need to format data\n",
    "* go back to original format and do again"
   ]
  },
  {
   "cell_type": "code",
   "execution_count": null,
   "metadata": {},
   "outputs": [],
   "source": []
  }
 ],
 "metadata": {
  "kernelspec": {
   "display_name": "Python 3",
   "language": "python",
   "name": "python3"
  },
  "language_info": {
   "codemirror_mode": {
    "name": "ipython",
    "version": 3
   },
   "file_extension": ".py",
   "mimetype": "text/x-python",
   "name": "python",
   "nbconvert_exporter": "python",
   "pygments_lexer": "ipython3",
   "version": "3.7.5"
  }
 },
 "nbformat": 4,
 "nbformat_minor": 2
}
