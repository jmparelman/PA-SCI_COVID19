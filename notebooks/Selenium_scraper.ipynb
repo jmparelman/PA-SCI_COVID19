{
 "cells": [
  {
   "cell_type": "markdown",
   "metadata": {},
   "source": [
    "# Selenium DOC dashboard scraper\n",
    "\n",
    "THis notebook documents and executes the collection of daily COVID-19 data from the Pennsylvania DOC COVID-19 dashboard. Data is scraped from the DOC dashboard using Selenium and is then processed to conform to a standard dataframe format. \n",
    "\n",
    "Data fields collected in this notebook are only for incarcerated people (page 5 of the DOC dashboard), including positive tests, negative tests, pending tests, recovered cases and incarcerated person deaths. \n",
    "\n",
    "\n",
    "### Data collection procedure:\n",
    "1. route selenium driver to DOC dashboard url\n",
    "2. navigate driver to page 5 of dashboard\n",
    "3. select date and SCI from dropdown menus\n",
    "4. right click pie-chart to make table\n",
    "5. isolate and scrape relevant data fields\n",
    "6. format and store relevant data fields"
   ]
  },
  {
   "cell_type": "code",
   "execution_count": 26,
   "metadata": {},
   "outputs": [],
   "source": [
    "# import libraries\n",
    "\n",
    "import pandas as pd\n",
    "from bs4 import BeautifulSoup as bs\n",
    "from urllib import request\n",
    "from selenium import webdriver\n",
    "from selenium.webdriver import ActionChains\n",
    "from selenium.webdriver.common.keys import Keys\n",
    "\n",
    "import re"
   ]
  },
  {
   "cell_type": "markdown",
   "metadata": {},
   "source": [
    "### 1. route selenium driver to DOC dashboard URL"
   ]
  },
  {
   "cell_type": "code",
   "execution_count": 99,
   "metadata": {},
   "outputs": [],
   "source": [
    "dash_url = \"https://app.powerbigov.us/view?r=eyJrIjoiNWQ5YTQ4ZWUtY2NjMi00ZWRhLTgyNWQtYzAzNzc5NmYwMGIyIiwidCI6IjQxOGUyODQxLTAxMjgtNGRkNS05YjZjLTQ3ZmM1YTlhMWJkZSJ9\"\n",
    "driver = webdriver.Safari()\n",
    "driver.get(dash_url)"
   ]
  },
  {
   "cell_type": "markdown",
   "metadata": {},
   "source": [
    "### 2. navigate driver to page 5 of dashboard"
   ]
  },
  {
   "cell_type": "code",
   "execution_count": 100,
   "metadata": {},
   "outputs": [],
   "source": [
    "for i in range(4):\n",
    "    driver.execute_script(\"document.querySelector('[title=\\\"Next Page\\\"]').click()\")\n"
   ]
  },
  {
   "cell_type": "markdown",
   "metadata": {},
   "source": [
    "### 4. right click pie-chart to make table"
   ]
  },
  {
   "cell_type": "code",
   "execution_count": 101,
   "metadata": {},
   "outputs": [],
   "source": [
    "action = ActionChains(driver)\n",
    "action.context_click(driver.find_element_by_class_name('donutChart')).perform()\n",
    "driver.execute_script(\"document.querySelector('[title=\\\"Show as a table\\\"]').click()\")"
   ]
  },
  {
   "cell_type": "markdown",
   "metadata": {},
   "source": [
    "### 5. isolate and scrape relevant data fields"
   ]
  },
  {
   "cell_type": "code",
   "execution_count": 115,
   "metadata": {},
   "outputs": [],
   "source": [
    "header_div = driver.find_element_by_class_name('columnHeaders')\n",
    "headers = [header.text for header in header_div.find_elements_by_class_name('pivotTableCellWrap')]\n",
    "\n",
    "value_div = driver.find_element_by_class_name('bodyCells')\n",
    "values = [value.text for value in value_div.find_elements_by_class_name('pivotTableCellWrap')]"
   ]
  },
  {
   "cell_type": "code",
   "execution_count": null,
   "metadata": {},
   "outputs": [],
   "source": []
  }
 ],
 "metadata": {
  "kernelspec": {
   "display_name": "Python 3",
   "language": "python",
   "name": "python3"
  },
  "language_info": {
   "codemirror_mode": {
    "name": "ipython",
    "version": 3
   },
   "file_extension": ".py",
   "mimetype": "text/x-python",
   "name": "python",
   "nbconvert_exporter": "python",
   "pygments_lexer": "ipython3",
   "version": "3.7.5"
  }
 },
 "nbformat": 4,
 "nbformat_minor": 2
}
