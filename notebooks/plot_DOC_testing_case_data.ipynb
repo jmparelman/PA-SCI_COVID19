{
 "cells": [
  {
   "cell_type": "markdown",
   "metadata": {},
   "source": [
    "# Plot weekly sum of inmate positive cases across all PA SCI"
   ]
  },
  {
   "cell_type": "code",
   "execution_count": 49,
   "metadata": {},
   "outputs": [],
   "source": [
    "import pandas as pd\n",
    "from plotnine import *\n",
    "import matplotlib.pyplot as plt\n",
    "from mizani.breaks import date_breaks\n",
    "from mizani.formatters import date_format\n",
    "from datetime import timedelta\n",
    "from io import StringIO, BytesIO\n",
    "\n",
    "import warnings\n",
    "warnings.filterwarnings('ignore')\n"
   ]
  },
  {
   "cell_type": "code",
   "execution_count": 63,
   "metadata": {},
   "outputs": [],
   "source": [
    "doc_df = pd.read_csv('../data/latest_data/PA_DOC_testing_data.csv', \n",
    "                     parse_dates=True,\n",
    "                     index_col='date')"
   ]
  },
  {
   "cell_type": "code",
   "execution_count": 64,
   "metadata": {},
   "outputs": [
    {
     "data": {
      "text/html": [
       "<div>\n",
       "<style scoped>\n",
       "    .dataframe tbody tr th:only-of-type {\n",
       "        vertical-align: middle;\n",
       "    }\n",
       "\n",
       "    .dataframe tbody tr th {\n",
       "        vertical-align: top;\n",
       "    }\n",
       "\n",
       "    .dataframe thead th {\n",
       "        text-align: right;\n",
       "    }\n",
       "</style>\n",
       "<table border=\"1\" class=\"dataframe\">\n",
       "  <thead>\n",
       "    <tr style=\"text-align: right;\">\n",
       "      <th></th>\n",
       "      <th>date.1</th>\n",
       "      <th>SCI</th>\n",
       "      <th>staff_positive</th>\n",
       "      <th>staff_negative</th>\n",
       "      <th>staff_pending</th>\n",
       "      <th>staff_death</th>\n",
       "      <th>staff_recovered</th>\n",
       "      <th>incarcerated_person_positive</th>\n",
       "      <th>incarcerated_person_negative</th>\n",
       "      <th>incarcerated_person_pending</th>\n",
       "      <th>...</th>\n",
       "      <th>test_transfer_positive_new</th>\n",
       "      <th>test_release_new</th>\n",
       "      <th>test_release_positive_new</th>\n",
       "      <th>test_hospital_new</th>\n",
       "      <th>test_hospital_positive_new</th>\n",
       "      <th>test_surveilance_new</th>\n",
       "      <th>test_surveilance_positive_new</th>\n",
       "      <th>test_symptomatic_new</th>\n",
       "      <th>test_symptomatic_positive_new</th>\n",
       "      <th>test_miscellaneous_new</th>\n",
       "    </tr>\n",
       "    <tr>\n",
       "      <th>date</th>\n",
       "      <th></th>\n",
       "      <th></th>\n",
       "      <th></th>\n",
       "      <th></th>\n",
       "      <th></th>\n",
       "      <th></th>\n",
       "      <th></th>\n",
       "      <th></th>\n",
       "      <th></th>\n",
       "      <th></th>\n",
       "      <th></th>\n",
       "      <th></th>\n",
       "      <th></th>\n",
       "      <th></th>\n",
       "      <th></th>\n",
       "      <th></th>\n",
       "      <th></th>\n",
       "      <th></th>\n",
       "      <th></th>\n",
       "      <th></th>\n",
       "      <th></th>\n",
       "    </tr>\n",
       "  </thead>\n",
       "  <tbody>\n",
       "    <tr>\n",
       "      <th>2020-04-07</th>\n",
       "      <td>2020-04-07</td>\n",
       "      <td>Rockview</td>\n",
       "      <td>NaN</td>\n",
       "      <td>1.0</td>\n",
       "      <td>2.0</td>\n",
       "      <td>NaN</td>\n",
       "      <td>NaN</td>\n",
       "      <td>NaN</td>\n",
       "      <td>NaN</td>\n",
       "      <td>NaN</td>\n",
       "      <td>...</td>\n",
       "      <td>NaN</td>\n",
       "      <td>NaN</td>\n",
       "      <td>NaN</td>\n",
       "      <td>NaN</td>\n",
       "      <td>NaN</td>\n",
       "      <td>NaN</td>\n",
       "      <td>NaN</td>\n",
       "      <td>NaN</td>\n",
       "      <td>NaN</td>\n",
       "      <td>NaN</td>\n",
       "    </tr>\n",
       "    <tr>\n",
       "      <th>2020-04-07</th>\n",
       "      <td>2020-04-07</td>\n",
       "      <td>Albion</td>\n",
       "      <td>NaN</td>\n",
       "      <td>5.0</td>\n",
       "      <td>2.0</td>\n",
       "      <td>NaN</td>\n",
       "      <td>NaN</td>\n",
       "      <td>NaN</td>\n",
       "      <td>NaN</td>\n",
       "      <td>NaN</td>\n",
       "      <td>...</td>\n",
       "      <td>NaN</td>\n",
       "      <td>NaN</td>\n",
       "      <td>NaN</td>\n",
       "      <td>NaN</td>\n",
       "      <td>NaN</td>\n",
       "      <td>NaN</td>\n",
       "      <td>NaN</td>\n",
       "      <td>NaN</td>\n",
       "      <td>NaN</td>\n",
       "      <td>NaN</td>\n",
       "    </tr>\n",
       "    <tr>\n",
       "      <th>2020-04-07</th>\n",
       "      <td>2020-04-07</td>\n",
       "      <td>Benner Township</td>\n",
       "      <td>NaN</td>\n",
       "      <td>4.0</td>\n",
       "      <td>1.0</td>\n",
       "      <td>NaN</td>\n",
       "      <td>NaN</td>\n",
       "      <td>NaN</td>\n",
       "      <td>2.0</td>\n",
       "      <td>NaN</td>\n",
       "      <td>...</td>\n",
       "      <td>NaN</td>\n",
       "      <td>NaN</td>\n",
       "      <td>NaN</td>\n",
       "      <td>NaN</td>\n",
       "      <td>NaN</td>\n",
       "      <td>NaN</td>\n",
       "      <td>NaN</td>\n",
       "      <td>NaN</td>\n",
       "      <td>NaN</td>\n",
       "      <td>NaN</td>\n",
       "    </tr>\n",
       "    <tr>\n",
       "      <th>2020-04-07</th>\n",
       "      <td>2020-04-07</td>\n",
       "      <td>Cambridge Springs</td>\n",
       "      <td>NaN</td>\n",
       "      <td>NaN</td>\n",
       "      <td>2.0</td>\n",
       "      <td>NaN</td>\n",
       "      <td>NaN</td>\n",
       "      <td>NaN</td>\n",
       "      <td>2.0</td>\n",
       "      <td>NaN</td>\n",
       "      <td>...</td>\n",
       "      <td>NaN</td>\n",
       "      <td>NaN</td>\n",
       "      <td>NaN</td>\n",
       "      <td>NaN</td>\n",
       "      <td>NaN</td>\n",
       "      <td>NaN</td>\n",
       "      <td>NaN</td>\n",
       "      <td>NaN</td>\n",
       "      <td>NaN</td>\n",
       "      <td>NaN</td>\n",
       "    </tr>\n",
       "    <tr>\n",
       "      <th>2020-04-07</th>\n",
       "      <td>2020-04-07</td>\n",
       "      <td>Camp Hill</td>\n",
       "      <td>2.0</td>\n",
       "      <td>1.0</td>\n",
       "      <td>NaN</td>\n",
       "      <td>NaN</td>\n",
       "      <td>NaN</td>\n",
       "      <td>NaN</td>\n",
       "      <td>NaN</td>\n",
       "      <td>1.0</td>\n",
       "      <td>...</td>\n",
       "      <td>NaN</td>\n",
       "      <td>NaN</td>\n",
       "      <td>NaN</td>\n",
       "      <td>NaN</td>\n",
       "      <td>NaN</td>\n",
       "      <td>NaN</td>\n",
       "      <td>NaN</td>\n",
       "      <td>NaN</td>\n",
       "      <td>NaN</td>\n",
       "      <td>NaN</td>\n",
       "    </tr>\n",
       "    <tr>\n",
       "      <th>...</th>\n",
       "      <td>...</td>\n",
       "      <td>...</td>\n",
       "      <td>...</td>\n",
       "      <td>...</td>\n",
       "      <td>...</td>\n",
       "      <td>...</td>\n",
       "      <td>...</td>\n",
       "      <td>...</td>\n",
       "      <td>...</td>\n",
       "      <td>...</td>\n",
       "      <td>...</td>\n",
       "      <td>...</td>\n",
       "      <td>...</td>\n",
       "      <td>...</td>\n",
       "      <td>...</td>\n",
       "      <td>...</td>\n",
       "      <td>...</td>\n",
       "      <td>...</td>\n",
       "      <td>...</td>\n",
       "      <td>...</td>\n",
       "      <td>...</td>\n",
       "    </tr>\n",
       "    <tr>\n",
       "      <th>2020-12-03</th>\n",
       "      <td>2020-12-03</td>\n",
       "      <td>Retreat</td>\n",
       "      <td>4.0</td>\n",
       "      <td>10.0</td>\n",
       "      <td>1.0</td>\n",
       "      <td>NaN</td>\n",
       "      <td>4.0</td>\n",
       "      <td>13.0</td>\n",
       "      <td>1048.0</td>\n",
       "      <td>0.0</td>\n",
       "      <td>...</td>\n",
       "      <td>0.0</td>\n",
       "      <td>0.0</td>\n",
       "      <td>0.0</td>\n",
       "      <td>0.0</td>\n",
       "      <td>0.0</td>\n",
       "      <td>0.0</td>\n",
       "      <td>0.0</td>\n",
       "      <td>0.0</td>\n",
       "      <td>0.0</td>\n",
       "      <td>NaN</td>\n",
       "    </tr>\n",
       "    <tr>\n",
       "      <th>2020-12-03</th>\n",
       "      <td>2020-12-03</td>\n",
       "      <td>Rockview</td>\n",
       "      <td>71.0</td>\n",
       "      <td>46.0</td>\n",
       "      <td>21.0</td>\n",
       "      <td>NaN</td>\n",
       "      <td>30.0</td>\n",
       "      <td>73.0</td>\n",
       "      <td>763.0</td>\n",
       "      <td>97.0</td>\n",
       "      <td>...</td>\n",
       "      <td>0.0</td>\n",
       "      <td>0.0</td>\n",
       "      <td>0.0</td>\n",
       "      <td>0.0</td>\n",
       "      <td>0.0</td>\n",
       "      <td>0.0</td>\n",
       "      <td>0.0</td>\n",
       "      <td>0.0</td>\n",
       "      <td>0.0</td>\n",
       "      <td>NaN</td>\n",
       "    </tr>\n",
       "    <tr>\n",
       "      <th>2020-12-03</th>\n",
       "      <td>2020-12-03</td>\n",
       "      <td>Smithfield</td>\n",
       "      <td>73.0</td>\n",
       "      <td>133.0</td>\n",
       "      <td>20.0</td>\n",
       "      <td>NaN</td>\n",
       "      <td>51.0</td>\n",
       "      <td>63.0</td>\n",
       "      <td>510.0</td>\n",
       "      <td>158.0</td>\n",
       "      <td>...</td>\n",
       "      <td>0.0</td>\n",
       "      <td>0.0</td>\n",
       "      <td>0.0</td>\n",
       "      <td>0.0</td>\n",
       "      <td>0.0</td>\n",
       "      <td>0.0</td>\n",
       "      <td>0.0</td>\n",
       "      <td>2.0</td>\n",
       "      <td>2.0</td>\n",
       "      <td>NaN</td>\n",
       "    </tr>\n",
       "    <tr>\n",
       "      <th>2020-12-03</th>\n",
       "      <td>2020-12-03</td>\n",
       "      <td>Somerset</td>\n",
       "      <td>70.0</td>\n",
       "      <td>47.0</td>\n",
       "      <td>22.0</td>\n",
       "      <td>NaN</td>\n",
       "      <td>37.0</td>\n",
       "      <td>247.0</td>\n",
       "      <td>642.0</td>\n",
       "      <td>644.0</td>\n",
       "      <td>...</td>\n",
       "      <td>0.0</td>\n",
       "      <td>0.0</td>\n",
       "      <td>0.0</td>\n",
       "      <td>0.0</td>\n",
       "      <td>0.0</td>\n",
       "      <td>4.0</td>\n",
       "      <td>4.0</td>\n",
       "      <td>7.0</td>\n",
       "      <td>7.0</td>\n",
       "      <td>NaN</td>\n",
       "    </tr>\n",
       "    <tr>\n",
       "      <th>2020-12-03</th>\n",
       "      <td>2020-12-03</td>\n",
       "      <td>Waymart</td>\n",
       "      <td>25.0</td>\n",
       "      <td>84.0</td>\n",
       "      <td>6.0</td>\n",
       "      <td>NaN</td>\n",
       "      <td>4.0</td>\n",
       "      <td>62.0</td>\n",
       "      <td>499.0</td>\n",
       "      <td>87.0</td>\n",
       "      <td>...</td>\n",
       "      <td>0.0</td>\n",
       "      <td>1.0</td>\n",
       "      <td>1.0</td>\n",
       "      <td>0.0</td>\n",
       "      <td>0.0</td>\n",
       "      <td>0.0</td>\n",
       "      <td>0.0</td>\n",
       "      <td>0.0</td>\n",
       "      <td>0.0</td>\n",
       "      <td>NaN</td>\n",
       "    </tr>\n",
       "  </tbody>\n",
       "</table>\n",
       "<p>2533 rows × 44 columns</p>\n",
       "</div>"
      ],
      "text/plain": [
       "                date.1                SCI  staff_positive  staff_negative  \\\n",
       "date                                                                        \n",
       "2020-04-07  2020-04-07           Rockview             NaN             1.0   \n",
       "2020-04-07  2020-04-07             Albion             NaN             5.0   \n",
       "2020-04-07  2020-04-07    Benner Township             NaN             4.0   \n",
       "2020-04-07  2020-04-07  Cambridge Springs             NaN             NaN   \n",
       "2020-04-07  2020-04-07          Camp Hill             2.0             1.0   \n",
       "...                ...                ...             ...             ...   \n",
       "2020-12-03  2020-12-03            Retreat             4.0            10.0   \n",
       "2020-12-03  2020-12-03           Rockview            71.0            46.0   \n",
       "2020-12-03  2020-12-03         Smithfield            73.0           133.0   \n",
       "2020-12-03  2020-12-03           Somerset            70.0            47.0   \n",
       "2020-12-03  2020-12-03            Waymart            25.0            84.0   \n",
       "\n",
       "            staff_pending  staff_death  staff_recovered  \\\n",
       "date                                                      \n",
       "2020-04-07            2.0          NaN              NaN   \n",
       "2020-04-07            2.0          NaN              NaN   \n",
       "2020-04-07            1.0          NaN              NaN   \n",
       "2020-04-07            2.0          NaN              NaN   \n",
       "2020-04-07            NaN          NaN              NaN   \n",
       "...                   ...          ...              ...   \n",
       "2020-12-03            1.0          NaN              4.0   \n",
       "2020-12-03           21.0          NaN             30.0   \n",
       "2020-12-03           20.0          NaN             51.0   \n",
       "2020-12-03           22.0          NaN             37.0   \n",
       "2020-12-03            6.0          NaN              4.0   \n",
       "\n",
       "            incarcerated_person_positive  incarcerated_person_negative  \\\n",
       "date                                                                     \n",
       "2020-04-07                           NaN                           NaN   \n",
       "2020-04-07                           NaN                           NaN   \n",
       "2020-04-07                           NaN                           2.0   \n",
       "2020-04-07                           NaN                           2.0   \n",
       "2020-04-07                           NaN                           NaN   \n",
       "...                                  ...                           ...   \n",
       "2020-12-03                          13.0                        1048.0   \n",
       "2020-12-03                          73.0                         763.0   \n",
       "2020-12-03                          63.0                         510.0   \n",
       "2020-12-03                         247.0                         642.0   \n",
       "2020-12-03                          62.0                         499.0   \n",
       "\n",
       "            incarcerated_person_pending  ...  test_transfer_positive_new  \\\n",
       "date                                     ...                               \n",
       "2020-04-07                          NaN  ...                         NaN   \n",
       "2020-04-07                          NaN  ...                         NaN   \n",
       "2020-04-07                          NaN  ...                         NaN   \n",
       "2020-04-07                          NaN  ...                         NaN   \n",
       "2020-04-07                          1.0  ...                         NaN   \n",
       "...                                 ...  ...                         ...   \n",
       "2020-12-03                          0.0  ...                         0.0   \n",
       "2020-12-03                         97.0  ...                         0.0   \n",
       "2020-12-03                        158.0  ...                         0.0   \n",
       "2020-12-03                        644.0  ...                         0.0   \n",
       "2020-12-03                         87.0  ...                         0.0   \n",
       "\n",
       "            test_release_new  test_release_positive_new  test_hospital_new  \\\n",
       "date                                                                         \n",
       "2020-04-07               NaN                        NaN                NaN   \n",
       "2020-04-07               NaN                        NaN                NaN   \n",
       "2020-04-07               NaN                        NaN                NaN   \n",
       "2020-04-07               NaN                        NaN                NaN   \n",
       "2020-04-07               NaN                        NaN                NaN   \n",
       "...                      ...                        ...                ...   \n",
       "2020-12-03               0.0                        0.0                0.0   \n",
       "2020-12-03               0.0                        0.0                0.0   \n",
       "2020-12-03               0.0                        0.0                0.0   \n",
       "2020-12-03               0.0                        0.0                0.0   \n",
       "2020-12-03               1.0                        1.0                0.0   \n",
       "\n",
       "            test_hospital_positive_new  test_surveilance_new  \\\n",
       "date                                                           \n",
       "2020-04-07                         NaN                   NaN   \n",
       "2020-04-07                         NaN                   NaN   \n",
       "2020-04-07                         NaN                   NaN   \n",
       "2020-04-07                         NaN                   NaN   \n",
       "2020-04-07                         NaN                   NaN   \n",
       "...                                ...                   ...   \n",
       "2020-12-03                         0.0                   0.0   \n",
       "2020-12-03                         0.0                   0.0   \n",
       "2020-12-03                         0.0                   0.0   \n",
       "2020-12-03                         0.0                   4.0   \n",
       "2020-12-03                         0.0                   0.0   \n",
       "\n",
       "            test_surveilance_positive_new  test_symptomatic_new  \\\n",
       "date                                                              \n",
       "2020-04-07                            NaN                   NaN   \n",
       "2020-04-07                            NaN                   NaN   \n",
       "2020-04-07                            NaN                   NaN   \n",
       "2020-04-07                            NaN                   NaN   \n",
       "2020-04-07                            NaN                   NaN   \n",
       "...                                   ...                   ...   \n",
       "2020-12-03                            0.0                   0.0   \n",
       "2020-12-03                            0.0                   0.0   \n",
       "2020-12-03                            0.0                   2.0   \n",
       "2020-12-03                            4.0                   7.0   \n",
       "2020-12-03                            0.0                   0.0   \n",
       "\n",
       "            test_symptomatic_positive_new  test_miscellaneous_new  \n",
       "date                                                               \n",
       "2020-04-07                            NaN                     NaN  \n",
       "2020-04-07                            NaN                     NaN  \n",
       "2020-04-07                            NaN                     NaN  \n",
       "2020-04-07                            NaN                     NaN  \n",
       "2020-04-07                            NaN                     NaN  \n",
       "...                                   ...                     ...  \n",
       "2020-12-03                            0.0                     NaN  \n",
       "2020-12-03                            0.0                     NaN  \n",
       "2020-12-03                            2.0                     NaN  \n",
       "2020-12-03                            7.0                     NaN  \n",
       "2020-12-03                            0.0                     NaN  \n",
       "\n",
       "[2533 rows x 44 columns]"
      ]
     },
     "execution_count": 64,
     "metadata": {},
     "output_type": "execute_result"
    }
   ],
   "source": [
    "doc_df"
   ]
  },
  {
   "cell_type": "code",
   "execution_count": null,
   "metadata": {},
   "outputs": [],
   "source": []
  },
  {
   "cell_type": "code",
   "execution_count": 70,
   "metadata": {},
   "outputs": [],
   "source": [
    "cases_by_week = doc_df.resample('7D')['incarcerated_person_positive_new'].sum().to_frame()"
   ]
  },
  {
   "cell_type": "code",
   "execution_count": 71,
   "metadata": {},
   "outputs": [
    {
     "data": {
      "text/plain": [
       "<AxesSubplot:xlabel='date'>"
      ]
     },
     "execution_count": 71,
     "metadata": {},
     "output_type": "execute_result"
    },
    {
     "data": {
      "image/png": "[encoded data removed]",
      "text/plain": [
       "<Figure size 432x288 with 1 Axes>"
      ]
     },
     "metadata": {
      "needs_background": "light"
     },
     "output_type": "display_data"
    }
   ],
   "source": [
    "cases_by_week.plot()"
   ]
  },
  {
   "cell_type": "markdown",
   "metadata": {},
   "source": [
    "## Create ggplot (plotnine) summary graph"
   ]
  },
  {
   "cell_type": "code",
   "execution_count": 72,
   "metadata": {},
   "outputs": [],
   "source": [
    "from_week = cases_by_week.index.min().strftime('%d %b')\n",
    "to_week = cases_by_week.index.max().strftime('%d %b')"
   ]
  },
  {
   "cell_type": "code",
   "execution_count": 73,
   "metadata": {},
   "outputs": [],
   "source": [
    "\n",
    "ymax = int(round(cases_by_week.max()/100)*100)\n",
    "\n",
    "ptitle = f'Weekly positive Covid19 cases in Pennsylvania prison\\nfor weeks of {from_week} to {to_week}'\n",
    "\n",
    "\n",
    "\n",
    "case_plot = (\n",
    "    ggplot(cases_by_week) + \n",
    "    aes(x=cases_by_week.index, y='incarcerated_person_positive_new') + \n",
    "    geom_point(size=0, color='white') + \n",
    "    geom_smooth(se=False,method='loess',span=0.3, size=1.5, color='darkblue') +\n",
    "    scale_x_datetime(breaks=date_breaks('1 months'), labels=date_format('%b')) + \n",
    "                    theme(panel_background = element_blank(), \n",
    "                          axis_title_y=element_text(size=10, color='darkblue'),\n",
    "                          axis_text_y=element_line(color='darkblue'),\n",
    "                          title=element_text(size=14),\n",
    "                          axis_line_x=element_line(color='black', size=0.7),\n",
    "                          axis_ticks_major_x=element_blank()\n",
    "                         ) + \n",
    "                    ylim(0,ymax) +\n",
    "                    ylab('Inmate Covid19 positive test result') + ggtitle(ptitle)\n",
    ")"
   ]
  },
  {
   "cell_type": "code",
   "execution_count": 74,
   "metadata": {},
   "outputs": [
    {
     "data": {
      "image/png": "[encoded data removed]",
      "text/plain": [
       "<Figure size 640x480 with 1 Axes>"
      ]
     },
     "metadata": {},
     "output_type": "display_data"
    },
    {
     "data": {
      "text/plain": [
       "<ggplot: (-9223372036537809166)>"
      ]
     },
     "execution_count": 74,
     "metadata": {},
     "output_type": "execute_result"
    }
   ],
   "source": [
    "case_plot"
   ]
  },
  {
   "cell_type": "code",
   "execution_count": 57,
   "metadata": {},
   "outputs": [],
   "source": [
    "case_plot.save('../img/Covid19_cases_in_PA_SCI.svg')"
   ]
  },
  {
   "cell_type": "markdown",
   "metadata": {},
   "source": [
    "### Sparklines for SCI"
   ]
  },
  {
   "cell_type": "code",
   "execution_count": 58,
   "metadata": {},
   "outputs": [],
   "source": [
    "def plot_SCI_sparkline(df, SCI, rolling_avg=None):\n",
    "    '''plot a sparkline for an SCI\n",
    "    \n",
    "    \n",
    "    '''\n",
    "    daily_ts = doc_df[doc_df['SCI']==SCI].resample('D')['incarcerated_person_positive_new'].sum()\n",
    "    \n",
    "    if rolling_avg:\n",
    "        daily_ts=daily_ts.rolling(rolling_avg).mean()\n",
    "    \n",
    "    start=daily_ts.index.min().strftime('%b %d')\n",
    "    end=daily_ts.index.max().strftime('%b %d')\n",
    "    \n",
    "    xmax = daily_ts.idxmax()\n",
    "    ymax = daily_ts.max()\n",
    "    \n",
    "    if rolling_avg:\n",
    "        ymax_str = f'{ymax:0.1f}'\n",
    "    else:\n",
    "        ymax_str = str(round(ymax))\n",
    "\n",
    "    \n",
    "    fig,ax=plt.subplots(figsize=(4,0.4))\n",
    "    sci_plot= daily_ts.plot(ax=ax)\n",
    "    my_xticks = ax.get_xticks()\n",
    "    \n",
    "    #sci_plot.set_axis_off()\n",
    "    sci_plot.set_frame_on(False)\n",
    "    sci_plot.get_yaxis().set_visible(False)\n",
    "    sci_plot.get_xaxis().set_visible(True)\n",
    "    \n",
    "    sci_plot.set_xticks([my_xticks[0], my_xticks[-1]])\n",
    "    sci_plot.set_xticklabels([start, end])\n",
    "    sci_plot.xaxis.set_ticks_position('none') \n",
    "    sci_plot.set_xlabel(SCI)\n",
    "    sci_plot.annotate(ymax_str, (xmax,ymax), color='red')\n",
    "    \n",
    "    sci_plot.axes.set_xlim(right=daily_ts.index.max()+timedelta(days=2))\n",
    "    \n",
    "    return fig"
   ]
  },
  {
   "cell_type": "code",
   "execution_count": 59,
   "metadata": {},
   "outputs": [
    {
     "data": {
      "image/png": "[encoded data removed]",
      "text/plain": [
       "<Figure size 288x28.8 with 1 Axes>"
      ]
     },
     "execution_count": 59,
     "metadata": {},
     "output_type": "execute_result"
    },
    {
     "data": {
      "image/png": "[encoded data removed]",
      "text/plain": [
       "<Figure size 288x28.8 with 1 Axes>"
      ]
     },
     "metadata": {
      "needs_background": "light"
     },
     "output_type": "display_data"
    }
   ],
   "source": [
    "plot_SCI_sparkline(doc_df, 'Waymart', rolling_avg=None)"
   ]
  },
  {
   "cell_type": "code",
   "execution_count": 60,
   "metadata": {
    "scrolled": false
   },
   "outputs": [
    {
     "data": {
      "image/png": "[encoded data removed]",
      "text/plain": [
       "<Figure size 288x28.8 with 1 Axes>"
      ]
     },
     "metadata": {
      "needs_background": "light"
     },
     "output_type": "display_data"
    },
    {
     "data": {
      "image/png": "[encoded data removed]",
      "text/plain": [
       "<Figure size 288x28.8 with 1 Axes>"
      ]
     },
     "metadata": {
      "needs_background": "light"
     },
     "output_type": "display_data"
    },
    {
     "data": {
      "image/png": "[encoded data removed]",
      "text/plain": [
       "<Figure size 288x28.8 with 1 Axes>"
      ]
     },
     "metadata": {
      "needs_background": "light"
     },
     "output_type": "display_data"
    },
    {
     "data": {
      "image/png": "[encoded data removed]",
      "text/plain": [
       "<Figure size 288x28.8 with 1 Axes>"
      ]
     },
     "metadata": {
      "needs_background": "light"
     },
     "output_type": "display_data"
    },
    {
     "data": {
      "image/png": "[encoded data removed]",
      "text/plain": [
       "<Figure size 288x28.8 with 1 Axes>"
      ]
     },
     "metadata": {
      "needs_background": "light"
     },
     "output_type": "display_data"
    },
    {
     "data": {
      "image/png": "[encoded data removed]",
      "text/plain": [
       "<Figure size 288x28.8 with 1 Axes>"
      ]
     },
     "metadata": {
      "needs_background": "light"
     },
     "output_type": "display_data"
    },
    {
     "data": {
      "image/png": "[encoded data removed]",
      "text/plain": [
       "<Figure size 288x28.8 with 1 Axes>"
      ]
     },
     "metadata": {
      "needs_background": "light"
     },
     "output_type": "display_data"
    },
    {
     "data": {
      "image/png": "[encoded data removed]",
      "text/plain": [
       "<Figure size 288x28.8 with 1 Axes>"
      ]
     },
     "metadata": {
      "needs_background": "light"
     },
     "output_type": "display_data"
    },
    {
     "data": {
      "image/png": "[encoded data removed]",
      "text/plain": [
       "<Figure size 288x28.8 with 1 Axes>"
      ]
     },
     "metadata": {
      "needs_background": "light"
     },
     "output_type": "display_data"
    },
    {
     "data": {
      "image/png": "[encoded data removed]",
      "text/plain": [
       "<Figure size 288x28.8 with 1 Axes>"
      ]
     },
     "metadata": {
      "needs_background": "light"
     },
     "output_type": "display_data"
    },
    {
     "data": {
      "image/png": "[encoded data removed]",
      "text/plain": [
       "<Figure size 288x28.8 with 1 Axes>"
      ]
     },
     "metadata": {
      "needs_background": "light"
     },
     "output_type": "display_data"
    },
    {
     "data": {
      "image/png": "[encoded data removed]",
      "text/plain": [
       "<Figure size 288x28.8 with 1 Axes>"
      ]
     },
     "metadata": {
      "needs_background": "light"
     },
     "output_type": "display_data"
    },
    {
     "data": {
      "image/png": "[encoded data removed]",
      "text/plain": [
       "<Figure size 288x28.8 with 1 Axes>"
      ]
     },
     "metadata": {
      "needs_background": "light"
     },
     "output_type": "display_data"
    },
    {
     "data": {
      "image/png": "[encoded data removed]",
      "text/plain": [
       "<Figure size 288x28.8 with 1 Axes>"
      ]
     },
     "metadata": {
      "needs_background": "light"
     },
     "output_type": "display_data"
    },
    {
     "data": {
      "image/png": "[encoded data removed]",
      "text/plain": [
       "<Figure size 288x28.8 with 1 Axes>"
      ]
     },
     "metadata": {
      "needs_background": "light"
     },
     "output_type": "display_data"
    },
    {
     "data": {
      "image/png": "[encoded data removed]",
      "text/plain": [
       "<Figure size 288x28.8 with 1 Axes>"
      ]
     },
     "metadata": {
      "needs_background": "light"
     },
     "output_type": "display_data"
    },
    {
     "data": {
      "image/png": "[encoded data removed]",
      "text/plain": [
       "<Figure size 288x28.8 with 1 Axes>"
      ]
     },
     "metadata": {
      "needs_background": "light"
     },
     "output_type": "display_data"
    },
    {
     "data": {
      "image/png": "[encoded data removed]",
      "text/plain": [
       "<Figure size 288x28.8 with 1 Axes>"
      ]
     },
     "metadata": {
      "needs_background": "light"
     },
     "output_type": "display_data"
    },
    {
     "data": {
      "image/png": "[encoded data removed]",
      "text/plain": [
       "<Figure size 288x28.8 with 1 Axes>"
      ]
     },
     "metadata": {
      "needs_background": "light"
     },
     "output_type": "display_data"
    },
    {
     "data": {
      "image/png": "[encoded data removed]",
      "text/plain": [
       "<Figure size 288x28.8 with 1 Axes>"
      ]
     },
     "metadata": {
      "needs_background": "light"
     },
     "output_type": "display_data"
    },
    {
     "data": {
      "image/png": "[encoded data removed]",
      "text/plain": [
       "<Figure size 288x28.8 with 1 Axes>"
      ]
     },
     "metadata": {
      "needs_background": "light"
     },
     "output_type": "display_data"
    },
    {
     "data": {
      "image/png": "[encoded data removed]",
      "text/plain": [
       "<Figure size 288x28.8 with 1 Axes>"
      ]
     },
     "metadata": {
      "needs_background": "light"
     },
     "output_type": "display_data"
    },
    {
     "data": {
      "image/png": "[encoded data removed]",
      "text/plain": [
       "<Figure size 288x28.8 with 1 Axes>"
      ]
     },
     "metadata": {
      "needs_background": "light"
     },
     "output_type": "display_data"
    },
    {
     "data": {
      "image/png": "[encoded data removed]",
      "text/plain": [
       "<Figure size 288x28.8 with 1 Axes>"
      ]
     },
     "metadata": {
      "needs_background": "light"
     },
     "output_type": "display_data"
    },
    {
     "data": {
      "image/png": "[encoded data removed]",
      "text/plain": [
       "<Figure size 288x28.8 with 1 Axes>"
      ]
     },
     "metadata": {
      "needs_background": "light"
     },
     "output_type": "display_data"
    }
   ],
   "source": [
    "for SCI in doc_df['SCI'].unique():\n",
    "    plot_SCI_sparkline(doc_df, SCI, rolling_avg='1D')"
   ]
  },
  {
   "cell_type": "code",
   "execution_count": null,
   "metadata": {},
   "outputs": [],
   "source": []
  },
  {
   "cell_type": "code",
   "execution_count": 89,
   "metadata": {},
   "outputs": [
    {
     "data": {
      "text/html": [
       "<div>\n",
       "<style scoped>\n",
       "    .dataframe tbody tr th:only-of-type {\n",
       "        vertical-align: middle;\n",
       "    }\n",
       "\n",
       "    .dataframe tbody tr th {\n",
       "        vertical-align: top;\n",
       "    }\n",
       "\n",
       "    .dataframe thead th {\n",
       "        text-align: right;\n",
       "    }\n",
       "</style>\n",
       "<table border=\"1\" class=\"dataframe\">\n",
       "  <thead>\n",
       "    <tr style=\"text-align: right;\">\n",
       "      <th></th>\n",
       "      <th>SCI</th>\n",
       "      <th>incarcerated_person_positive_new</th>\n",
       "    </tr>\n",
       "    <tr>\n",
       "      <th>date</th>\n",
       "      <th></th>\n",
       "      <th></th>\n",
       "    </tr>\n",
       "  </thead>\n",
       "  <tbody>\n",
       "    <tr>\n",
       "      <th>2020-12-02</th>\n",
       "      <td>Albion</td>\n",
       "      <td>0.0</td>\n",
       "    </tr>\n",
       "    <tr>\n",
       "      <th>2020-12-02</th>\n",
       "      <td>Retreat</td>\n",
       "      <td>0.0</td>\n",
       "    </tr>\n",
       "    <tr>\n",
       "      <th>2020-12-02</th>\n",
       "      <td>Coal Township</td>\n",
       "      <td>0.0</td>\n",
       "    </tr>\n",
       "    <tr>\n",
       "      <th>2020-12-02</th>\n",
       "      <td>Huntingdon</td>\n",
       "      <td>0.0</td>\n",
       "    </tr>\n",
       "    <tr>\n",
       "      <th>2020-12-02</th>\n",
       "      <td>Cambridge Springs</td>\n",
       "      <td>1.0</td>\n",
       "    </tr>\n",
       "    <tr>\n",
       "      <th>2020-12-02</th>\n",
       "      <td>Pine Grove</td>\n",
       "      <td>2.0</td>\n",
       "    </tr>\n",
       "    <tr>\n",
       "      <th>2020-12-02</th>\n",
       "      <td>Fayette</td>\n",
       "      <td>2.0</td>\n",
       "    </tr>\n",
       "    <tr>\n",
       "      <th>2020-12-02</th>\n",
       "      <td>Houtzdale</td>\n",
       "      <td>2.0</td>\n",
       "    </tr>\n",
       "    <tr>\n",
       "      <th>2020-12-02</th>\n",
       "      <td>Chester</td>\n",
       "      <td>5.0</td>\n",
       "    </tr>\n",
       "    <tr>\n",
       "      <th>2020-12-02</th>\n",
       "      <td>Forest</td>\n",
       "      <td>5.0</td>\n",
       "    </tr>\n",
       "    <tr>\n",
       "      <th>2020-12-02</th>\n",
       "      <td>Muncy</td>\n",
       "      <td>6.0</td>\n",
       "    </tr>\n",
       "    <tr>\n",
       "      <th>2020-12-02</th>\n",
       "      <td>Greene</td>\n",
       "      <td>7.0</td>\n",
       "    </tr>\n",
       "    <tr>\n",
       "      <th>2020-12-02</th>\n",
       "      <td>Phoenix</td>\n",
       "      <td>8.0</td>\n",
       "    </tr>\n",
       "    <tr>\n",
       "      <th>2020-12-02</th>\n",
       "      <td>Benner Township</td>\n",
       "      <td>11.0</td>\n",
       "    </tr>\n",
       "    <tr>\n",
       "      <th>2020-12-02</th>\n",
       "      <td>Mercer</td>\n",
       "      <td>13.0</td>\n",
       "    </tr>\n",
       "    <tr>\n",
       "      <th>2020-12-02</th>\n",
       "      <td>Rockview</td>\n",
       "      <td>13.0</td>\n",
       "    </tr>\n",
       "    <tr>\n",
       "      <th>2020-12-02</th>\n",
       "      <td>Frackville</td>\n",
       "      <td>13.0</td>\n",
       "    </tr>\n",
       "    <tr>\n",
       "      <th>2020-12-02</th>\n",
       "      <td>Camp Hill</td>\n",
       "      <td>15.0</td>\n",
       "    </tr>\n",
       "    <tr>\n",
       "      <th>2020-12-02</th>\n",
       "      <td>Smithfield</td>\n",
       "      <td>15.0</td>\n",
       "    </tr>\n",
       "    <tr>\n",
       "      <th>2020-12-02</th>\n",
       "      <td>Laurel Highlands</td>\n",
       "      <td>18.0</td>\n",
       "    </tr>\n",
       "    <tr>\n",
       "      <th>2020-12-02</th>\n",
       "      <td>Somerset</td>\n",
       "      <td>19.0</td>\n",
       "    </tr>\n",
       "    <tr>\n",
       "      <th>2020-12-02</th>\n",
       "      <td>Mahanoy</td>\n",
       "      <td>24.0</td>\n",
       "    </tr>\n",
       "    <tr>\n",
       "      <th>2020-12-02</th>\n",
       "      <td>Quehanna BC</td>\n",
       "      <td>34.0</td>\n",
       "    </tr>\n",
       "    <tr>\n",
       "      <th>2020-12-02</th>\n",
       "      <td>Dallas</td>\n",
       "      <td>54.0</td>\n",
       "    </tr>\n",
       "    <tr>\n",
       "      <th>2020-12-02</th>\n",
       "      <td>Waymart</td>\n",
       "      <td>60.0</td>\n",
       "    </tr>\n",
       "  </tbody>\n",
       "</table>\n",
       "</div>"
      ],
      "text/plain": [
       "                          SCI  incarcerated_person_positive_new\n",
       "date                                                           \n",
       "2020-12-02             Albion                               0.0\n",
       "2020-12-02            Retreat                               0.0\n",
       "2020-12-02      Coal Township                               0.0\n",
       "2020-12-02         Huntingdon                               0.0\n",
       "2020-12-02  Cambridge Springs                               1.0\n",
       "2020-12-02         Pine Grove                               2.0\n",
       "2020-12-02            Fayette                               2.0\n",
       "2020-12-02          Houtzdale                               2.0\n",
       "2020-12-02            Chester                               5.0\n",
       "2020-12-02             Forest                               5.0\n",
       "2020-12-02              Muncy                               6.0\n",
       "2020-12-02             Greene                               7.0\n",
       "2020-12-02            Phoenix                               8.0\n",
       "2020-12-02    Benner Township                              11.0\n",
       "2020-12-02             Mercer                              13.0\n",
       "2020-12-02           Rockview                              13.0\n",
       "2020-12-02         Frackville                              13.0\n",
       "2020-12-02          Camp Hill                              15.0\n",
       "2020-12-02         Smithfield                              15.0\n",
       "2020-12-02   Laurel Highlands                              18.0\n",
       "2020-12-02           Somerset                              19.0\n",
       "2020-12-02            Mahanoy                              24.0\n",
       "2020-12-02        Quehanna BC                              34.0\n",
       "2020-12-02             Dallas                              54.0\n",
       "2020-12-02            Waymart                              60.0"
      ]
     },
     "execution_count": 89,
     "metadata": {},
     "output_type": "execute_result"
    }
   ],
   "source": [
    "doc_df.loc['2020-12-02'][['SCI','incarcerated_person_positive_new']].sort_values('incarcerated_person_positive_new')"
   ]
  },
  {
   "cell_type": "code",
   "execution_count": null,
   "metadata": {},
   "outputs": [],
   "source": []
  },
  {
   "cell_type": "code",
   "execution_count": 92,
   "metadata": {},
   "outputs": [
    {
     "data": {
      "text/plain": [
       "<AxesSubplot:xlabel='date'>"
      ]
     },
     "execution_count": 92,
     "metadata": {},
     "output_type": "execute_result"
    },
    {
     "data": {
      "image/png": "[encoded data removed]",
      "text/plain": [
       "<Figure size 432x288 with 1 Axes>"
      ]
     },
     "metadata": {
      "needs_background": "light"
     },
     "output_type": "display_data"
    }
   ],
   "source": [
    "doc_df[doc_df['SCI']=='Waymart']['incarcerated_person_positive_new'].plot(kind='bar')"
   ]
  },
  {
   "cell_type": "code",
   "execution_count": null,
   "metadata": {},
   "outputs": [],
   "source": []
  }
 ],
 "metadata": {
  "kernelspec": {
   "display_name": "Python 3",
   "language": "python",
   "name": "python3"
  },
  "language_info": {
   "codemirror_mode": {
    "name": "ipython",
    "version": 3
   },
   "file_extension": ".py",
   "mimetype": "text/x-python",
   "name": "python",
   "nbconvert_exporter": "python",
   "pygments_lexer": "ipython3",
   "version": "3.7.3"
  }
 },
 "nbformat": 4,
 "nbformat_minor": 4
}
