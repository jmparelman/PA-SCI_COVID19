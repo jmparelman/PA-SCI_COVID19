{
 "cells": [
  {
   "cell_type": "markdown",
   "metadata": {},
   "source": [
    "# Plot weekly sum of inmate positive cases across all PA SCI"
   ]
  },
  {
   "cell_type": "code",
   "execution_count": 119,
   "metadata": {},
   "outputs": [],
   "source": [
    "import pandas as pd\n",
    "from plotnine import *\n",
    "import matplotlib.pyplot as plt\n",
    "from mizani.breaks import date_breaks\n",
    "from mizani.formatters import date_format\n",
    "from datetime import timedelta\n",
    "from io import StringIO, BytesIO\n",
    "\n",
    "import warnings\n",
    "warnings.filterwarnings('ignore')\n"
   ]
  },
  {
   "cell_type": "code",
   "execution_count": 120,
   "metadata": {},
   "outputs": [],
   "source": [
    "doc_df = pd.read_csv('../data/latest_data/PA_DOC_testing_data.csv', \n",
    "                     parse_dates=True,\n",
    "                     index_col='date')"
   ]
  },
  {
   "cell_type": "code",
   "execution_count": 121,
   "metadata": {},
   "outputs": [
    {
     "data": {
      "text/html": [
       "<div>\n",
       "<style scoped>\n",
       "    .dataframe tbody tr th:only-of-type {\n",
       "        vertical-align: middle;\n",
       "    }\n",
       "\n",
       "    .dataframe tbody tr th {\n",
       "        vertical-align: top;\n",
       "    }\n",
       "\n",
       "    .dataframe thead th {\n",
       "        text-align: right;\n",
       "    }\n",
       "</style>\n",
       "<table border=\"1\" class=\"dataframe\">\n",
       "  <thead>\n",
       "    <tr style=\"text-align: right;\">\n",
       "      <th></th>\n",
       "      <th>date.1</th>\n",
       "      <th>SCI</th>\n",
       "      <th>staff_positive</th>\n",
       "      <th>staff_negative</th>\n",
       "      <th>staff_pending</th>\n",
       "      <th>staff_death</th>\n",
       "      <th>staff_recovered</th>\n",
       "      <th>incarcerated_person_positive</th>\n",
       "      <th>incarcerated_person_negative</th>\n",
       "      <th>incarcerated_person_pending</th>\n",
       "      <th>...</th>\n",
       "      <th>test_transfer_positive_new</th>\n",
       "      <th>test_release_new</th>\n",
       "      <th>test_release_positive_new</th>\n",
       "      <th>test_hospital_new</th>\n",
       "      <th>test_hospital_positive_new</th>\n",
       "      <th>test_surveilance_new</th>\n",
       "      <th>test_surveilance_positive_new</th>\n",
       "      <th>test_symptomatic_new</th>\n",
       "      <th>test_symptomatic_positive_new</th>\n",
       "      <th>test_miscellaneous_new</th>\n",
       "    </tr>\n",
       "    <tr>\n",
       "      <th>date</th>\n",
       "      <th></th>\n",
       "      <th></th>\n",
       "      <th></th>\n",
       "      <th></th>\n",
       "      <th></th>\n",
       "      <th></th>\n",
       "      <th></th>\n",
       "      <th></th>\n",
       "      <th></th>\n",
       "      <th></th>\n",
       "      <th></th>\n",
       "      <th></th>\n",
       "      <th></th>\n",
       "      <th></th>\n",
       "      <th></th>\n",
       "      <th></th>\n",
       "      <th></th>\n",
       "      <th></th>\n",
       "      <th></th>\n",
       "      <th></th>\n",
       "      <th></th>\n",
       "    </tr>\n",
       "  </thead>\n",
       "  <tbody>\n",
       "    <tr>\n",
       "      <th>2020-04-07</th>\n",
       "      <td>2020-04-07</td>\n",
       "      <td>Rockview</td>\n",
       "      <td>NaN</td>\n",
       "      <td>1.0</td>\n",
       "      <td>2.0</td>\n",
       "      <td>NaN</td>\n",
       "      <td>NaN</td>\n",
       "      <td>NaN</td>\n",
       "      <td>NaN</td>\n",
       "      <td>NaN</td>\n",
       "      <td>...</td>\n",
       "      <td>NaN</td>\n",
       "      <td>NaN</td>\n",
       "      <td>NaN</td>\n",
       "      <td>NaN</td>\n",
       "      <td>NaN</td>\n",
       "      <td>NaN</td>\n",
       "      <td>NaN</td>\n",
       "      <td>NaN</td>\n",
       "      <td>NaN</td>\n",
       "      <td>NaN</td>\n",
       "    </tr>\n",
       "    <tr>\n",
       "      <th>2020-04-07</th>\n",
       "      <td>2020-04-07</td>\n",
       "      <td>Albion</td>\n",
       "      <td>NaN</td>\n",
       "      <td>5.0</td>\n",
       "      <td>2.0</td>\n",
       "      <td>NaN</td>\n",
       "      <td>NaN</td>\n",
       "      <td>NaN</td>\n",
       "      <td>NaN</td>\n",
       "      <td>NaN</td>\n",
       "      <td>...</td>\n",
       "      <td>NaN</td>\n",
       "      <td>NaN</td>\n",
       "      <td>NaN</td>\n",
       "      <td>NaN</td>\n",
       "      <td>NaN</td>\n",
       "      <td>NaN</td>\n",
       "      <td>NaN</td>\n",
       "      <td>NaN</td>\n",
       "      <td>NaN</td>\n",
       "      <td>NaN</td>\n",
       "    </tr>\n",
       "    <tr>\n",
       "      <th>2020-04-07</th>\n",
       "      <td>2020-04-07</td>\n",
       "      <td>Benner Township</td>\n",
       "      <td>NaN</td>\n",
       "      <td>4.0</td>\n",
       "      <td>1.0</td>\n",
       "      <td>NaN</td>\n",
       "      <td>NaN</td>\n",
       "      <td>NaN</td>\n",
       "      <td>2.0</td>\n",
       "      <td>NaN</td>\n",
       "      <td>...</td>\n",
       "      <td>NaN</td>\n",
       "      <td>NaN</td>\n",
       "      <td>NaN</td>\n",
       "      <td>NaN</td>\n",
       "      <td>NaN</td>\n",
       "      <td>NaN</td>\n",
       "      <td>NaN</td>\n",
       "      <td>NaN</td>\n",
       "      <td>NaN</td>\n",
       "      <td>NaN</td>\n",
       "    </tr>\n",
       "    <tr>\n",
       "      <th>2020-04-07</th>\n",
       "      <td>2020-04-07</td>\n",
       "      <td>Cambridge Springs</td>\n",
       "      <td>NaN</td>\n",
       "      <td>NaN</td>\n",
       "      <td>2.0</td>\n",
       "      <td>NaN</td>\n",
       "      <td>NaN</td>\n",
       "      <td>NaN</td>\n",
       "      <td>2.0</td>\n",
       "      <td>NaN</td>\n",
       "      <td>...</td>\n",
       "      <td>NaN</td>\n",
       "      <td>NaN</td>\n",
       "      <td>NaN</td>\n",
       "      <td>NaN</td>\n",
       "      <td>NaN</td>\n",
       "      <td>NaN</td>\n",
       "      <td>NaN</td>\n",
       "      <td>NaN</td>\n",
       "      <td>NaN</td>\n",
       "      <td>NaN</td>\n",
       "    </tr>\n",
       "    <tr>\n",
       "      <th>2020-04-07</th>\n",
       "      <td>2020-04-07</td>\n",
       "      <td>Camp Hill</td>\n",
       "      <td>2.0</td>\n",
       "      <td>1.0</td>\n",
       "      <td>NaN</td>\n",
       "      <td>NaN</td>\n",
       "      <td>NaN</td>\n",
       "      <td>NaN</td>\n",
       "      <td>NaN</td>\n",
       "      <td>1.0</td>\n",
       "      <td>...</td>\n",
       "      <td>NaN</td>\n",
       "      <td>NaN</td>\n",
       "      <td>NaN</td>\n",
       "      <td>NaN</td>\n",
       "      <td>NaN</td>\n",
       "      <td>NaN</td>\n",
       "      <td>NaN</td>\n",
       "      <td>NaN</td>\n",
       "      <td>NaN</td>\n",
       "      <td>NaN</td>\n",
       "    </tr>\n",
       "    <tr>\n",
       "      <th>...</th>\n",
       "      <td>...</td>\n",
       "      <td>...</td>\n",
       "      <td>...</td>\n",
       "      <td>...</td>\n",
       "      <td>...</td>\n",
       "      <td>...</td>\n",
       "      <td>...</td>\n",
       "      <td>...</td>\n",
       "      <td>...</td>\n",
       "      <td>...</td>\n",
       "      <td>...</td>\n",
       "      <td>...</td>\n",
       "      <td>...</td>\n",
       "      <td>...</td>\n",
       "      <td>...</td>\n",
       "      <td>...</td>\n",
       "      <td>...</td>\n",
       "      <td>...</td>\n",
       "      <td>...</td>\n",
       "      <td>...</td>\n",
       "      <td>...</td>\n",
       "    </tr>\n",
       "    <tr>\n",
       "      <th>2020-12-04</th>\n",
       "      <td>2020-12-04</td>\n",
       "      <td>Retreat</td>\n",
       "      <td>4.0</td>\n",
       "      <td>10.0</td>\n",
       "      <td>1.0</td>\n",
       "      <td>NaN</td>\n",
       "      <td>4.0</td>\n",
       "      <td>13.0</td>\n",
       "      <td>1048.0</td>\n",
       "      <td>0.0</td>\n",
       "      <td>...</td>\n",
       "      <td>0.0</td>\n",
       "      <td>0.0</td>\n",
       "      <td>0.0</td>\n",
       "      <td>0.0</td>\n",
       "      <td>0.0</td>\n",
       "      <td>0.0</td>\n",
       "      <td>0.0</td>\n",
       "      <td>0.0</td>\n",
       "      <td>0.0</td>\n",
       "      <td>NaN</td>\n",
       "    </tr>\n",
       "    <tr>\n",
       "      <th>2020-12-04</th>\n",
       "      <td>2020-12-04</td>\n",
       "      <td>Rockview</td>\n",
       "      <td>89.0</td>\n",
       "      <td>46.0</td>\n",
       "      <td>21.0</td>\n",
       "      <td>NaN</td>\n",
       "      <td>30.0</td>\n",
       "      <td>73.0</td>\n",
       "      <td>763.0</td>\n",
       "      <td>97.0</td>\n",
       "      <td>...</td>\n",
       "      <td>0.0</td>\n",
       "      <td>0.0</td>\n",
       "      <td>0.0</td>\n",
       "      <td>0.0</td>\n",
       "      <td>0.0</td>\n",
       "      <td>0.0</td>\n",
       "      <td>0.0</td>\n",
       "      <td>0.0</td>\n",
       "      <td>0.0</td>\n",
       "      <td>NaN</td>\n",
       "    </tr>\n",
       "    <tr>\n",
       "      <th>2020-12-04</th>\n",
       "      <td>2020-12-04</td>\n",
       "      <td>Smithfield</td>\n",
       "      <td>87.0</td>\n",
       "      <td>133.0</td>\n",
       "      <td>20.0</td>\n",
       "      <td>NaN</td>\n",
       "      <td>51.0</td>\n",
       "      <td>63.0</td>\n",
       "      <td>510.0</td>\n",
       "      <td>158.0</td>\n",
       "      <td>...</td>\n",
       "      <td>0.0</td>\n",
       "      <td>0.0</td>\n",
       "      <td>0.0</td>\n",
       "      <td>0.0</td>\n",
       "      <td>0.0</td>\n",
       "      <td>0.0</td>\n",
       "      <td>0.0</td>\n",
       "      <td>0.0</td>\n",
       "      <td>0.0</td>\n",
       "      <td>NaN</td>\n",
       "    </tr>\n",
       "    <tr>\n",
       "      <th>2020-12-04</th>\n",
       "      <td>2020-12-04</td>\n",
       "      <td>Somerset</td>\n",
       "      <td>70.0</td>\n",
       "      <td>47.0</td>\n",
       "      <td>22.0</td>\n",
       "      <td>NaN</td>\n",
       "      <td>37.0</td>\n",
       "      <td>247.0</td>\n",
       "      <td>642.0</td>\n",
       "      <td>644.0</td>\n",
       "      <td>...</td>\n",
       "      <td>0.0</td>\n",
       "      <td>0.0</td>\n",
       "      <td>0.0</td>\n",
       "      <td>0.0</td>\n",
       "      <td>0.0</td>\n",
       "      <td>0.0</td>\n",
       "      <td>0.0</td>\n",
       "      <td>0.0</td>\n",
       "      <td>0.0</td>\n",
       "      <td>NaN</td>\n",
       "    </tr>\n",
       "    <tr>\n",
       "      <th>2020-12-04</th>\n",
       "      <td>2020-12-04</td>\n",
       "      <td>Waymart</td>\n",
       "      <td>27.0</td>\n",
       "      <td>84.0</td>\n",
       "      <td>6.0</td>\n",
       "      <td>NaN</td>\n",
       "      <td>4.0</td>\n",
       "      <td>62.0</td>\n",
       "      <td>499.0</td>\n",
       "      <td>87.0</td>\n",
       "      <td>...</td>\n",
       "      <td>0.0</td>\n",
       "      <td>0.0</td>\n",
       "      <td>0.0</td>\n",
       "      <td>0.0</td>\n",
       "      <td>0.0</td>\n",
       "      <td>0.0</td>\n",
       "      <td>0.0</td>\n",
       "      <td>0.0</td>\n",
       "      <td>0.0</td>\n",
       "      <td>NaN</td>\n",
       "    </tr>\n",
       "  </tbody>\n",
       "</table>\n",
       "<p>2558 rows × 44 columns</p>\n",
       "</div>"
      ],
      "text/plain": [
       "                date.1                SCI  staff_positive  staff_negative  \\\n",
       "date                                                                        \n",
       "2020-04-07  2020-04-07           Rockview             NaN             1.0   \n",
       "2020-04-07  2020-04-07             Albion             NaN             5.0   \n",
       "2020-04-07  2020-04-07    Benner Township             NaN             4.0   \n",
       "2020-04-07  2020-04-07  Cambridge Springs             NaN             NaN   \n",
       "2020-04-07  2020-04-07          Camp Hill             2.0             1.0   \n",
       "...                ...                ...             ...             ...   \n",
       "2020-12-04  2020-12-04            Retreat             4.0            10.0   \n",
       "2020-12-04  2020-12-04           Rockview            89.0            46.0   \n",
       "2020-12-04  2020-12-04         Smithfield            87.0           133.0   \n",
       "2020-12-04  2020-12-04           Somerset            70.0            47.0   \n",
       "2020-12-04  2020-12-04            Waymart            27.0            84.0   \n",
       "\n",
       "            staff_pending  staff_death  staff_recovered  \\\n",
       "date                                                      \n",
       "2020-04-07            2.0          NaN              NaN   \n",
       "2020-04-07            2.0          NaN              NaN   \n",
       "2020-04-07            1.0          NaN              NaN   \n",
       "2020-04-07            2.0          NaN              NaN   \n",
       "2020-04-07            NaN          NaN              NaN   \n",
       "...                   ...          ...              ...   \n",
       "2020-12-04            1.0          NaN              4.0   \n",
       "2020-12-04           21.0          NaN             30.0   \n",
       "2020-12-04           20.0          NaN             51.0   \n",
       "2020-12-04           22.0          NaN             37.0   \n",
       "2020-12-04            6.0          NaN              4.0   \n",
       "\n",
       "            incarcerated_person_positive  incarcerated_person_negative  \\\n",
       "date                                                                     \n",
       "2020-04-07                           NaN                           NaN   \n",
       "2020-04-07                           NaN                           NaN   \n",
       "2020-04-07                           NaN                           2.0   \n",
       "2020-04-07                           NaN                           2.0   \n",
       "2020-04-07                           NaN                           NaN   \n",
       "...                                  ...                           ...   \n",
       "2020-12-04                          13.0                        1048.0   \n",
       "2020-12-04                          73.0                         763.0   \n",
       "2020-12-04                          63.0                         510.0   \n",
       "2020-12-04                         247.0                         642.0   \n",
       "2020-12-04                          62.0                         499.0   \n",
       "\n",
       "            incarcerated_person_pending  ...  test_transfer_positive_new  \\\n",
       "date                                     ...                               \n",
       "2020-04-07                          NaN  ...                         NaN   \n",
       "2020-04-07                          NaN  ...                         NaN   \n",
       "2020-04-07                          NaN  ...                         NaN   \n",
       "2020-04-07                          NaN  ...                         NaN   \n",
       "2020-04-07                          1.0  ...                         NaN   \n",
       "...                                 ...  ...                         ...   \n",
       "2020-12-04                          0.0  ...                         0.0   \n",
       "2020-12-04                         97.0  ...                         0.0   \n",
       "2020-12-04                        158.0  ...                         0.0   \n",
       "2020-12-04                        644.0  ...                         0.0   \n",
       "2020-12-04                         87.0  ...                         0.0   \n",
       "\n",
       "            test_release_new  test_release_positive_new  test_hospital_new  \\\n",
       "date                                                                         \n",
       "2020-04-07               NaN                        NaN                NaN   \n",
       "2020-04-07               NaN                        NaN                NaN   \n",
       "2020-04-07               NaN                        NaN                NaN   \n",
       "2020-04-07               NaN                        NaN                NaN   \n",
       "2020-04-07               NaN                        NaN                NaN   \n",
       "...                      ...                        ...                ...   \n",
       "2020-12-04               0.0                        0.0                0.0   \n",
       "2020-12-04               0.0                        0.0                0.0   \n",
       "2020-12-04               0.0                        0.0                0.0   \n",
       "2020-12-04               0.0                        0.0                0.0   \n",
       "2020-12-04               0.0                        0.0                0.0   \n",
       "\n",
       "            test_hospital_positive_new  test_surveilance_new  \\\n",
       "date                                                           \n",
       "2020-04-07                         NaN                   NaN   \n",
       "2020-04-07                         NaN                   NaN   \n",
       "2020-04-07                         NaN                   NaN   \n",
       "2020-04-07                         NaN                   NaN   \n",
       "2020-04-07                         NaN                   NaN   \n",
       "...                                ...                   ...   \n",
       "2020-12-04                         0.0                   0.0   \n",
       "2020-12-04                         0.0                   0.0   \n",
       "2020-12-04                         0.0                   0.0   \n",
       "2020-12-04                         0.0                   0.0   \n",
       "2020-12-04                         0.0                   0.0   \n",
       "\n",
       "            test_surveilance_positive_new  test_symptomatic_new  \\\n",
       "date                                                              \n",
       "2020-04-07                            NaN                   NaN   \n",
       "2020-04-07                            NaN                   NaN   \n",
       "2020-04-07                            NaN                   NaN   \n",
       "2020-04-07                            NaN                   NaN   \n",
       "2020-04-07                            NaN                   NaN   \n",
       "...                                   ...                   ...   \n",
       "2020-12-04                            0.0                   0.0   \n",
       "2020-12-04                            0.0                   0.0   \n",
       "2020-12-04                            0.0                   0.0   \n",
       "2020-12-04                            0.0                   0.0   \n",
       "2020-12-04                            0.0                   0.0   \n",
       "\n",
       "            test_symptomatic_positive_new  test_miscellaneous_new  \n",
       "date                                                               \n",
       "2020-04-07                            NaN                     NaN  \n",
       "2020-04-07                            NaN                     NaN  \n",
       "2020-04-07                            NaN                     NaN  \n",
       "2020-04-07                            NaN                     NaN  \n",
       "2020-04-07                            NaN                     NaN  \n",
       "...                                   ...                     ...  \n",
       "2020-12-04                            0.0                     NaN  \n",
       "2020-12-04                            0.0                     NaN  \n",
       "2020-12-04                            0.0                     NaN  \n",
       "2020-12-04                            0.0                     NaN  \n",
       "2020-12-04                            0.0                     NaN  \n",
       "\n",
       "[2558 rows x 44 columns]"
      ]
     },
     "execution_count": 121,
     "metadata": {},
     "output_type": "execute_result"
    }
   ],
   "source": [
    "doc_df"
   ]
  },
  {
   "cell_type": "code",
   "execution_count": null,
   "metadata": {},
   "outputs": [],
   "source": []
  },
  {
   "cell_type": "code",
   "execution_count": 122,
   "metadata": {},
   "outputs": [],
   "source": [
    "cases_by_week = doc_df.resample('7D')['incarcerated_person_positive_new'].sum().to_frame()"
   ]
  },
  {
   "cell_type": "code",
   "execution_count": 123,
   "metadata": {},
   "outputs": [
    {
     "data": {
      "text/plain": [
       "<AxesSubplot:xlabel='date'>"
      ]
     },
     "execution_count": 123,
     "metadata": {},
     "output_type": "execute_result"
    },
    {
     "data": {
      "image/png": "[encoded data removed]",
      "text/plain": [
       "<Figure size 432x288 with 1 Axes>"
      ]
     },
     "metadata": {
      "needs_background": "light"
     },
     "output_type": "display_data"
    }
   ],
   "source": [
    "cases_by_week.plot()"
   ]
  },
  {
   "cell_type": "markdown",
   "metadata": {},
   "source": [
    "## Create ggplot (plotnine) summary graph"
   ]
  },
  {
   "cell_type": "code",
   "execution_count": 124,
   "metadata": {},
   "outputs": [],
   "source": [
    "from_week = cases_by_week.index.min().strftime('%d %b')\n",
    "to_week = cases_by_week.index.max().strftime('%d %b')"
   ]
  },
  {
   "cell_type": "code",
   "execution_count": 125,
   "metadata": {},
   "outputs": [],
   "source": [
    "\n",
    "ymax = int(round(cases_by_week.max()/100)*100)\n",
    "\n",
    "ptitle = f'Weekly positive Covid19 cases in Pennsylvania prison\\nfor weeks of {from_week} to {to_week}'\n",
    "\n",
    "\n",
    "\n",
    "case_plot = (\n",
    "    ggplot(cases_by_week) + \n",
    "    aes(x=cases_by_week.index, y='incarcerated_person_positive_new') + \n",
    "    geom_point(size=0, color='white') + \n",
    "    geom_smooth(se=False,method='loess',span=0.3, size=1.5, color='darkblue') +\n",
    "    scale_x_datetime(breaks=date_breaks('1 months'), labels=date_format('%b')) + \n",
    "                    theme(panel_background = element_blank(), \n",
    "                          axis_title_y=element_text(size=10, color='darkblue'),\n",
    "                          axis_text_y=element_line(color='darkblue'),\n",
    "                          title=element_text(size=14),\n",
    "                          axis_line_x=element_line(color='black', size=0.7),\n",
    "                          axis_ticks_major_x=element_blank()\n",
    "                         ) + \n",
    "                    ylim(0,ymax) +\n",
    "                    ylab('Inmate Covid19 positive test result') + ggtitle(ptitle)\n",
    ")"
   ]
  },
  {
   "cell_type": "code",
   "execution_count": 126,
   "metadata": {},
   "outputs": [
    {
     "data": {
      "image/png": "[encoded data removed]",
      "text/plain": [
       "<Figure size 640x480 with 1 Axes>"
      ]
     },
     "metadata": {},
     "output_type": "display_data"
    },
    {
     "data": {
      "text/plain": [
       "<ggplot: (318335997)>"
      ]
     },
     "execution_count": 126,
     "metadata": {},
     "output_type": "execute_result"
    }
   ],
   "source": [
    "case_plot"
   ]
  },
  {
   "cell_type": "code",
   "execution_count": 127,
   "metadata": {},
   "outputs": [],
   "source": [
    "case_plot.save('../img/Covid19_cases_in_PA_SCI.svg')"
   ]
  },
  {
   "cell_type": "markdown",
   "metadata": {},
   "source": [
    "### Sparklines for SCI"
   ]
  },
  {
   "cell_type": "code",
   "execution_count": 128,
   "metadata": {},
   "outputs": [],
   "source": [
    "def plot_SCI_sparkline(df, SCI, rolling_avg=None):\n",
    "    '''plot a sparkline for an SCI\n",
    "    \n",
    "    \n",
    "    '''\n",
    "    daily_ts = doc_df[doc_df['SCI']==SCI].resample('D')['incarcerated_person_positive_new'].sum()\n",
    "    \n",
    "    if rolling_avg:\n",
    "        daily_ts=daily_ts.rolling(rolling_avg).mean()\n",
    "    \n",
    "    start=daily_ts.index.min().strftime('%b %d')\n",
    "    end=daily_ts.index.max().strftime('%b %d')\n",
    "    \n",
    "    xmax = daily_ts.idxmax()\n",
    "    ymax = daily_ts.max()\n",
    "    \n",
    "    if rolling_avg:\n",
    "        ymax_str = f'{ymax:0.1f}'\n",
    "    else:\n",
    "        ymax_str = str(round(ymax))\n",
    "\n",
    "    \n",
    "    fig,ax=plt.subplots(figsize=(4,0.4))\n",
    "    sci_plot= daily_ts.plot(ax=ax)\n",
    "    my_xticks = ax.get_xticks()\n",
    "    \n",
    "    #sci_plot.set_axis_off()\n",
    "    sci_plot.set_frame_on(False)\n",
    "    sci_plot.get_yaxis().set_visible(False)\n",
    "    sci_plot.get_xaxis().set_visible(True)\n",
    "    \n",
    "    sci_plot.set_xticks([my_xticks[0], my_xticks[-1]])\n",
    "    sci_plot.set_xticklabels([start, end])\n",
    "    sci_plot.xaxis.set_ticks_position('none') \n",
    "    sci_plot.set_xlabel(SCI)\n",
    "    sci_plot.annotate(ymax_str, (xmax,ymax), color='red')\n",
    "    \n",
    "    sci_plot.axes.set_xlim(right=daily_ts.index.max()+timedelta(days=2))\n",
    "    \n",
    "    return fig"
   ]
  },
  {
   "cell_type": "code",
   "execution_count": 129,
   "metadata": {},
   "outputs": [
    {
     "data": {
      "image/png": "[encoded data removed]",
      "text/plain": [
       "<Figure size 288x28.8 with 1 Axes>"
      ]
     },
     "execution_count": 129,
     "metadata": {},
     "output_type": "execute_result"
    },
    {
     "data": {
      "image/png": "[encoded data removed]",
      "text/plain": [
       "<Figure size 288x28.8 with 1 Axes>"
      ]
     },
     "metadata": {
      "needs_background": "light"
     },
     "output_type": "display_data"
    }
   ],
   "source": [
    "plot_SCI_sparkline(doc_df, 'Waymart', rolling_avg=None)"
   ]
  },
  {
   "cell_type": "code",
   "execution_count": 130,
   "metadata": {
    "scrolled": false
   },
   "outputs": [
    {
     "data": {
      "image/png": "[encoded data removed]",
      "text/plain": [
       "<Figure size 288x28.8 with 1 Axes>"
      ]
     },
     "metadata": {
      "needs_background": "light"
     },
     "output_type": "display_data"
    },
    {
     "data": {
      "image/png": "[encoded data removed]",
      "text/plain": [
       "<Figure size 288x28.8 with 1 Axes>"
      ]
     },
     "metadata": {
      "needs_background": "light"
     },
     "output_type": "display_data"
    },
    {
     "data": {
      "image/png": "[encoded data removed]",
      "text/plain": [
       "<Figure size 288x28.8 with 1 Axes>"
      ]
     },
     "metadata": {
      "needs_background": "light"
     },
     "output_type": "display_data"
    },
    {
     "data": {
      "image/png": "[encoded data removed]",
      "text/plain": [
       "<Figure size 288x28.8 with 1 Axes>"
      ]
     },
     "metadata": {
      "needs_background": "light"
     },
     "output_type": "display_data"
    },
    {
     "data": {
      "image/png": "[encoded data removed]",
      "text/plain": [
       "<Figure size 288x28.8 with 1 Axes>"
      ]
     },
     "metadata": {
      "needs_background": "light"
     },
     "output_type": "display_data"
    },
    {
     "data": {
      "image/png": "[encoded data removed]",
      "text/plain": [
       "<Figure size 288x28.8 with 1 Axes>"
      ]
     },
     "metadata": {
      "needs_background": "light"
     },
     "output_type": "display_data"
    },
    {
     "data": {
      "image/png": "[encoded data removed]",
      "text/plain": [
       "<Figure size 288x28.8 with 1 Axes>"
      ]
     },
     "metadata": {
      "needs_background": "light"
     },
     "output_type": "display_data"
    },
    {
     "data": {
      "image/png": "[encoded data removed]",
      "text/plain": [
       "<Figure size 288x28.8 with 1 Axes>"
      ]
     },
     "metadata": {
      "needs_background": "light"
     },
     "output_type": "display_data"
    },
    {
     "data": {
      "image/png": "[encoded data removed]",
      "text/plain": [
       "<Figure size 288x28.8 with 1 Axes>"
      ]
     },
     "metadata": {
      "needs_background": "light"
     },
     "output_type": "display_data"
    },
    {
     "data": {
      "image/png": "[encoded data removed]",
      "text/plain": [
       "<Figure size 288x28.8 with 1 Axes>"
      ]
     },
     "metadata": {
      "needs_background": "light"
     },
     "output_type": "display_data"
    },
    {
     "data": {
      "image/png": "[encoded data removed]",
      "text/plain": [
       "<Figure size 288x28.8 with 1 Axes>"
      ]
     },
     "metadata": {
      "needs_background": "light"
     },
     "output_type": "display_data"
    },
    {
     "data": {
      "image/png": "[encoded data removed]",
      "text/plain": [
       "<Figure size 288x28.8 with 1 Axes>"
      ]
     },
     "metadata": {
      "needs_background": "light"
     },
     "output_type": "display_data"
    },
    {
     "data": {
      "image/png": "[encoded data removed]",
      "text/plain": [
       "<Figure size 288x28.8 with 1 Axes>"
      ]
     },
     "metadata": {
      "needs_background": "light"
     },
     "output_type": "display_data"
    },
    {
     "data": {
      "image/png": "[encoded data removed]",
      "text/plain": [
       "<Figure size 288x28.8 with 1 Axes>"
      ]
     },
     "metadata": {
      "needs_background": "light"
     },
     "output_type": "display_data"
    },
    {
     "data": {
      "image/png": "[encoded data removed]",
      "text/plain": [
       "<Figure size 288x28.8 with 1 Axes>"
      ]
     },
     "metadata": {
      "needs_background": "light"
     },
     "output_type": "display_data"
    },
    {
     "data": {
      "image/png": "[encoded data removed]",
      "text/plain": [
       "<Figure size 288x28.8 with 1 Axes>"
      ]
     },
     "metadata": {
      "needs_background": "light"
     },
     "output_type": "display_data"
    },
    {
     "data": {
      "image/png": "[encoded data removed]",
      "text/plain": [
       "<Figure size 288x28.8 with 1 Axes>"
      ]
     },
     "metadata": {
      "needs_background": "light"
     },
     "output_type": "display_data"
    },
    {
     "data": {
      "image/png": "[encoded data removed]",
      "text/plain": [
       "<Figure size 288x28.8 with 1 Axes>"
      ]
     },
     "metadata": {
      "needs_background": "light"
     },
     "output_type": "display_data"
    },
    {
     "data": {
      "image/png": "[encoded data removed]",
      "text/plain": [
       "<Figure size 288x28.8 with 1 Axes>"
      ]
     },
     "metadata": {
      "needs_background": "light"
     },
     "output_type": "display_data"
    },
    {
     "data": {
      "image/png": "[encoded data removed]",
      "text/plain": [
       "<Figure size 288x28.8 with 1 Axes>"
      ]
     },
     "metadata": {
      "needs_background": "light"
     },
     "output_type": "display_data"
    },
    {
     "data": {
      "image/png": "[encoded data removed]",
      "text/plain": [
       "<Figure size 288x28.8 with 1 Axes>"
      ]
     },
     "metadata": {
      "needs_background": "light"
     },
     "output_type": "display_data"
    },
    {
     "data": {
      "image/png": "[encoded data removed]",
      "text/plain": [
       "<Figure size 288x28.8 with 1 Axes>"
      ]
     },
     "metadata": {
      "needs_background": "light"
     },
     "output_type": "display_data"
    },
    {
     "data": {
      "image/png": "[encoded data removed]",
      "text/plain": [
       "<Figure size 288x28.8 with 1 Axes>"
      ]
     },
     "metadata": {
      "needs_background": "light"
     },
     "output_type": "display_data"
    },
    {
     "data": {
      "image/png": "[encoded data removed]",
      "text/plain": [
       "<Figure size 288x28.8 with 1 Axes>"
      ]
     },
     "metadata": {
      "needs_background": "light"
     },
     "output_type": "display_data"
    },
    {
     "data": {
      "image/png": "[encoded data removed]",
      "text/plain": [
       "<Figure size 288x28.8 with 1 Axes>"
      ]
     },
     "metadata": {
      "needs_background": "light"
     },
     "output_type": "display_data"
    }
   ],
   "source": [
    "for SCI in doc_df['SCI'].unique():\n",
    "    plot_SCI_sparkline(doc_df, SCI, rolling_avg='1D')"
   ]
  },
  {
   "cell_type": "code",
   "execution_count": null,
   "metadata": {},
   "outputs": [],
   "source": []
  },
  {
   "cell_type": "code",
   "execution_count": 134,
   "metadata": {},
   "outputs": [
    {
     "data": {
      "text/html": [
       "<div>\n",
       "<style scoped>\n",
       "    .dataframe tbody tr th:only-of-type {\n",
       "        vertical-align: middle;\n",
       "    }\n",
       "\n",
       "    .dataframe tbody tr th {\n",
       "        vertical-align: top;\n",
       "    }\n",
       "\n",
       "    .dataframe thead th {\n",
       "        text-align: right;\n",
       "    }\n",
       "</style>\n",
       "<table border=\"1\" class=\"dataframe\">\n",
       "  <thead>\n",
       "    <tr style=\"text-align: right;\">\n",
       "      <th></th>\n",
       "      <th>SCI</th>\n",
       "      <th>incarcerated_person_positive_new</th>\n",
       "    </tr>\n",
       "    <tr>\n",
       "      <th>date</th>\n",
       "      <th></th>\n",
       "      <th></th>\n",
       "    </tr>\n",
       "  </thead>\n",
       "  <tbody>\n",
       "    <tr>\n",
       "      <th>2020-12-03</th>\n",
       "      <td>Albion</td>\n",
       "      <td>0.0</td>\n",
       "    </tr>\n",
       "    <tr>\n",
       "      <th>2020-12-03</th>\n",
       "      <td>Rockview</td>\n",
       "      <td>0.0</td>\n",
       "    </tr>\n",
       "    <tr>\n",
       "      <th>2020-12-03</th>\n",
       "      <td>Retreat</td>\n",
       "      <td>0.0</td>\n",
       "    </tr>\n",
       "    <tr>\n",
       "      <th>2020-12-03</th>\n",
       "      <td>Quehanna BC</td>\n",
       "      <td>0.0</td>\n",
       "    </tr>\n",
       "    <tr>\n",
       "      <th>2020-12-03</th>\n",
       "      <td>Phoenix</td>\n",
       "      <td>0.0</td>\n",
       "    </tr>\n",
       "    <tr>\n",
       "      <th>2020-12-03</th>\n",
       "      <td>Muncy</td>\n",
       "      <td>0.0</td>\n",
       "    </tr>\n",
       "    <tr>\n",
       "      <th>2020-12-03</th>\n",
       "      <td>Mahanoy</td>\n",
       "      <td>0.0</td>\n",
       "    </tr>\n",
       "    <tr>\n",
       "      <th>2020-12-03</th>\n",
       "      <td>Houtzdale</td>\n",
       "      <td>0.0</td>\n",
       "    </tr>\n",
       "    <tr>\n",
       "      <th>2020-12-03</th>\n",
       "      <td>Greene</td>\n",
       "      <td>0.0</td>\n",
       "    </tr>\n",
       "    <tr>\n",
       "      <th>2020-12-03</th>\n",
       "      <td>Huntingdon</td>\n",
       "      <td>0.0</td>\n",
       "    </tr>\n",
       "    <tr>\n",
       "      <th>2020-12-03</th>\n",
       "      <td>Fayette</td>\n",
       "      <td>0.0</td>\n",
       "    </tr>\n",
       "    <tr>\n",
       "      <th>2020-12-03</th>\n",
       "      <td>Chester</td>\n",
       "      <td>0.0</td>\n",
       "    </tr>\n",
       "    <tr>\n",
       "      <th>2020-12-03</th>\n",
       "      <td>Camp Hill</td>\n",
       "      <td>0.0</td>\n",
       "    </tr>\n",
       "    <tr>\n",
       "      <th>2020-12-03</th>\n",
       "      <td>Frackville</td>\n",
       "      <td>0.0</td>\n",
       "    </tr>\n",
       "    <tr>\n",
       "      <th>2020-12-03</th>\n",
       "      <td>Forest</td>\n",
       "      <td>1.0</td>\n",
       "    </tr>\n",
       "    <tr>\n",
       "      <th>2020-12-03</th>\n",
       "      <td>Mercer</td>\n",
       "      <td>1.0</td>\n",
       "    </tr>\n",
       "    <tr>\n",
       "      <th>2020-12-03</th>\n",
       "      <td>Pine Grove</td>\n",
       "      <td>1.0</td>\n",
       "    </tr>\n",
       "    <tr>\n",
       "      <th>2020-12-03</th>\n",
       "      <td>Waymart</td>\n",
       "      <td>1.0</td>\n",
       "    </tr>\n",
       "    <tr>\n",
       "      <th>2020-12-03</th>\n",
       "      <td>Smithfield</td>\n",
       "      <td>2.0</td>\n",
       "    </tr>\n",
       "    <tr>\n",
       "      <th>2020-12-03</th>\n",
       "      <td>Coal Township</td>\n",
       "      <td>3.0</td>\n",
       "    </tr>\n",
       "    <tr>\n",
       "      <th>2020-12-03</th>\n",
       "      <td>Benner Township</td>\n",
       "      <td>4.0</td>\n",
       "    </tr>\n",
       "    <tr>\n",
       "      <th>2020-12-03</th>\n",
       "      <td>Laurel Highlands</td>\n",
       "      <td>9.0</td>\n",
       "    </tr>\n",
       "    <tr>\n",
       "      <th>2020-12-03</th>\n",
       "      <td>Somerset</td>\n",
       "      <td>11.0</td>\n",
       "    </tr>\n",
       "    <tr>\n",
       "      <th>2020-12-03</th>\n",
       "      <td>Dallas</td>\n",
       "      <td>15.0</td>\n",
       "    </tr>\n",
       "    <tr>\n",
       "      <th>2020-12-03</th>\n",
       "      <td>Cambridge Springs</td>\n",
       "      <td>19.0</td>\n",
       "    </tr>\n",
       "  </tbody>\n",
       "</table>\n",
       "</div>"
      ],
      "text/plain": [
       "                          SCI  incarcerated_person_positive_new\n",
       "date                                                           \n",
       "2020-12-03             Albion                               0.0\n",
       "2020-12-03           Rockview                               0.0\n",
       "2020-12-03            Retreat                               0.0\n",
       "2020-12-03        Quehanna BC                               0.0\n",
       "2020-12-03            Phoenix                               0.0\n",
       "2020-12-03              Muncy                               0.0\n",
       "2020-12-03            Mahanoy                               0.0\n",
       "2020-12-03          Houtzdale                               0.0\n",
       "2020-12-03             Greene                               0.0\n",
       "2020-12-03         Huntingdon                               0.0\n",
       "2020-12-03            Fayette                               0.0\n",
       "2020-12-03            Chester                               0.0\n",
       "2020-12-03          Camp Hill                               0.0\n",
       "2020-12-03         Frackville                               0.0\n",
       "2020-12-03             Forest                               1.0\n",
       "2020-12-03             Mercer                               1.0\n",
       "2020-12-03         Pine Grove                               1.0\n",
       "2020-12-03            Waymart                               1.0\n",
       "2020-12-03         Smithfield                               2.0\n",
       "2020-12-03      Coal Township                               3.0\n",
       "2020-12-03    Benner Township                               4.0\n",
       "2020-12-03   Laurel Highlands                               9.0\n",
       "2020-12-03           Somerset                              11.0\n",
       "2020-12-03             Dallas                              15.0\n",
       "2020-12-03  Cambridge Springs                              19.0"
      ]
     },
     "execution_count": 134,
     "metadata": {},
     "output_type": "execute_result"
    }
   ],
   "source": [
    "doc_df.loc['2020-12-03'][['SCI','incarcerated_person_positive_new']].sort_values('incarcerated_person_positive_new')"
   ]
  },
  {
   "cell_type": "code",
   "execution_count": null,
   "metadata": {},
   "outputs": [],
   "source": []
  },
  {
   "cell_type": "code",
   "execution_count": 132,
   "metadata": {},
   "outputs": [
    {
     "data": {
      "text/plain": [
       "<AxesSubplot:xlabel='date'>"
      ]
     },
     "execution_count": 132,
     "metadata": {},
     "output_type": "execute_result"
    },
    {
     "data": {
      "image/png": "[encoded data removed]",
      "text/plain": [
       "<Figure size 432x288 with 1 Axes>"
      ]
     },
     "metadata": {
      "needs_background": "light"
     },
     "output_type": "display_data"
    }
   ],
   "source": [
    "doc_df[doc_df['SCI']=='Waymart']['incarcerated_person_positive_new'].plot(kind='bar')"
   ]
  },
  {
   "cell_type": "code",
   "execution_count": 154,
   "metadata": {},
   "outputs": [],
   "source": [
    "d1=doc_df.loc['2020-12-03'].reset_index()[cols_for_comparison]\n",
    "d2=doc_df.loc['2020-12-04'].reset_index()[cols_for_comparison]"
   ]
  },
  {
   "cell_type": "code",
   "execution_count": 156,
   "metadata": {},
   "outputs": [
    {
     "data": {
      "text/plain": [
       "False"
      ]
     },
     "execution_count": 156,
     "metadata": {},
     "output_type": "execute_result"
    }
   ],
   "source": [
    "d1.equals(d2)"
   ]
  },
  {
   "cell_type": "code",
   "execution_count": 158,
   "metadata": {},
   "outputs": [
    {
     "data": {
      "text/html": [
       "<div>\n",
       "<style scoped>\n",
       "    .dataframe tbody tr th:only-of-type {\n",
       "        vertical-align: middle;\n",
       "    }\n",
       "\n",
       "    .dataframe tbody tr th {\n",
       "        vertical-align: top;\n",
       "    }\n",
       "\n",
       "    .dataframe thead th {\n",
       "        text-align: right;\n",
       "    }\n",
       "</style>\n",
       "<table border=\"1\" class=\"dataframe\">\n",
       "  <thead>\n",
       "    <tr style=\"text-align: right;\">\n",
       "      <th></th>\n",
       "      <th>SCI</th>\n",
       "      <th>staff_positive</th>\n",
       "      <th>staff_negative</th>\n",
       "      <th>staff_pending</th>\n",
       "      <th>staff_death</th>\n",
       "      <th>staff_recovered</th>\n",
       "      <th>incarcerated_person_positive</th>\n",
       "      <th>incarcerated_person_negative</th>\n",
       "      <th>incarcerated_person_pending</th>\n",
       "      <th>incarcerated_person_death</th>\n",
       "      <th>...</th>\n",
       "      <th>test_transfer_positive</th>\n",
       "      <th>test_release</th>\n",
       "      <th>test_release_positive</th>\n",
       "      <th>test_hospital</th>\n",
       "      <th>test_hospital_positive</th>\n",
       "      <th>test_surveilance</th>\n",
       "      <th>test_surveilance_positive</th>\n",
       "      <th>test_symptomatic</th>\n",
       "      <th>test_symptomatic_positive</th>\n",
       "      <th>test_miscellaneous</th>\n",
       "    </tr>\n",
       "  </thead>\n",
       "  <tbody>\n",
       "    <tr>\n",
       "      <th>0</th>\n",
       "      <td>Albion</td>\n",
       "      <td>24.0</td>\n",
       "      <td>26.0</td>\n",
       "      <td>33.0</td>\n",
       "      <td>NaN</td>\n",
       "      <td>2.0</td>\n",
       "      <td>10.0</td>\n",
       "      <td>468.0</td>\n",
       "      <td>157.0</td>\n",
       "      <td>NaN</td>\n",
       "      <td>...</td>\n",
       "      <td>2.0</td>\n",
       "      <td>329.0</td>\n",
       "      <td>3.0</td>\n",
       "      <td>113.0</td>\n",
       "      <td>5.0</td>\n",
       "      <td>2.0</td>\n",
       "      <td>0.0</td>\n",
       "      <td>4.0</td>\n",
       "      <td>0.0</td>\n",
       "      <td>NaN</td>\n",
       "    </tr>\n",
       "    <tr>\n",
       "      <th>1</th>\n",
       "      <td>Benner Township</td>\n",
       "      <td>56.0</td>\n",
       "      <td>56.0</td>\n",
       "      <td>71.0</td>\n",
       "      <td>NaN</td>\n",
       "      <td>45.0</td>\n",
       "      <td>48.0</td>\n",
       "      <td>389.0</td>\n",
       "      <td>111.0</td>\n",
       "      <td>1.0</td>\n",
       "      <td>...</td>\n",
       "      <td>0.0</td>\n",
       "      <td>267.0</td>\n",
       "      <td>4.0</td>\n",
       "      <td>18.0</td>\n",
       "      <td>2.0</td>\n",
       "      <td>90.0</td>\n",
       "      <td>14.0</td>\n",
       "      <td>35.0</td>\n",
       "      <td>28.0</td>\n",
       "      <td>NaN</td>\n",
       "    </tr>\n",
       "    <tr>\n",
       "      <th>2</th>\n",
       "      <td>Cambridge Springs</td>\n",
       "      <td>11.0</td>\n",
       "      <td>17.0</td>\n",
       "      <td>9.0</td>\n",
       "      <td>NaN</td>\n",
       "      <td>1.0</td>\n",
       "      <td>26.0</td>\n",
       "      <td>556.0</td>\n",
       "      <td>89.0</td>\n",
       "      <td>NaN</td>\n",
       "      <td>...</td>\n",
       "      <td>0.0</td>\n",
       "      <td>427.0</td>\n",
       "      <td>4.0</td>\n",
       "      <td>23.0</td>\n",
       "      <td>1.0</td>\n",
       "      <td>79.0</td>\n",
       "      <td>1.0</td>\n",
       "      <td>29.0</td>\n",
       "      <td>20.0</td>\n",
       "      <td>NaN</td>\n",
       "    </tr>\n",
       "    <tr>\n",
       "      <th>3</th>\n",
       "      <td>Camp Hill</td>\n",
       "      <td>102.0</td>\n",
       "      <td>93.0</td>\n",
       "      <td>58.0</td>\n",
       "      <td>1.0</td>\n",
       "      <td>63.0</td>\n",
       "      <td>115.0</td>\n",
       "      <td>4383.0</td>\n",
       "      <td>2819.0</td>\n",
       "      <td>1.0</td>\n",
       "      <td>...</td>\n",
       "      <td>32.0</td>\n",
       "      <td>581.0</td>\n",
       "      <td>7.0</td>\n",
       "      <td>24.0</td>\n",
       "      <td>4.0</td>\n",
       "      <td>799.0</td>\n",
       "      <td>60.0</td>\n",
       "      <td>25.0</td>\n",
       "      <td>10.0</td>\n",
       "      <td>NaN</td>\n",
       "    </tr>\n",
       "    <tr>\n",
       "      <th>4</th>\n",
       "      <td>Chester</td>\n",
       "      <td>120.0</td>\n",
       "      <td>28.0</td>\n",
       "      <td>69.0</td>\n",
       "      <td>NaN</td>\n",
       "      <td>38.0</td>\n",
       "      <td>163.0</td>\n",
       "      <td>720.0</td>\n",
       "      <td>183.0</td>\n",
       "      <td>4.0</td>\n",
       "      <td>...</td>\n",
       "      <td>6.0</td>\n",
       "      <td>449.0</td>\n",
       "      <td>21.0</td>\n",
       "      <td>13.0</td>\n",
       "      <td>6.0</td>\n",
       "      <td>170.0</td>\n",
       "      <td>28.0</td>\n",
       "      <td>107.0</td>\n",
       "      <td>100.0</td>\n",
       "      <td>NaN</td>\n",
       "    </tr>\n",
       "  </tbody>\n",
       "</table>\n",
       "<p>5 rows × 22 columns</p>\n",
       "</div>"
      ],
      "text/plain": [
       "                 SCI  staff_positive  staff_negative  staff_pending  \\\n",
       "0             Albion            24.0            26.0           33.0   \n",
       "1    Benner Township            56.0            56.0           71.0   \n",
       "2  Cambridge Springs            11.0            17.0            9.0   \n",
       "3          Camp Hill           102.0            93.0           58.0   \n",
       "4            Chester           120.0            28.0           69.0   \n",
       "\n",
       "   staff_death  staff_recovered  incarcerated_person_positive  \\\n",
       "0          NaN              2.0                          10.0   \n",
       "1          NaN             45.0                          48.0   \n",
       "2          NaN              1.0                          26.0   \n",
       "3          1.0             63.0                         115.0   \n",
       "4          NaN             38.0                         163.0   \n",
       "\n",
       "   incarcerated_person_negative  incarcerated_person_pending  \\\n",
       "0                         468.0                        157.0   \n",
       "1                         389.0                        111.0   \n",
       "2                         556.0                         89.0   \n",
       "3                        4383.0                       2819.0   \n",
       "4                         720.0                        183.0   \n",
       "\n",
       "   incarcerated_person_death  ...  test_transfer_positive  test_release  \\\n",
       "0                        NaN  ...                     2.0         329.0   \n",
       "1                        1.0  ...                     0.0         267.0   \n",
       "2                        NaN  ...                     0.0         427.0   \n",
       "3                        1.0  ...                    32.0         581.0   \n",
       "4                        4.0  ...                     6.0         449.0   \n",
       "\n",
       "   test_release_positive  test_hospital  test_hospital_positive  \\\n",
       "0                    3.0          113.0                     5.0   \n",
       "1                    4.0           18.0                     2.0   \n",
       "2                    4.0           23.0                     1.0   \n",
       "3                    7.0           24.0                     4.0   \n",
       "4                   21.0           13.0                     6.0   \n",
       "\n",
       "   test_surveilance  test_surveilance_positive  test_symptomatic  \\\n",
       "0               2.0                        0.0               4.0   \n",
       "1              90.0                       14.0              35.0   \n",
       "2              79.0                        1.0              29.0   \n",
       "3             799.0                       60.0              25.0   \n",
       "4             170.0                       28.0             107.0   \n",
       "\n",
       "   test_symptomatic_positive  test_miscellaneous  \n",
       "0                        0.0                 NaN  \n",
       "1                       28.0                 NaN  \n",
       "2                       20.0                 NaN  \n",
       "3                       10.0                 NaN  \n",
       "4                      100.0                 NaN  \n",
       "\n",
       "[5 rows x 22 columns]"
      ]
     },
     "execution_count": 158,
     "metadata": {},
     "output_type": "execute_result"
    }
   ],
   "source": [
    "d1.head()"
   ]
  },
  {
   "cell_type": "code",
   "execution_count": 159,
   "metadata": {},
   "outputs": [
    {
     "data": {
      "text/html": [
       "<div>\n",
       "<style scoped>\n",
       "    .dataframe tbody tr th:only-of-type {\n",
       "        vertical-align: middle;\n",
       "    }\n",
       "\n",
       "    .dataframe tbody tr th {\n",
       "        vertical-align: top;\n",
       "    }\n",
       "\n",
       "    .dataframe thead th {\n",
       "        text-align: right;\n",
       "    }\n",
       "</style>\n",
       "<table border=\"1\" class=\"dataframe\">\n",
       "  <thead>\n",
       "    <tr style=\"text-align: right;\">\n",
       "      <th></th>\n",
       "      <th>SCI</th>\n",
       "      <th>staff_positive</th>\n",
       "      <th>staff_negative</th>\n",
       "      <th>staff_pending</th>\n",
       "      <th>staff_death</th>\n",
       "      <th>staff_recovered</th>\n",
       "      <th>incarcerated_person_positive</th>\n",
       "      <th>incarcerated_person_negative</th>\n",
       "      <th>incarcerated_person_pending</th>\n",
       "      <th>incarcerated_person_death</th>\n",
       "      <th>...</th>\n",
       "      <th>test_transfer_positive</th>\n",
       "      <th>test_release</th>\n",
       "      <th>test_release_positive</th>\n",
       "      <th>test_hospital</th>\n",
       "      <th>test_hospital_positive</th>\n",
       "      <th>test_surveilance</th>\n",
       "      <th>test_surveilance_positive</th>\n",
       "      <th>test_symptomatic</th>\n",
       "      <th>test_symptomatic_positive</th>\n",
       "      <th>test_miscellaneous</th>\n",
       "    </tr>\n",
       "  </thead>\n",
       "  <tbody>\n",
       "    <tr>\n",
       "      <th>0</th>\n",
       "      <td>Albion</td>\n",
       "      <td>25.0</td>\n",
       "      <td>26.0</td>\n",
       "      <td>33.0</td>\n",
       "      <td>NaN</td>\n",
       "      <td>2.0</td>\n",
       "      <td>10.0</td>\n",
       "      <td>468.0</td>\n",
       "      <td>157.0</td>\n",
       "      <td>NaN</td>\n",
       "      <td>...</td>\n",
       "      <td>2.0</td>\n",
       "      <td>329.0</td>\n",
       "      <td>3.0</td>\n",
       "      <td>113.0</td>\n",
       "      <td>5.0</td>\n",
       "      <td>2.0</td>\n",
       "      <td>0.0</td>\n",
       "      <td>4.0</td>\n",
       "      <td>0.0</td>\n",
       "      <td>NaN</td>\n",
       "    </tr>\n",
       "    <tr>\n",
       "      <th>1</th>\n",
       "      <td>Benner Township</td>\n",
       "      <td>63.0</td>\n",
       "      <td>56.0</td>\n",
       "      <td>71.0</td>\n",
       "      <td>NaN</td>\n",
       "      <td>45.0</td>\n",
       "      <td>48.0</td>\n",
       "      <td>389.0</td>\n",
       "      <td>111.0</td>\n",
       "      <td>1.0</td>\n",
       "      <td>...</td>\n",
       "      <td>0.0</td>\n",
       "      <td>267.0</td>\n",
       "      <td>4.0</td>\n",
       "      <td>18.0</td>\n",
       "      <td>2.0</td>\n",
       "      <td>90.0</td>\n",
       "      <td>14.0</td>\n",
       "      <td>35.0</td>\n",
       "      <td>28.0</td>\n",
       "      <td>NaN</td>\n",
       "    </tr>\n",
       "    <tr>\n",
       "      <th>2</th>\n",
       "      <td>Cambridge Springs</td>\n",
       "      <td>14.0</td>\n",
       "      <td>17.0</td>\n",
       "      <td>9.0</td>\n",
       "      <td>NaN</td>\n",
       "      <td>1.0</td>\n",
       "      <td>26.0</td>\n",
       "      <td>556.0</td>\n",
       "      <td>89.0</td>\n",
       "      <td>NaN</td>\n",
       "      <td>...</td>\n",
       "      <td>0.0</td>\n",
       "      <td>427.0</td>\n",
       "      <td>4.0</td>\n",
       "      <td>23.0</td>\n",
       "      <td>1.0</td>\n",
       "      <td>79.0</td>\n",
       "      <td>1.0</td>\n",
       "      <td>29.0</td>\n",
       "      <td>20.0</td>\n",
       "      <td>NaN</td>\n",
       "    </tr>\n",
       "    <tr>\n",
       "      <th>3</th>\n",
       "      <td>Camp Hill</td>\n",
       "      <td>106.0</td>\n",
       "      <td>93.0</td>\n",
       "      <td>58.0</td>\n",
       "      <td>1.0</td>\n",
       "      <td>63.0</td>\n",
       "      <td>115.0</td>\n",
       "      <td>4383.0</td>\n",
       "      <td>2819.0</td>\n",
       "      <td>1.0</td>\n",
       "      <td>...</td>\n",
       "      <td>32.0</td>\n",
       "      <td>581.0</td>\n",
       "      <td>7.0</td>\n",
       "      <td>24.0</td>\n",
       "      <td>4.0</td>\n",
       "      <td>799.0</td>\n",
       "      <td>60.0</td>\n",
       "      <td>25.0</td>\n",
       "      <td>10.0</td>\n",
       "      <td>NaN</td>\n",
       "    </tr>\n",
       "    <tr>\n",
       "      <th>4</th>\n",
       "      <td>Chester</td>\n",
       "      <td>120.0</td>\n",
       "      <td>28.0</td>\n",
       "      <td>69.0</td>\n",
       "      <td>NaN</td>\n",
       "      <td>38.0</td>\n",
       "      <td>163.0</td>\n",
       "      <td>720.0</td>\n",
       "      <td>183.0</td>\n",
       "      <td>4.0</td>\n",
       "      <td>...</td>\n",
       "      <td>6.0</td>\n",
       "      <td>449.0</td>\n",
       "      <td>21.0</td>\n",
       "      <td>13.0</td>\n",
       "      <td>6.0</td>\n",
       "      <td>170.0</td>\n",
       "      <td>28.0</td>\n",
       "      <td>107.0</td>\n",
       "      <td>100.0</td>\n",
       "      <td>NaN</td>\n",
       "    </tr>\n",
       "  </tbody>\n",
       "</table>\n",
       "<p>5 rows × 22 columns</p>\n",
       "</div>"
      ],
      "text/plain": [
       "                 SCI  staff_positive  staff_negative  staff_pending  \\\n",
       "0             Albion            25.0            26.0           33.0   \n",
       "1    Benner Township            63.0            56.0           71.0   \n",
       "2  Cambridge Springs            14.0            17.0            9.0   \n",
       "3          Camp Hill           106.0            93.0           58.0   \n",
       "4            Chester           120.0            28.0           69.0   \n",
       "\n",
       "   staff_death  staff_recovered  incarcerated_person_positive  \\\n",
       "0          NaN              2.0                          10.0   \n",
       "1          NaN             45.0                          48.0   \n",
       "2          NaN              1.0                          26.0   \n",
       "3          1.0             63.0                         115.0   \n",
       "4          NaN             38.0                         163.0   \n",
       "\n",
       "   incarcerated_person_negative  incarcerated_person_pending  \\\n",
       "0                         468.0                        157.0   \n",
       "1                         389.0                        111.0   \n",
       "2                         556.0                         89.0   \n",
       "3                        4383.0                       2819.0   \n",
       "4                         720.0                        183.0   \n",
       "\n",
       "   incarcerated_person_death  ...  test_transfer_positive  test_release  \\\n",
       "0                        NaN  ...                     2.0         329.0   \n",
       "1                        1.0  ...                     0.0         267.0   \n",
       "2                        NaN  ...                     0.0         427.0   \n",
       "3                        1.0  ...                    32.0         581.0   \n",
       "4                        4.0  ...                     6.0         449.0   \n",
       "\n",
       "   test_release_positive  test_hospital  test_hospital_positive  \\\n",
       "0                    3.0          113.0                     5.0   \n",
       "1                    4.0           18.0                     2.0   \n",
       "2                    4.0           23.0                     1.0   \n",
       "3                    7.0           24.0                     4.0   \n",
       "4                   21.0           13.0                     6.0   \n",
       "\n",
       "   test_surveilance  test_surveilance_positive  test_symptomatic  \\\n",
       "0               2.0                        0.0               4.0   \n",
       "1              90.0                       14.0              35.0   \n",
       "2              79.0                        1.0              29.0   \n",
       "3             799.0                       60.0              25.0   \n",
       "4             170.0                       28.0             107.0   \n",
       "\n",
       "   test_symptomatic_positive  test_miscellaneous  \n",
       "0                        0.0                 NaN  \n",
       "1                       28.0                 NaN  \n",
       "2                       20.0                 NaN  \n",
       "3                       10.0                 NaN  \n",
       "4                      100.0                 NaN  \n",
       "\n",
       "[5 rows x 22 columns]"
      ]
     },
     "execution_count": 159,
     "metadata": {},
     "output_type": "execute_result"
    }
   ],
   "source": [
    "d2.head()"
   ]
  },
  {
   "cell_type": "code",
   "execution_count": 179,
   "metadata": {},
   "outputs": [
    {
     "data": {
      "text/html": [
       "<div>\n",
       "<style scoped>\n",
       "    .dataframe tbody tr th:only-of-type {\n",
       "        vertical-align: middle;\n",
       "    }\n",
       "\n",
       "    .dataframe tbody tr th {\n",
       "        vertical-align: top;\n",
       "    }\n",
       "\n",
       "    .dataframe thead th {\n",
       "        text-align: right;\n",
       "    }\n",
       "</style>\n",
       "<table border=\"1\" class=\"dataframe\">\n",
       "  <thead>\n",
       "    <tr style=\"text-align: right;\">\n",
       "      <th></th>\n",
       "      <th>0</th>\n",
       "      <th>1</th>\n",
       "    </tr>\n",
       "  </thead>\n",
       "  <tbody>\n",
       "    <tr>\n",
       "      <th>0</th>\n",
       "      <td>24.0</td>\n",
       "      <td>25.0</td>\n",
       "    </tr>\n",
       "    <tr>\n",
       "      <th>1</th>\n",
       "      <td>56.0</td>\n",
       "      <td>63.0</td>\n",
       "    </tr>\n",
       "    <tr>\n",
       "      <th>2</th>\n",
       "      <td>11.0</td>\n",
       "      <td>14.0</td>\n",
       "    </tr>\n",
       "    <tr>\n",
       "      <th>3</th>\n",
       "      <td>102.0</td>\n",
       "      <td>106.0</td>\n",
       "    </tr>\n",
       "    <tr>\n",
       "      <th>4</th>\n",
       "      <td>120.0</td>\n",
       "      <td>120.0</td>\n",
       "    </tr>\n",
       "    <tr>\n",
       "      <th>5</th>\n",
       "      <td>35.0</td>\n",
       "      <td>39.0</td>\n",
       "    </tr>\n",
       "    <tr>\n",
       "      <th>6</th>\n",
       "      <td>143.0</td>\n",
       "      <td>153.0</td>\n",
       "    </tr>\n",
       "    <tr>\n",
       "      <th>7</th>\n",
       "      <td>19.0</td>\n",
       "      <td>24.0</td>\n",
       "    </tr>\n",
       "    <tr>\n",
       "      <th>8</th>\n",
       "      <td>19.0</td>\n",
       "      <td>21.0</td>\n",
       "    </tr>\n",
       "    <tr>\n",
       "      <th>9</th>\n",
       "      <td>22.0</td>\n",
       "      <td>26.0</td>\n",
       "    </tr>\n",
       "    <tr>\n",
       "      <th>10</th>\n",
       "      <td>53.0</td>\n",
       "      <td>65.0</td>\n",
       "    </tr>\n",
       "    <tr>\n",
       "      <th>11</th>\n",
       "      <td>12.0</td>\n",
       "      <td>18.0</td>\n",
       "    </tr>\n",
       "    <tr>\n",
       "      <th>12</th>\n",
       "      <td>94.0</td>\n",
       "      <td>95.0</td>\n",
       "    </tr>\n",
       "    <tr>\n",
       "      <th>13</th>\n",
       "      <td>56.0</td>\n",
       "      <td>59.0</td>\n",
       "    </tr>\n",
       "    <tr>\n",
       "      <th>14</th>\n",
       "      <td>13.0</td>\n",
       "      <td>25.0</td>\n",
       "    </tr>\n",
       "    <tr>\n",
       "      <th>15</th>\n",
       "      <td>39.0</td>\n",
       "      <td>50.0</td>\n",
       "    </tr>\n",
       "    <tr>\n",
       "      <th>16</th>\n",
       "      <td>28.0</td>\n",
       "      <td>31.0</td>\n",
       "    </tr>\n",
       "    <tr>\n",
       "      <th>17</th>\n",
       "      <td>138.0</td>\n",
       "      <td>141.0</td>\n",
       "    </tr>\n",
       "    <tr>\n",
       "      <th>18</th>\n",
       "      <td>47.0</td>\n",
       "      <td>51.0</td>\n",
       "    </tr>\n",
       "    <tr>\n",
       "      <th>19</th>\n",
       "      <td>7.0</td>\n",
       "      <td>7.0</td>\n",
       "    </tr>\n",
       "    <tr>\n",
       "      <th>20</th>\n",
       "      <td>4.0</td>\n",
       "      <td>4.0</td>\n",
       "    </tr>\n",
       "    <tr>\n",
       "      <th>21</th>\n",
       "      <td>71.0</td>\n",
       "      <td>89.0</td>\n",
       "    </tr>\n",
       "    <tr>\n",
       "      <th>22</th>\n",
       "      <td>73.0</td>\n",
       "      <td>87.0</td>\n",
       "    </tr>\n",
       "    <tr>\n",
       "      <th>23</th>\n",
       "      <td>70.0</td>\n",
       "      <td>70.0</td>\n",
       "    </tr>\n",
       "    <tr>\n",
       "      <th>24</th>\n",
       "      <td>25.0</td>\n",
       "      <td>27.0</td>\n",
       "    </tr>\n",
       "  </tbody>\n",
       "</table>\n",
       "</div>"
      ],
      "text/plain": [
       "        0      1\n",
       "0    24.0   25.0\n",
       "1    56.0   63.0\n",
       "2    11.0   14.0\n",
       "3   102.0  106.0\n",
       "4   120.0  120.0\n",
       "5    35.0   39.0\n",
       "6   143.0  153.0\n",
       "7    19.0   24.0\n",
       "8    19.0   21.0\n",
       "9    22.0   26.0\n",
       "10   53.0   65.0\n",
       "11   12.0   18.0\n",
       "12   94.0   95.0\n",
       "13   56.0   59.0\n",
       "14   13.0   25.0\n",
       "15   39.0   50.0\n",
       "16   28.0   31.0\n",
       "17  138.0  141.0\n",
       "18   47.0   51.0\n",
       "19    7.0    7.0\n",
       "20    4.0    4.0\n",
       "21   71.0   89.0\n",
       "22   73.0   87.0\n",
       "23   70.0   70.0\n",
       "24   25.0   27.0"
      ]
     },
     "execution_count": 179,
     "metadata": {},
     "output_type": "execute_result"
    }
   ],
   "source": [
    "pd.DataFrame(zip(d1['staff_positive'],d2['staff_positive']))"
   ]
  },
  {
   "cell_type": "code",
   "execution_count": 171,
   "metadata": {},
   "outputs": [
    {
     "name": "stdout",
     "output_type": "stream",
     "text": [
      "SCI True\n",
      "staff_positive False\n",
      "staff_negative True\n",
      "staff_pending True\n",
      "staff_death True\n",
      "staff_recovered True\n",
      "incarcerated_person_positive True\n",
      "incarcerated_person_negative True\n",
      "incarcerated_person_pending True\n",
      "incarcerated_person_death True\n",
      "incarcerated_person_recovered True\n",
      "test_transfer True\n",
      "test_transfer_positive True\n",
      "test_release True\n",
      "test_release_positive True\n",
      "test_hospital True\n",
      "test_hospital_positive True\n",
      "test_surveilance True\n",
      "test_surveilance_positive True\n",
      "test_symptomatic True\n",
      "test_symptomatic_positive True\n",
      "test_miscellaneous True\n"
     ]
    }
   ],
   "source": [
    "for c in cols_for_comparison:\n",
    "    print(c, d1[c].equals(d2[c]))"
   ]
  },
  {
   "cell_type": "code",
   "execution_count": 142,
   "metadata": {},
   "outputs": [],
   "source": [
    "cols_for_comparison = [c for c in doc_df.columns if not c.endswith('_new') and c!='date.1']"
   ]
  },
  {
   "cell_type": "code",
   "execution_count": 143,
   "metadata": {},
   "outputs": [
    {
     "data": {
      "text/plain": [
       "['SCI',\n",
       " 'staff_positive',\n",
       " 'staff_negative',\n",
       " 'staff_pending',\n",
       " 'staff_death',\n",
       " 'staff_recovered',\n",
       " 'incarcerated_person_positive',\n",
       " 'incarcerated_person_negative',\n",
       " 'incarcerated_person_pending',\n",
       " 'incarcerated_person_death',\n",
       " 'incarcerated_person_recovered',\n",
       " 'test_transfer',\n",
       " 'test_transfer_positive',\n",
       " 'test_release',\n",
       " 'test_release_positive',\n",
       " 'test_hospital',\n",
       " 'test_hospital_positive',\n",
       " 'test_surveilance',\n",
       " 'test_surveilance_positive',\n",
       " 'test_symptomatic',\n",
       " 'test_symptomatic_positive',\n",
       " 'test_miscellaneous']"
      ]
     },
     "execution_count": 143,
     "metadata": {},
     "output_type": "execute_result"
    }
   ],
   "source": [
    "cols_for_comparison"
   ]
  },
  {
   "cell_type": "code",
   "execution_count": null,
   "metadata": {},
   "outputs": [],
   "source": []
  }
 ],
 "metadata": {
  "kernelspec": {
   "display_name": "Python 3",
   "language": "python",
   "name": "python3"
  },
  "language_info": {
   "codemirror_mode": {
    "name": "ipython",
    "version": 3
   },
   "file_extension": ".py",
   "mimetype": "text/x-python",
   "name": "python",
   "nbconvert_exporter": "python",
   "pygments_lexer": "ipython3",
   "version": "3.7.3"
  }
 },
 "nbformat": 4,
 "nbformat_minor": 4
}
