{
 "cells": [
  {
   "cell_type": "code",
   "execution_count": 1,
   "metadata": {},
   "outputs": [],
   "source": [
    "import pandas as pd"
   ]
  },
  {
   "cell_type": "code",
   "execution_count": 2,
   "metadata": {},
   "outputs": [],
   "source": [
    "df = pd.read_csv('../data/latest_data/PA_DOC_testing_data.csv')"
   ]
  },
  {
   "cell_type": "code",
   "execution_count": 40,
   "metadata": {},
   "outputs": [],
   "source": [
    "most_recent = df.groupby('SCI').last()"
   ]
  },
  {
   "cell_type": "code",
   "execution_count": 41,
   "metadata": {},
   "outputs": [],
   "source": [
    "most_recent['inmate_tests'] = most_recent['inmate_positive'] + most_recent['inmate_negative'] + most_recent['inmate_pending']\n",
    "most_recent['inmate_current_cases'] = most_recent['inmate_positive'] - most_recent['inmate_recovered']\n",
    "most_recent['inmate_current_pr'] = most_recent['inmate_positive_D'] / (most_recent['inmate_negative_D'] + most_recent['inmate_positive_D'])"
   ]
  },
  {
   "cell_type": "code",
   "execution_count": 43,
   "metadata": {},
   "outputs": [],
   "source": [
    "most_recent = most_recent.reset_index()\n",
    "most_recent = most_recent[['inmate_tests','inmate_current_cases','inmate_death','SCI']]"
   ]
  },
  {
   "cell_type": "code",
   "execution_count": 44,
   "metadata": {},
   "outputs": [],
   "source": [
    "most_recent = most_recent.fillna(0)"
   ]
  },
  {
   "cell_type": "code",
   "execution_count": 47,
   "metadata": {},
   "outputs": [],
   "source": [
    "most_recent[['inmate_tests','inmate_current_cases','inmate_death']]=most_recent[['inmate_tests','inmate_current_cases','inmate_death']].astype(int)"
   ]
  },
  {
   "cell_type": "code",
   "execution_count": 49,
   "metadata": {},
   "outputs": [],
   "source": [
    "\n",
    "most_recent.to_csv('../_data/most_recent_inmateData.csv')"
   ]
  },
  {
   "cell_type": "code",
   "execution_count": null,
   "metadata": {},
   "outputs": [],
   "source": []
  }
 ],
 "metadata": {
  "kernelspec": {
   "display_name": "Python 3",
   "language": "python",
   "name": "python3"
  },
  "language_info": {
   "codemirror_mode": {
    "name": "ipython",
    "version": 3
   },
   "file_extension": ".py",
   "mimetype": "text/x-python",
   "name": "python",
   "nbconvert_exporter": "python",
   "pygments_lexer": "ipython3",
   "version": "3.7.5"
  }
 },
 "nbformat": 4,
 "nbformat_minor": 2
}
