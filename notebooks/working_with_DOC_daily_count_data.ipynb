{
 "cells": [
  {
   "cell_type": "code",
   "execution_count": 166,
   "metadata": {},
   "outputs": [],
   "source": [
    "import camelot\n",
    "import pandas as pd\n",
    "import re\n",
    "import os\n",
    "import warnings\n",
    "import matplotlib.pyplot as plt\n",
    "\n",
    "warnings.filterwarnings('ignore')"
   ]
  },
  {
   "cell_type": "code",
   "execution_count": null,
   "metadata": {},
   "outputs": [],
   "source": []
  },
  {
   "cell_type": "code",
   "execution_count": 128,
   "metadata": {},
   "outputs": [],
   "source": [
    "def process_dailycount_pdf(fname):\n",
    "    \n",
    "    date_RE = re.compile(r'((\\d{1,2})/(\\d{1,2})/(202\\d))')\n",
    "    \n",
    "    sci_map = { 'Quehanna': 'Quehanna BC',\n",
    "                'Coal Twnp': 'Coal Township',\n",
    "                'Benner': 'Benner Township',\n",
    "                'Laurel High':'Laurel Highlands'\n",
    "              }\n",
    "  \n",
    "    colmap = {\n",
    "     'Inmate Active Positive Cases': 'incarcerated_person_active_cases',\n",
    "     'Asymptomatic Inmate Positive': 'incarcerated_person_active_cases_asymptomatic',\n",
    "     'Asymptomatic Inmate Positive Cases':'incarcerated_person_active_cases_asymptomatic',\n",
    "     'Inmate Deaths To Date': 'incarcerated_person_deaths',\n",
    "     'Employee Active Positive Cases': 'staff_active_cases',\n",
    "     'Employee Deaths To Date': 'staff_deaths' ,\n",
    "     'Sci': 'SCI'\n",
    "    }\n",
    "    \n",
    "    \n",
    "    # 1. process PDF file with camelot\n",
    "    fpath = f'../data/DOC_daily_counts/{fname}'\n",
    "    tlist=camelot.read_pdf(fpath)\n",
    "    \n",
    "    # 2. extract date from first row heading\n",
    "    cdate=date_RE.search(tlist[0].df.loc[0][0]).group()\n",
    "    \n",
    "    # 3. get column names from 2nd row\n",
    "    colnames = [c.replace('\\n','').title() for c in tlist[0].df.loc[1].to_list()]\n",
    "\n",
    "    # 4. create data frame \n",
    "    tdf=tlist[0].df.loc[2:25]\n",
    "    tdf.columns = colnames\n",
    "    tdf.rename(columns=colmap, inplace=True)\n",
    "    tdf.loc[:,'date']=pd.to_datetime(cdate)\n",
    "    \n",
    "    tdf.loc[:,'SCI'] = tdf['SCI'].str.replace('\\n','').str.title().replace(sci_map)\n",
    "    \n",
    "    #tdf=tdf.set_index(pd.DatetimeIndex(tdf['date']))\n",
    "    #tdf.drop(columns='date', inplace=True)\n",
    "    \n",
    "    return tdf"
   ]
  },
  {
   "cell_type": "code",
   "execution_count": 103,
   "metadata": {},
   "outputs": [],
   "source": [
    "tdf=process_dailycount_pdf('PA-DOC-COVID-19-Daily-Count-Mon_Feb__1_12:59:53_EST_2021.pdf')"
   ]
  },
  {
   "cell_type": "code",
   "execution_count": 104,
   "metadata": {},
   "outputs": [
    {
     "data": {
      "text/plain": [
       "array(['Albion', 'Benner Township', 'Cambridge Springs', 'Camp Hill',\n",
       "       'Chester', 'Coal Township', 'Dallas', 'Fayette', 'Forest',\n",
       "       'Frackville', 'Greene', 'Houtzdale', 'Huntingdon',\n",
       "       'Laurel Highlands', 'Mahanoy', 'Mercer', 'Muncy', 'Phoenix',\n",
       "       'Pine Grove', 'Quehanna BC', 'Rockview', 'Smithfield', 'Somerset',\n",
       "       'Waymart'], dtype=object)"
      ]
     },
     "execution_count": 104,
     "metadata": {},
     "output_type": "execute_result"
    }
   ],
   "source": [
    "tdf['SCI'].unique()"
   ]
  },
  {
   "cell_type": "code",
   "execution_count": 105,
   "metadata": {},
   "outputs": [
    {
     "data": {
      "text/html": [
       "<div>\n",
       "<style scoped>\n",
       "    .dataframe tbody tr th:only-of-type {\n",
       "        vertical-align: middle;\n",
       "    }\n",
       "\n",
       "    .dataframe tbody tr th {\n",
       "        vertical-align: top;\n",
       "    }\n",
       "\n",
       "    .dataframe thead th {\n",
       "        text-align: right;\n",
       "    }\n",
       "</style>\n",
       "<table border=\"1\" class=\"dataframe\">\n",
       "  <thead>\n",
       "    <tr style=\"text-align: right;\">\n",
       "      <th></th>\n",
       "      <th>SCI</th>\n",
       "      <th>incarcerated_person_active_cases</th>\n",
       "      <th>incarcerated_person_active_cases_asymptomatic</th>\n",
       "      <th>incarcerated_person_deaths</th>\n",
       "      <th>staff_active_cases</th>\n",
       "      <th>staff_deaths</th>\n",
       "    </tr>\n",
       "    <tr>\n",
       "      <th>date</th>\n",
       "      <th></th>\n",
       "      <th></th>\n",
       "      <th></th>\n",
       "      <th></th>\n",
       "      <th></th>\n",
       "      <th></th>\n",
       "    </tr>\n",
       "  </thead>\n",
       "  <tbody>\n",
       "    <tr>\n",
       "      <th>2021-01-29</th>\n",
       "      <td>Albion</td>\n",
       "      <td>103</td>\n",
       "      <td>73</td>\n",
       "      <td>2</td>\n",
       "      <td>35</td>\n",
       "      <td>0</td>\n",
       "    </tr>\n",
       "    <tr>\n",
       "      <th>2021-01-29</th>\n",
       "      <td>Benner Township</td>\n",
       "      <td>25</td>\n",
       "      <td>10</td>\n",
       "      <td>5</td>\n",
       "      <td>7</td>\n",
       "      <td>0</td>\n",
       "    </tr>\n",
       "    <tr>\n",
       "      <th>2021-01-29</th>\n",
       "      <td>Cambridge Springs</td>\n",
       "      <td>4</td>\n",
       "      <td>1</td>\n",
       "      <td>1</td>\n",
       "      <td>5</td>\n",
       "      <td>0</td>\n",
       "    </tr>\n",
       "    <tr>\n",
       "      <th>2021-01-29</th>\n",
       "      <td>Camp Hill</td>\n",
       "      <td>9</td>\n",
       "      <td>7</td>\n",
       "      <td>3</td>\n",
       "      <td>27</td>\n",
       "      <td>1</td>\n",
       "    </tr>\n",
       "    <tr>\n",
       "      <th>2021-01-29</th>\n",
       "      <td>Chester</td>\n",
       "      <td>3</td>\n",
       "      <td>3</td>\n",
       "      <td>10</td>\n",
       "      <td>9</td>\n",
       "      <td>0</td>\n",
       "    </tr>\n",
       "    <tr>\n",
       "      <th>2021-01-29</th>\n",
       "      <td>Coal Township</td>\n",
       "      <td>14</td>\n",
       "      <td>8</td>\n",
       "      <td>0</td>\n",
       "      <td>40</td>\n",
       "      <td>0</td>\n",
       "    </tr>\n",
       "    <tr>\n",
       "      <th>2021-01-29</th>\n",
       "      <td>Dallas</td>\n",
       "      <td>3</td>\n",
       "      <td>2</td>\n",
       "      <td>9</td>\n",
       "      <td>21</td>\n",
       "      <td>0</td>\n",
       "    </tr>\n",
       "    <tr>\n",
       "      <th>2021-01-29</th>\n",
       "      <td>Fayette</td>\n",
       "      <td>6</td>\n",
       "      <td>5</td>\n",
       "      <td>2</td>\n",
       "      <td>9</td>\n",
       "      <td>1</td>\n",
       "    </tr>\n",
       "    <tr>\n",
       "      <th>2021-01-29</th>\n",
       "      <td>Forest</td>\n",
       "      <td>97</td>\n",
       "      <td>83</td>\n",
       "      <td>4</td>\n",
       "      <td>18</td>\n",
       "      <td>0</td>\n",
       "    </tr>\n",
       "    <tr>\n",
       "      <th>2021-01-29</th>\n",
       "      <td>Frackville</td>\n",
       "      <td>5</td>\n",
       "      <td>4</td>\n",
       "      <td>0</td>\n",
       "      <td>6</td>\n",
       "      <td>0</td>\n",
       "    </tr>\n",
       "    <tr>\n",
       "      <th>2021-01-29</th>\n",
       "      <td>Greene</td>\n",
       "      <td>11</td>\n",
       "      <td>11</td>\n",
       "      <td>1</td>\n",
       "      <td>7</td>\n",
       "      <td>0</td>\n",
       "    </tr>\n",
       "    <tr>\n",
       "      <th>2021-01-29</th>\n",
       "      <td>Houtzdale</td>\n",
       "      <td>19</td>\n",
       "      <td>3</td>\n",
       "      <td>1</td>\n",
       "      <td>9</td>\n",
       "      <td>1</td>\n",
       "    </tr>\n",
       "    <tr>\n",
       "      <th>2021-01-29</th>\n",
       "      <td>Huntingdon</td>\n",
       "      <td>9</td>\n",
       "      <td>6</td>\n",
       "      <td>7</td>\n",
       "      <td>11</td>\n",
       "      <td>0</td>\n",
       "    </tr>\n",
       "    <tr>\n",
       "      <th>2021-01-29</th>\n",
       "      <td>Laurel Highlands</td>\n",
       "      <td>12</td>\n",
       "      <td>12</td>\n",
       "      <td>11</td>\n",
       "      <td>10</td>\n",
       "      <td>0</td>\n",
       "    </tr>\n",
       "    <tr>\n",
       "      <th>2021-01-29</th>\n",
       "      <td>Mahanoy</td>\n",
       "      <td>22</td>\n",
       "      <td>2</td>\n",
       "      <td>4</td>\n",
       "      <td>9</td>\n",
       "      <td>0</td>\n",
       "    </tr>\n",
       "    <tr>\n",
       "      <th>2021-01-29</th>\n",
       "      <td>Mercer</td>\n",
       "      <td>4</td>\n",
       "      <td>3</td>\n",
       "      <td>4</td>\n",
       "      <td>3</td>\n",
       "      <td>0</td>\n",
       "    </tr>\n",
       "    <tr>\n",
       "      <th>2021-01-29</th>\n",
       "      <td>Muncy</td>\n",
       "      <td>16</td>\n",
       "      <td>12</td>\n",
       "      <td>1</td>\n",
       "      <td>8</td>\n",
       "      <td>0</td>\n",
       "    </tr>\n",
       "    <tr>\n",
       "      <th>2021-01-29</th>\n",
       "      <td>Phoenix</td>\n",
       "      <td>26</td>\n",
       "      <td>16</td>\n",
       "      <td>11</td>\n",
       "      <td>35</td>\n",
       "      <td>0</td>\n",
       "    </tr>\n",
       "    <tr>\n",
       "      <th>2021-01-29</th>\n",
       "      <td>Pine Grove</td>\n",
       "      <td>0</td>\n",
       "      <td>0</td>\n",
       "      <td>1</td>\n",
       "      <td>7</td>\n",
       "      <td>0</td>\n",
       "    </tr>\n",
       "    <tr>\n",
       "      <th>2021-01-29</th>\n",
       "      <td>Quehanna BC</td>\n",
       "      <td>15</td>\n",
       "      <td>0</td>\n",
       "      <td>0</td>\n",
       "      <td>4</td>\n",
       "      <td>0</td>\n",
       "    </tr>\n",
       "    <tr>\n",
       "      <th>2021-01-29</th>\n",
       "      <td>Rockview</td>\n",
       "      <td>3</td>\n",
       "      <td>3</td>\n",
       "      <td>1</td>\n",
       "      <td>2</td>\n",
       "      <td>0</td>\n",
       "    </tr>\n",
       "    <tr>\n",
       "      <th>2021-01-29</th>\n",
       "      <td>Smithfield</td>\n",
       "      <td>69</td>\n",
       "      <td>69</td>\n",
       "      <td>6</td>\n",
       "      <td>5</td>\n",
       "      <td>1</td>\n",
       "    </tr>\n",
       "    <tr>\n",
       "      <th>2021-01-29</th>\n",
       "      <td>Somerset</td>\n",
       "      <td>1</td>\n",
       "      <td>1</td>\n",
       "      <td>4</td>\n",
       "      <td>8</td>\n",
       "      <td>0</td>\n",
       "    </tr>\n",
       "    <tr>\n",
       "      <th>2021-01-29</th>\n",
       "      <td>Waymart</td>\n",
       "      <td>164</td>\n",
       "      <td>143</td>\n",
       "      <td>5</td>\n",
       "      <td>28</td>\n",
       "      <td>0</td>\n",
       "    </tr>\n",
       "  </tbody>\n",
       "</table>\n",
       "</div>"
      ],
      "text/plain": [
       "                          SCI incarcerated_person_active_cases  \\\n",
       "date                                                             \n",
       "2021-01-29             Albion                              103   \n",
       "2021-01-29    Benner Township                               25   \n",
       "2021-01-29  Cambridge Springs                                4   \n",
       "2021-01-29          Camp Hill                                9   \n",
       "2021-01-29            Chester                                3   \n",
       "2021-01-29      Coal Township                               14   \n",
       "2021-01-29             Dallas                                3   \n",
       "2021-01-29            Fayette                                6   \n",
       "2021-01-29             Forest                               97   \n",
       "2021-01-29         Frackville                                5   \n",
       "2021-01-29             Greene                               11   \n",
       "2021-01-29          Houtzdale                               19   \n",
       "2021-01-29         Huntingdon                                9   \n",
       "2021-01-29   Laurel Highlands                               12   \n",
       "2021-01-29            Mahanoy                               22   \n",
       "2021-01-29             Mercer                                4   \n",
       "2021-01-29              Muncy                               16   \n",
       "2021-01-29            Phoenix                               26   \n",
       "2021-01-29         Pine Grove                                0   \n",
       "2021-01-29        Quehanna BC                               15   \n",
       "2021-01-29           Rockview                                3   \n",
       "2021-01-29         Smithfield                               69   \n",
       "2021-01-29           Somerset                                1   \n",
       "2021-01-29            Waymart                              164   \n",
       "\n",
       "           incarcerated_person_active_cases_asymptomatic  \\\n",
       "date                                                       \n",
       "2021-01-29                                            73   \n",
       "2021-01-29                                            10   \n",
       "2021-01-29                                             1   \n",
       "2021-01-29                                             7   \n",
       "2021-01-29                                             3   \n",
       "2021-01-29                                             8   \n",
       "2021-01-29                                             2   \n",
       "2021-01-29                                             5   \n",
       "2021-01-29                                            83   \n",
       "2021-01-29                                             4   \n",
       "2021-01-29                                            11   \n",
       "2021-01-29                                             3   \n",
       "2021-01-29                                             6   \n",
       "2021-01-29                                            12   \n",
       "2021-01-29                                             2   \n",
       "2021-01-29                                             3   \n",
       "2021-01-29                                            12   \n",
       "2021-01-29                                            16   \n",
       "2021-01-29                                             0   \n",
       "2021-01-29                                             0   \n",
       "2021-01-29                                             3   \n",
       "2021-01-29                                            69   \n",
       "2021-01-29                                             1   \n",
       "2021-01-29                                           143   \n",
       "\n",
       "           incarcerated_person_deaths staff_active_cases staff_deaths  \n",
       "date                                                                   \n",
       "2021-01-29                          2                 35            0  \n",
       "2021-01-29                          5                  7            0  \n",
       "2021-01-29                          1                  5            0  \n",
       "2021-01-29                          3                 27            1  \n",
       "2021-01-29                         10                  9            0  \n",
       "2021-01-29                          0                 40            0  \n",
       "2021-01-29                          9                 21            0  \n",
       "2021-01-29                          2                  9            1  \n",
       "2021-01-29                          4                 18            0  \n",
       "2021-01-29                          0                  6            0  \n",
       "2021-01-29                          1                  7            0  \n",
       "2021-01-29                          1                  9            1  \n",
       "2021-01-29                          7                 11            0  \n",
       "2021-01-29                         11                 10            0  \n",
       "2021-01-29                          4                  9            0  \n",
       "2021-01-29                          4                  3            0  \n",
       "2021-01-29                          1                  8            0  \n",
       "2021-01-29                         11                 35            0  \n",
       "2021-01-29                          1                  7            0  \n",
       "2021-01-29                          0                  4            0  \n",
       "2021-01-29                          1                  2            0  \n",
       "2021-01-29                          6                  5            1  \n",
       "2021-01-29                          4                  8            0  \n",
       "2021-01-29                          5                 28            0  "
      ]
     },
     "execution_count": 105,
     "metadata": {},
     "output_type": "execute_result"
    }
   ],
   "source": [
    "tdf"
   ]
  },
  {
   "cell_type": "code",
   "execution_count": 92,
   "metadata": {},
   "outputs": [
    {
     "data": {
      "text/plain": [
       "['SCI',\n",
       " 'Inmate Active Positive Cases',\n",
       " 'Asymptomatic Inmate Positive',\n",
       " 'Inmate Deaths to date',\n",
       " 'Employee Active Positive Cases',\n",
       " 'Employee Deaths to date']"
      ]
     },
     "execution_count": 92,
     "metadata": {},
     "output_type": "execute_result"
    }
   ],
   "source": [
    "colnames"
   ]
  },
  {
   "cell_type": "code",
   "execution_count": 93,
   "metadata": {},
   "outputs": [],
   "source": []
  },
  {
   "cell_type": "code",
   "execution_count": 243,
   "metadata": {},
   "outputs": [
    {
     "name": "stdout",
     "output_type": "stream",
     "text": [
      "PA-DOC-COVID-19-Daily-Count-Tue_Feb__2_16:22:45_EST_2021.pdf\n",
      "PA-DOC-COVID-19-Daily-Count-Wed_Feb_10_09:31:20_EST_2021.pdf\n",
      "PA-DOC-COVID-19-Daily-Count-Fri_Feb__5_12:45:18_EST_2021.pdf\n",
      "PA-DOC-COVID-19-Daily-Count-Wed_Feb_10_13:29:58_EST_2021.pdf\n",
      "PA-DOC-COVID-19-Daily-Count-Mon_Feb__1_12:59:53_EST_2021.pdf\n",
      "PA-DOC-COVID-19-Daily-Count-Thu_Feb4_14:00_EST_2021.pdf\n",
      "PA-DOC-COVID-19-Daily-Count-Mon_Feb__8_11:52:44_EST_2021.pdf\n",
      "PA-DOC-COVID-19-Daily-Count-Fri_Jan_29_15:07:03_EST_2021.pdf\n",
      "PA-DOC-COVID-19-Daily-Count-Wed_Feb__3_12:22:45_EST_2021.pdf\n"
     ]
    }
   ],
   "source": [
    "fnames = [f for f in os.listdir('../data/DOC_daily_counts/') if f.count('COVID')>0]\n",
    "#fnames.sort()\n",
    "\n",
    "data = []\n",
    "\n",
    "for fname in fnames:\n",
    "    print(fname)\n",
    "    data.append(process_dailycount_pdf(fname))\n",
    "    \n",
    "cdf = pd.concat(data)"
   ]
  },
  {
   "cell_type": "code",
   "execution_count": 244,
   "metadata": {
    "scrolled": false
   },
   "outputs": [],
   "source": [
    "cdf=cdf.sort_values(['date','SCI']).set_index('date', drop=True)"
   ]
  },
  {
   "cell_type": "code",
   "execution_count": 245,
   "metadata": {},
   "outputs": [],
   "source": [
    "\n",
    "cdf.sort_values('SCI', inplace=True)\n",
    "cdf.sort_index(inplace=True)"
   ]
  },
  {
   "cell_type": "code",
   "execution_count": 246,
   "metadata": {},
   "outputs": [
    {
     "data": {
      "text/plain": [
       "DatetimeIndex(['2021-01-28', '2021-01-29', '2021-02-01', '2021-02-02',\n",
       "               '2021-02-03', '2021-02-04', '2021-02-05', '2021-02-08',\n",
       "               '2021-02-09'],\n",
       "              dtype='datetime64[ns]', name='date', freq=None)"
      ]
     },
     "execution_count": 246,
     "metadata": {},
     "output_type": "execute_result"
    }
   ],
   "source": [
    "cdf.index.unique()"
   ]
  },
  {
   "cell_type": "code",
   "execution_count": 247,
   "metadata": {},
   "outputs": [],
   "source": [
    "cdf.to_csv('../data/latest_data/PA_DOC_Daily_Counts.csv')"
   ]
  },
  {
   "cell_type": "code",
   "execution_count": 248,
   "metadata": {},
   "outputs": [],
   "source": [
    "cdf = pd.read_csv('../data/latest_data/PA_DOC_Daily_Counts.csv', parse_dates=True, index_col='date')"
   ]
  },
  {
   "cell_type": "code",
   "execution_count": 249,
   "metadata": {},
   "outputs": [
    {
     "data": {
      "text/plain": [
       "<AxesSubplot:xlabel='date'>"
      ]
     },
     "execution_count": 249,
     "metadata": {},
     "output_type": "execute_result"
    },
    {
     "data": {
      "image/png": "[encoded data removed]",
      "text/plain": [
       "<Figure size 432x288 with 1 Axes>"
      ]
     },
     "metadata": {
      "needs_background": "light"
     },
     "output_type": "display_data"
    }
   ],
   "source": [
    "cdf.groupby(cdf.index)['incarcerated_person_active_cases'].sum().plot(kind='bar')"
   ]
  },
  {
   "cell_type": "code",
   "execution_count": 250,
   "metadata": {
    "scrolled": false
   },
   "outputs": [
    {
     "data": {
      "image/png": "[encoded data removed]",
      "text/plain": [
       "<Figure size 288x72 with 1 Axes>"
      ]
     },
     "metadata": {
      "needs_background": "light"
     },
     "output_type": "display_data"
    },
    {
     "data": {
      "image/png": "[encoded data removed]",
      "text/plain": [
       "<Figure size 288x72 with 1 Axes>"
      ]
     },
     "metadata": {
      "needs_background": "light"
     },
     "output_type": "display_data"
    },
    {
     "data": {
      "image/png": "[encoded data removed]",
      "text/plain": [
       "<Figure size 288x72 with 1 Axes>"
      ]
     },
     "metadata": {
      "needs_background": "light"
     },
     "output_type": "display_data"
    },
    {
     "data": {
      "image/png": "[encoded data removed]",
      "text/plain": [
       "<Figure size 288x72 with 1 Axes>"
      ]
     },
     "metadata": {
      "needs_background": "light"
     },
     "output_type": "display_data"
    },
    {
     "data": {
      "image/png": "[encoded data removed]",
      "text/plain": [
       "<Figure size 288x72 with 1 Axes>"
      ]
     },
     "metadata": {
      "needs_background": "light"
     },
     "output_type": "display_data"
    },
    {
     "data": {
      "image/png": "[encoded data removed]",
      "text/plain": [
       "<Figure size 288x72 with 1 Axes>"
      ]
     },
     "metadata": {
      "needs_background": "light"
     },
     "output_type": "display_data"
    },
    {
     "data": {
      "image/png": "[encoded data removed]",
      "text/plain": [
       "<Figure size 288x72 with 1 Axes>"
      ]
     },
     "metadata": {
      "needs_background": "light"
     },
     "output_type": "display_data"
    },
    {
     "data": {
      "image/png": "[encoded data removed]",
      "text/plain": [
       "<Figure size 288x72 with 1 Axes>"
      ]
     },
     "metadata": {
      "needs_background": "light"
     },
     "output_type": "display_data"
    },
    {
     "data": {
      "image/png": "[encoded data removed]",
      "text/plain": [
       "<Figure size 288x72 with 1 Axes>"
      ]
     },
     "metadata": {
      "needs_background": "light"
     },
     "output_type": "display_data"
    },
    {
     "data": {
      "image/png": "[encoded data removed]",
      "text/plain": [
       "<Figure size 288x72 with 1 Axes>"
      ]
     },
     "metadata": {
      "needs_background": "light"
     },
     "output_type": "display_data"
    },
    {
     "data": {
      "image/png": "[encoded data removed]",
      "text/plain": [
       "<Figure size 288x72 with 1 Axes>"
      ]
     },
     "metadata": {
      "needs_background": "light"
     },
     "output_type": "display_data"
    },
    {
     "data": {
      "image/png": "[encoded data removed]",
      "text/plain": [
       "<Figure size 288x72 with 1 Axes>"
      ]
     },
     "metadata": {
      "needs_background": "light"
     },
     "output_type": "display_data"
    },
    {
     "data": {
      "image/png": "[encoded data removed]",
      "text/plain": [
       "<Figure size 288x72 with 1 Axes>"
      ]
     },
     "metadata": {
      "needs_background": "light"
     },
     "output_type": "display_data"
    },
    {
     "data": {
      "image/png": "[encoded data removed]",
      "text/plain": [
       "<Figure size 288x72 with 1 Axes>"
      ]
     },
     "metadata": {
      "needs_background": "light"
     },
     "output_type": "display_data"
    },
    {
     "data": {
      "image/png": "[encoded data removed]",
      "text/plain": [
       "<Figure size 288x72 with 1 Axes>"
      ]
     },
     "metadata": {
      "needs_background": "light"
     },
     "output_type": "display_data"
    },
    {
     "data": {
      "image/png": "[encoded data removed]",
      "text/plain": [
       "<Figure size 288x72 with 1 Axes>"
      ]
     },
     "metadata": {
      "needs_background": "light"
     },
     "output_type": "display_data"
    },
    {
     "data": {
      "image/png": "[encoded data removed]",
      "text/plain": [
       "<Figure size 288x72 with 1 Axes>"
      ]
     },
     "metadata": {
      "needs_background": "light"
     },
     "output_type": "display_data"
    },
    {
     "data": {
      "image/png": "[encoded data removed]",
      "text/plain": [
       "<Figure size 288x72 with 1 Axes>"
      ]
     },
     "metadata": {
      "needs_background": "light"
     },
     "output_type": "display_data"
    },
    {
     "data": {
      "image/png": "[encoded data removed]",
      "text/plain": [
       "<Figure size 288x72 with 1 Axes>"
      ]
     },
     "metadata": {
      "needs_background": "light"
     },
     "output_type": "display_data"
    },
    {
     "data": {
      "image/png": "[encoded data removed]",
      "text/plain": [
       "<Figure size 288x72 with 1 Axes>"
      ]
     },
     "metadata": {
      "needs_background": "light"
     },
     "output_type": "display_data"
    },
    {
     "data": {
      "image/png": "[encoded data removed]",
      "text/plain": [
       "<Figure size 288x72 with 1 Axes>"
      ]
     },
     "metadata": {
      "needs_background": "light"
     },
     "output_type": "display_data"
    },
    {
     "data": {
      "image/png": "[encoded data removed]",
      "text/plain": [
       "<Figure size 288x72 with 1 Axes>"
      ]
     },
     "metadata": {
      "needs_background": "light"
     },
     "output_type": "display_data"
    },
    {
     "data": {
      "image/png": "[encoded data removed]",
      "text/plain": [
       "<Figure size 288x72 with 1 Axes>"
      ]
     },
     "metadata": {
      "needs_background": "light"
     },
     "output_type": "display_data"
    },
    {
     "data": {
      "image/png": "[encoded data removed]",
      "text/plain": [
       "<Figure size 288x72 with 1 Axes>"
      ]
     },
     "metadata": {
      "needs_background": "light"
     },
     "output_type": "display_data"
    }
   ],
   "source": [
    "for sci, sdf in cdf.groupby(cdf['SCI']):\n",
    "    sdf['incarcerated_person_active_cases'].plot(title=sci, figsize=(4,1), linestyle='--')\n",
    "    plt.ylim([0,sdf['incarcerated_person_active_cases'].max()*1.1])\n",
    "    plt.show()"
   ]
  },
  {
   "cell_type": "code",
   "execution_count": 251,
   "metadata": {},
   "outputs": [
    {
     "data": {
      "text/html": [
       "<div>\n",
       "<style scoped>\n",
       "    .dataframe tbody tr th:only-of-type {\n",
       "        vertical-align: middle;\n",
       "    }\n",
       "\n",
       "    .dataframe tbody tr th {\n",
       "        vertical-align: top;\n",
       "    }\n",
       "\n",
       "    .dataframe thead th {\n",
       "        text-align: right;\n",
       "    }\n",
       "</style>\n",
       "<table border=\"1\" class=\"dataframe\">\n",
       "  <thead>\n",
       "    <tr style=\"text-align: right;\">\n",
       "      <th></th>\n",
       "      <th>SCI</th>\n",
       "      <th>incarcerated_person_active_cases</th>\n",
       "      <th>incarcerated_person_active_cases_asymptomatic</th>\n",
       "      <th>incarcerated_person_deaths</th>\n",
       "      <th>staff_active_cases</th>\n",
       "      <th>staff_deaths</th>\n",
       "    </tr>\n",
       "    <tr>\n",
       "      <th>date</th>\n",
       "      <th></th>\n",
       "      <th></th>\n",
       "      <th></th>\n",
       "      <th></th>\n",
       "      <th></th>\n",
       "      <th></th>\n",
       "    </tr>\n",
       "  </thead>\n",
       "  <tbody>\n",
       "    <tr>\n",
       "      <th>2021-01-28</th>\n",
       "      <td>Albion</td>\n",
       "      <td>88</td>\n",
       "      <td>58</td>\n",
       "      <td>2</td>\n",
       "      <td>40</td>\n",
       "      <td>0</td>\n",
       "    </tr>\n",
       "    <tr>\n",
       "      <th>2021-01-28</th>\n",
       "      <td>Coal Township</td>\n",
       "      <td>14</td>\n",
       "      <td>8</td>\n",
       "      <td>0</td>\n",
       "      <td>36</td>\n",
       "      <td>0</td>\n",
       "    </tr>\n",
       "    <tr>\n",
       "      <th>2021-01-28</th>\n",
       "      <td>Dallas</td>\n",
       "      <td>1</td>\n",
       "      <td>0</td>\n",
       "      <td>9</td>\n",
       "      <td>21</td>\n",
       "      <td>0</td>\n",
       "    </tr>\n",
       "    <tr>\n",
       "      <th>2021-01-28</th>\n",
       "      <td>Fayette</td>\n",
       "      <td>5</td>\n",
       "      <td>4</td>\n",
       "      <td>2</td>\n",
       "      <td>9</td>\n",
       "      <td>1</td>\n",
       "    </tr>\n",
       "    <tr>\n",
       "      <th>2021-01-28</th>\n",
       "      <td>Camp Hill</td>\n",
       "      <td>10</td>\n",
       "      <td>9</td>\n",
       "      <td>3</td>\n",
       "      <td>29</td>\n",
       "      <td>1</td>\n",
       "    </tr>\n",
       "    <tr>\n",
       "      <th>...</th>\n",
       "      <td>...</td>\n",
       "      <td>...</td>\n",
       "      <td>...</td>\n",
       "      <td>...</td>\n",
       "      <td>...</td>\n",
       "      <td>...</td>\n",
       "    </tr>\n",
       "    <tr>\n",
       "      <th>2021-02-09</th>\n",
       "      <td>Rockview</td>\n",
       "      <td>0</td>\n",
       "      <td>0</td>\n",
       "      <td>1</td>\n",
       "      <td>0</td>\n",
       "      <td>0</td>\n",
       "    </tr>\n",
       "    <tr>\n",
       "      <th>2021-02-09</th>\n",
       "      <td>Huntingdon</td>\n",
       "      <td>5</td>\n",
       "      <td>3</td>\n",
       "      <td>7</td>\n",
       "      <td>3</td>\n",
       "      <td>0</td>\n",
       "    </tr>\n",
       "    <tr>\n",
       "      <th>2021-02-09</th>\n",
       "      <td>Houtzdale</td>\n",
       "      <td>15</td>\n",
       "      <td>7</td>\n",
       "      <td>1</td>\n",
       "      <td>8</td>\n",
       "      <td>1</td>\n",
       "    </tr>\n",
       "    <tr>\n",
       "      <th>2021-02-09</th>\n",
       "      <td>Somerset</td>\n",
       "      <td>0</td>\n",
       "      <td>0</td>\n",
       "      <td>4</td>\n",
       "      <td>7</td>\n",
       "      <td>0</td>\n",
       "    </tr>\n",
       "    <tr>\n",
       "      <th>2021-02-09</th>\n",
       "      <td>Waymart</td>\n",
       "      <td>87</td>\n",
       "      <td>68</td>\n",
       "      <td>11</td>\n",
       "      <td>18</td>\n",
       "      <td>0</td>\n",
       "    </tr>\n",
       "  </tbody>\n",
       "</table>\n",
       "<p>216 rows × 6 columns</p>\n",
       "</div>"
      ],
      "text/plain": [
       "                      SCI  incarcerated_person_active_cases  \\\n",
       "date                                                          \n",
       "2021-01-28         Albion                                88   \n",
       "2021-01-28  Coal Township                                14   \n",
       "2021-01-28         Dallas                                 1   \n",
       "2021-01-28        Fayette                                 5   \n",
       "2021-01-28      Camp Hill                                10   \n",
       "...                   ...                               ...   \n",
       "2021-02-09       Rockview                                 0   \n",
       "2021-02-09     Huntingdon                                 5   \n",
       "2021-02-09      Houtzdale                                15   \n",
       "2021-02-09       Somerset                                 0   \n",
       "2021-02-09        Waymart                                87   \n",
       "\n",
       "            incarcerated_person_active_cases_asymptomatic  \\\n",
       "date                                                        \n",
       "2021-01-28                                             58   \n",
       "2021-01-28                                              8   \n",
       "2021-01-28                                              0   \n",
       "2021-01-28                                              4   \n",
       "2021-01-28                                              9   \n",
       "...                                                   ...   \n",
       "2021-02-09                                              0   \n",
       "2021-02-09                                              3   \n",
       "2021-02-09                                              7   \n",
       "2021-02-09                                              0   \n",
       "2021-02-09                                             68   \n",
       "\n",
       "            incarcerated_person_deaths  staff_active_cases  staff_deaths  \n",
       "date                                                                      \n",
       "2021-01-28                           2                  40             0  \n",
       "2021-01-28                           0                  36             0  \n",
       "2021-01-28                           9                  21             0  \n",
       "2021-01-28                           2                   9             1  \n",
       "2021-01-28                           3                  29             1  \n",
       "...                                ...                 ...           ...  \n",
       "2021-02-09                           1                   0             0  \n",
       "2021-02-09                           7                   3             0  \n",
       "2021-02-09                           1                   8             1  \n",
       "2021-02-09                           4                   7             0  \n",
       "2021-02-09                          11                  18             0  \n",
       "\n",
       "[216 rows x 6 columns]"
      ]
     },
     "execution_count": 251,
     "metadata": {},
     "output_type": "execute_result"
    }
   ],
   "source": [
    "cdf"
   ]
  },
  {
   "cell_type": "code",
   "execution_count": 231,
   "metadata": {},
   "outputs": [
    {
     "data": {
      "text/plain": [
       "SCI                                              AlbionBenner TownshipCambridge SpringsCamp Hil...\n",
       "incarcerated_person_active_cases                                                               493\n",
       "incarcerated_person_active_cases_asymptomatic                                                  344\n",
       "incarcerated_person_deaths                                                                      97\n",
       "staff_active_cases                                                                             262\n",
       "staff_deaths                                                                                     4\n",
       "dtype: object"
      ]
     },
     "execution_count": 231,
     "metadata": {},
     "output_type": "execute_result"
    }
   ],
   "source": [
    "cdf.loc['2021-02-05'].sum(axis=0)"
   ]
  },
  {
   "cell_type": "code",
   "execution_count": null,
   "metadata": {},
   "outputs": [],
   "source": []
  }
 ],
 "metadata": {
  "kernelspec": {
   "display_name": "Python 3",
   "language": "python",
   "name": "python3"
  },
  "language_info": {
   "codemirror_mode": {
    "name": "ipython",
    "version": 3
   },
   "file_extension": ".py",
   "mimetype": "text/x-python",
   "name": "python",
   "nbconvert_exporter": "python",
   "pygments_lexer": "ipython3",
   "version": "3.7.3"
  }
 },
 "nbformat": 4,
 "nbformat_minor": 4
}
